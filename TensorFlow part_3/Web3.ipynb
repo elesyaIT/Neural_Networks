{
  "nbformat": 4,
  "nbformat_minor": 0,
  "metadata": {
    "colab": {
      "provenance": [],
      "collapsed_sections": [],
      "toc_visible": true
    },
    "kernelspec": {
      "display_name": "Python 3",
      "language": "python",
      "name": "python3"
    },
    "language_info": {
      "codemirror_mode": {
        "name": "ipython",
        "version": 3
      },
      "file_extension": ".py",
      "mimetype": "text/x-python",
      "name": "python",
      "nbconvert_exporter": "python",
      "pygments_lexer": "ipython3",
      "version": "3.7.6"
    },
    "accelerator": "GPU"
  },
  "cells": [
    {
      "cell_type": "markdown",
      "metadata": {
        "id": "j9uRd98UFzPL"
      },
      "source": [
        "# Введение в искусственные нейронные сети\n",
        "# Урок 3. TensorFlow"
      ]
    },
    {
      "cell_type": "markdown",
      "metadata": {
        "id": "k3iOZn2wFzPQ"
      },
      "source": [
        "## Содержание методического пособия:\n",
        "\n",
        "\n",
        "<ol>\n",
        "<li>Что такое TensorFlow</li>\n",
        "<li>Основы синтаксиса TensorFlow</li>\n",
        "<li>Пример нейросети на TensorFlow</li>\n",
        "</ol>"
      ]
    },
    {
      "cell_type": "markdown",
      "metadata": {
        "id": "Sx3Su3u6FzPS"
      },
      "source": [
        "## Что такое TensorFlow\n",
        "\n",
        "TensorFlow - это фреймворк для создания ML моделей. TensorFlow предназначен в первую очередь для Deep Learning, т.е. создания современных нейросетей. Однако в TensorFlow также есть поддержка некоторых классических ML алгоритмов: K-means clustering, Random Forests, Support Vector Machines, Gaussian Mixture Model clustering, Linear/logistic regression.\n",
        "\n",
        "TensorFlow выпустила компания Google в 2015. TensorFlow - это opensource проект. На данный момент это один из основных инструментов для создания нейросетей в рабочих целях. TensorFlow позволяет создавать нейронные сети как для кластеров из большого количества вычислительных устройств, так и для устройств с относительно небольшой вычислитей мощностью, таких как смартфоны и одноплатные компьютеры.\n",
        "\n",
        "TensorFlow применяется самой компанией Google для ее поиска, почты, переводчика, распознования голоса, внутренних нужд наподобие мониторинга оборудования. TensorFlow используется различными компаниями для различных проектов, связанных с компьютерным зрением, решением задач ранжирования и т.д.\n",
        "\n",
        "\n",
        "<img src=\"https://drive.google.com/uc?export=view&id=1YSzD1P42f8aEjE7V6bKcu3kc2oLsOFaY\" width=600px />"
      ]
    },
    {
      "cell_type": "markdown",
      "metadata": {
        "id": "mBqyxNwdFzPU"
      },
      "source": [
        "## Основы синтаксиса TensorFlow\n",
        "\n",
        "Процесс создания нейросети на TensorFlow схож с разобранным нами процессом обучения нейросети на Keras. Отличее здесь в том, что здесь нам нужно прописать больше деталей в коде. \n",
        "\n",
        "Особенностью TensorFlow версии 1 является то, что сначала необходимо декларировать переменные и вычисления, которые будут совершены над ними, а потом уже непосредственно запускать работу над данными.\n",
        "Tf версии 1 менее дружественный к разработчикам."
      ]
    },
    {
      "cell_type": "markdown",
      "metadata": {
        "id": "NTDIFFhhFzPW"
      },
      "source": [
        "Давайте рассмотрим базовые вещи в синтаксисе Tensorflow 2."
      ]
    },
    {
      "cell_type": "code",
      "metadata": {
        "id": "A4Hcl_IoHv7n"
      },
      "source": [
        "#!pip install tensorflow"
      ],
      "execution_count": null,
      "outputs": []
    },
    {
      "cell_type": "code",
      "metadata": {
        "id": "75BVCTdbFzPa",
        "colab": {
          "base_uri": "https://localhost:8080/"
        },
        "outputId": "7048a4c9-c08b-4e55-ad8c-fa3ca411eabf"
      },
      "source": [
        "import tensorflow as tf\n",
        "import numpy as np\n",
        "\n",
        "print(tf.__version__)"
      ],
      "execution_count": null,
      "outputs": [
        {
          "output_type": "stream",
          "name": "stdout",
          "text": [
            "2.9.2\n"
          ]
        }
      ]
    },
    {
      "cell_type": "code",
      "metadata": {
        "id": "CGsyoNWj6oZj",
        "colab": {
          "base_uri": "https://localhost:8080/"
        },
        "outputId": "e6cc3913-8bb8-4f14-ad02-0945baab0c55"
      },
      "source": [
        "tf.config.list_physical_devices('GPU')"
      ],
      "execution_count": null,
      "outputs": [
        {
          "output_type": "execute_result",
          "data": {
            "text/plain": [
              "[PhysicalDevice(name='/physical_device:GPU:0', device_type='GPU')]"
            ]
          },
          "metadata": {},
          "execution_count": 4
        }
      ]
    },
    {
      "cell_type": "code",
      "metadata": {
        "colab": {
          "base_uri": "https://localhost:8080/"
        },
        "id": "5JL0-iQ4lbIM",
        "outputId": "2d75ea51-69f7-4907-94f5-e427c16eb515"
      },
      "source": [
        "!nvidia-smi"
      ],
      "execution_count": null,
      "outputs": [
        {
          "output_type": "stream",
          "name": "stdout",
          "text": [
            "Wed Oct 26 16:04:08 2022       \n",
            "+-----------------------------------------------------------------------------+\n",
            "| NVIDIA-SMI 460.32.03    Driver Version: 460.32.03    CUDA Version: 11.2     |\n",
            "|-------------------------------+----------------------+----------------------+\n",
            "| GPU  Name        Persistence-M| Bus-Id        Disp.A | Volatile Uncorr. ECC |\n",
            "| Fan  Temp  Perf  Pwr:Usage/Cap|         Memory-Usage | GPU-Util  Compute M. |\n",
            "|                               |                      |               MIG M. |\n",
            "|===============================+======================+======================|\n",
            "|   0  Tesla T4            Off  | 00000000:00:04.0 Off |                    0 |\n",
            "| N/A   35C    P8     9W /  70W |      3MiB / 15109MiB |      0%      Default |\n",
            "|                               |                      |                  N/A |\n",
            "+-------------------------------+----------------------+----------------------+\n",
            "                                                                               \n",
            "+-----------------------------------------------------------------------------+\n",
            "| Processes:                                                                  |\n",
            "|  GPU   GI   CI        PID   Type   Process name                  GPU Memory |\n",
            "|        ID   ID                                                   Usage      |\n",
            "|=============================================================================|\n",
            "|  No running processes found                                                 |\n",
            "+-----------------------------------------------------------------------------+\n"
          ]
        }
      ]
    },
    {
      "cell_type": "markdown",
      "metadata": {
        "id": "JZzcooQUe83I"
      },
      "source": [
        "\n",
        "Название TensorFlow означает поток тензоров. Тензоры - это массивы. Данные в компьютере представлены часто в виде массивах и работа с этими массивами подразумевает их преобразования. Преобразования осуществляются через, к примеру, математические операции. Работа TensorFlow складывается из цепочки преобразований тензоров, т.е. данных. Сами операции осуществляющие преобразование данных представлены в TensorFlow в виде графов.\n",
        "\n",
        "<img src='https://drive.google.com/uc?export=view&id=1pDiSoBIL8IBpIFq3R4OKGRW3YseBRvFm'>\n",
        "\n",
        "\n",
        "Визуализизация тензора с более чем двумя осями:\n",
        "\n",
        "<img src='https://drive.google.com/uc?Export=view&id=1C6pu0iDx1Ugz2OMyE9d6KZH9IcN3-STG'>\n",
        "<img src='https://drive.google.com/uc?export=view&id=1cmVLwGNLc8fkDpmNZreTecMNCXgD6zGl'>\n",
        "<img src='https://drive.google.com/uc?export=view&id=1XiGSZVsVQrlH279eu2IK1bekSvccX6aT'>\n",
        "\n",
        "Все тензоры неизменны, как числа и строки Python: вы никогда не можете обновить содержимое тензора, только создать новый."
      ]
    },
    {
      "cell_type": "markdown",
      "metadata": {
        "id": "S4ZN0rdqFzPh"
      },
      "source": [
        "Пример создания тензора «скаляра» или «ранга 0». Скаляр содержит одно значение и не содержит «осей».\n",
        "\n"
      ]
    },
    {
      "cell_type": "code",
      "metadata": {
        "colab": {
          "base_uri": "https://localhost:8080/"
        },
        "id": "ok8XBconl8yA",
        "outputId": "4327fef6-b3e4-423f-e7c4-37e892177290"
      },
      "source": [
        "tf.constant(3)"
      ],
      "execution_count": null,
      "outputs": [
        {
          "output_type": "execute_result",
          "data": {
            "text/plain": [
              "<tf.Tensor: shape=(), dtype=int32, numpy=3>"
            ]
          },
          "metadata": {},
          "execution_count": 4
        }
      ]
    },
    {
      "cell_type": "markdown",
      "metadata": {
        "id": "POx5-AKumIq-"
      },
      "source": [
        "Тензор «вектора» или «ранга 1» подобен списку значений. Вектор имеет одну ось.\n",
        "\n"
      ]
    },
    {
      "cell_type": "code",
      "metadata": {
        "colab": {
          "base_uri": "https://localhost:8080/"
        },
        "id": "Tu0MLmb8mJfW",
        "outputId": "d0c169b3-e53d-4815-f9af-58f2d7445439"
      },
      "source": [
        "tf.constant([2.0, 3.0, 4.0])"
      ],
      "execution_count": null,
      "outputs": [
        {
          "output_type": "execute_result",
          "data": {
            "text/plain": [
              "<tf.Tensor: shape=(3,), dtype=float32, numpy=array([2., 3., 4.], dtype=float32)>"
            ]
          },
          "metadata": {},
          "execution_count": 5
        }
      ]
    },
    {
      "cell_type": "markdown",
      "metadata": {
        "id": "edImEJJ2mRVG"
      },
      "source": [
        "Тензор «матрицы» или «ранга 2» имеет две оси.\n",
        "\n"
      ]
    },
    {
      "cell_type": "code",
      "metadata": {
        "id": "VATG0L6IFzPj",
        "colab": {
          "base_uri": "https://localhost:8080/"
        },
        "outputId": "a3c90b96-6717-40d1-f075-a1428a727a78"
      },
      "source": [
        "A = tf.constant([[3, 2], \n",
        "                 [5, 2]])\n",
        "\n",
        "A"
      ],
      "execution_count": null,
      "outputs": [
        {
          "output_type": "execute_result",
          "data": {
            "text/plain": [
              "<tf.Tensor: shape=(2, 2), dtype=int32, numpy=\n",
              "array([[3, 2],\n",
              "       [5, 2]], dtype=int32)>"
            ]
          },
          "metadata": {},
          "execution_count": 6
        }
      ]
    },
    {
      "cell_type": "markdown",
      "metadata": {
        "id": "svJkkz1om4uc"
      },
      "source": [
        "Вы можете преобразовать тензор в массив NumPy либо с помощью np.array либо с tensor.numpy метода tensor.numpy."
      ]
    },
    {
      "cell_type": "code",
      "metadata": {
        "colab": {
          "base_uri": "https://localhost:8080/",
          "height": 86
        },
        "id": "13w3RsEkm7wI",
        "outputId": "4edeedc5-beba-41c0-c590-7295e8433043"
      },
      "source": [
        "display(np.array(A), A.numpy())"
      ],
      "execution_count": null,
      "outputs": [
        {
          "output_type": "display_data",
          "data": {
            "text/plain": [
              "array([[3, 2],\n",
              "       [5, 2]], dtype=int32)"
            ]
          },
          "metadata": {}
        },
        {
          "output_type": "display_data",
          "data": {
            "text/plain": [
              "array([[3, 2],\n",
              "       [5, 2]], dtype=int32)"
            ]
          },
          "metadata": {}
        }
      ]
    },
    {
      "cell_type": "markdown",
      "metadata": {
        "id": "van47kdAFzPp"
      },
      "source": [
        "Пример сложения и поэлементного умножения тензоров."
      ]
    },
    {
      "cell_type": "code",
      "metadata": {
        "id": "wYwJYGSvFzPr",
        "colab": {
          "base_uri": "https://localhost:8080/"
        },
        "outputId": "3d4a0061-3151-46ba-f470-d1ce21a6a5f2"
      },
      "source": [
        "B = tf.constant([[9, 5], \n",
        "                 [1, 3]])\n",
        "\n",
        "\n",
        "print(tf.add(A, B), \"\\n\")\n",
        "print(A + B, \"\\n\")\n",
        "\n",
        "\n",
        "print(tf.multiply(A, B), \"\\n\")\n",
        "print(A * B, \"\\n\")\n",
        "\n",
        "\n",
        "AB = tf.concat(values=[A, B], axis=0)\n",
        "print(AB.numpy())"
      ],
      "execution_count": null,
      "outputs": [
        {
          "output_type": "stream",
          "name": "stdout",
          "text": [
            "tf.Tensor(\n",
            "[[12  7]\n",
            " [ 6  5]], shape=(2, 2), dtype=int32) \n",
            "\n",
            "tf.Tensor(\n",
            "[[12  7]\n",
            " [ 6  5]], shape=(2, 2), dtype=int32) \n",
            "\n",
            "tf.Tensor(\n",
            "[[27 10]\n",
            " [ 5  6]], shape=(2, 2), dtype=int32) \n",
            "\n",
            "tf.Tensor(\n",
            "[[27 10]\n",
            " [ 5  6]], shape=(2, 2), dtype=int32) \n",
            "\n",
            "[[3 2]\n",
            " [5 2]\n",
            " [9 5]\n",
            " [1 3]]\n"
          ]
        }
      ]
    },
    {
      "cell_type": "markdown",
      "metadata": {
        "id": "XTfjbLKLFzPx"
      },
      "source": [
        "Пример изменения размерности тензора. "
      ]
    },
    {
      "cell_type": "code",
      "metadata": {
        "id": "Yk_mB4qGFzPz",
        "colab": {
          "base_uri": "https://localhost:8080/"
        },
        "outputId": "437cb626-9a6f-416e-93f0-303d8a1d13b0"
      },
      "source": [
        "tensor = tf.constant([[3, 2], \n",
        "                      [5, 2], \n",
        "                      [9, 5], \n",
        "                      [1, 3]])\n",
        "\n",
        "resh_tensor = tf.reshape(tensor=tensor, shape=(1, 8)) \n",
        "\n",
        "print(f'BEFORE {tensor.numpy()}')\n",
        "print(f'AFTER {resh_tensor.numpy()}')"
      ],
      "execution_count": null,
      "outputs": [
        {
          "output_type": "stream",
          "name": "stdout",
          "text": [
            "BEFORE [[3 2]\n",
            " [5 2]\n",
            " [9 5]\n",
            " [1 3]]\n",
            "AFTER [[3 2 5 2 9 5 1 3]]\n"
          ]
        }
      ]
    },
    {
      "cell_type": "markdown",
      "metadata": {
        "id": "txp4OBMXFzP6"
      },
      "source": [
        "Пример матричного умножения."
      ]
    },
    {
      "cell_type": "code",
      "metadata": {
        "id": "2VM7TqHlFzP8",
        "colab": {
          "base_uri": "https://localhost:8080/"
        },
        "outputId": "9b6c9638-0b40-4a66-a4a7-687307bb380c"
      },
      "source": [
        "A = tf.constant([[3, 7], \n",
        "                 [1, 9],\n",
        "                 [1, 2]])\n",
        "\n",
        "\n",
        "B = tf.constant([[10, 10],\n",
        "                 [1, 1]])\n",
        "\n",
        "print(A.shape, B.shape, \"\\n\")\n",
        "\n",
        "print(tf.matmul(A, B), \"\\n\")\n",
        "print(A @ B, \"\\n\")"
      ],
      "execution_count": null,
      "outputs": [
        {
          "output_type": "stream",
          "name": "stdout",
          "text": [
            "(3, 2) (2, 2) \n",
            "\n",
            "tf.Tensor(\n",
            "[[37 37]\n",
            " [19 19]\n",
            " [12 12]], shape=(3, 2), dtype=int32) \n",
            "\n",
            "tf.Tensor(\n",
            "[[37 37]\n",
            " [19 19]\n",
            " [12 12]], shape=(3, 2), dtype=int32) \n",
            "\n"
          ]
        }
      ]
    },
    {
      "cell_type": "code",
      "metadata": {
        "id": "iwFVgO3t_Ghj",
        "colab": {
          "base_uri": "https://localhost:8080/"
        },
        "outputId": "dfcad8ae-2125-45a8-82ed-c06fd8c0d56f"
      },
      "source": [
        "x = tf.random.uniform([3, 3])\n",
        "\n",
        "print(\"есть ли доступные GPU:\"),\n",
        "print(tf.config.list_physical_devices(\"GPU\"))\n",
        "\n",
        "print(\"\\nгде находится тензор\")\n",
        "print(x.device)"
      ],
      "execution_count": null,
      "outputs": [
        {
          "output_type": "stream",
          "name": "stdout",
          "text": [
            "есть ли доступные GPU:\n",
            "[PhysicalDevice(name='/physical_device:GPU:0', device_type='GPU')]\n",
            "\n",
            "где находится тензор\n",
            "/job:localhost/replica:0/task:0/device:GPU:0\n"
          ]
        }
      ]
    },
    {
      "cell_type": "code",
      "metadata": {
        "id": "oajro_Ip_hap",
        "colab": {
          "base_uri": "https://localhost:8080/"
        },
        "outputId": "c9af55a6-7aa7-46e9-dbf9-5c982fc8072a"
      },
      "source": [
        "import time\n",
        "\n",
        "def time_matmul(x):\n",
        "  start = time.time()\n",
        "  for loop in range(10):\n",
        "    tf.matmul(x, x)\n",
        "\n",
        "  result = time.time() - start\n",
        "\n",
        "  print(\"10 циклов: {:0.2f}ms\".format(1000 * result))\n",
        "\n",
        "# исполнение CPU\n",
        "print(\"CPU:\")\n",
        "with tf.device(\"CPU:0\"):\n",
        "  x = tf.random.uniform([1000, 1000])\n",
        "  assert x.device.endswith(\"CPU:0\")\n",
        "  time_matmul(x)\n",
        "\n",
        "# исполнение на GPU #0 , если доступен\n",
        "if tf.config.list_physical_devices(\"GPU\"):\n",
        "  print(\"GPU:\")\n",
        "  with tf.device(\"GPU:0\"): # или GPU:1 , для 2х GPU, GPU:2 для 3х  и т.д.\n",
        "    x = tf.random.uniform([1000, 1000])\n",
        "    assert x.device.endswith(\"GPU:0\")\n",
        "    time_matmul(x)"
      ],
      "execution_count": null,
      "outputs": [
        {
          "output_type": "stream",
          "name": "stdout",
          "text": [
            "CPU:\n",
            "10 циклов: 277.03ms\n",
            "GPU:\n",
            "10 циклов: 1.73ms\n"
          ]
        }
      ]
    },
    {
      "cell_type": "code",
      "metadata": {
        "id": "ozb2tTqNIBzX"
      },
      "source": [
        "from tensorflow.keras.models import Sequential\n",
        "from tensorflow.keras.layers import Dense\n",
        "from tensorflow.keras.utils import to_categorical"
      ],
      "execution_count": null,
      "outputs": []
    },
    {
      "cell_type": "code",
      "metadata": {
        "id": "NInsePV5QKs4"
      },
      "source": [
        "import matplotlib.pyplot as plt"
      ],
      "execution_count": null,
      "outputs": []
    },
    {
      "cell_type": "markdown",
      "metadata": {
        "id": "ubaqhSOiTj9R"
      },
      "source": [
        "### Оптимизаторы"
      ]
    },
    {
      "cell_type": "code",
      "metadata": {
        "id": "5g3px8aXXse6"
      },
      "source": [
        "from tensorflow.keras.optimizers import Adam, SGD"
      ],
      "execution_count": null,
      "outputs": []
    },
    {
      "cell_type": "markdown",
      "metadata": {
        "id": "jYysdyb-CaWM"
      },
      "source": [
        "# Классификация изображений одежды"
      ]
    },
    {
      "cell_type": "markdown",
      "metadata": {
        "id": "FbVhjPpzn6BM"
      },
      "source": [
        "Давайте разберем использование tensorflow 2 на примере датасета с одеждой. В этом датасете будут находиться маленькие изображения на белом фоне, такие как кросовки, футболки и прочее.\n",
        "\n",
        "В данном случае мы будем использовать High API от TensorFlow"
      ]
    },
    {
      "cell_type": "code",
      "metadata": {
        "id": "dzLKpmZICaWN",
        "colab": {
          "base_uri": "https://localhost:8080/"
        },
        "outputId": "bd9b7fe7-d82d-42f8-8bb7-7c6cb003e37c"
      },
      "source": [
        "import tensorflow as tf\n",
        "\n",
        "import numpy as np\n",
        "import matplotlib.pyplot as plt\n",
        "\n",
        "print(tf.__version__)"
      ],
      "execution_count": null,
      "outputs": [
        {
          "output_type": "stream",
          "name": "stdout",
          "text": [
            "2.9.2\n"
          ]
        }
      ]
    },
    {
      "cell_type": "markdown",
      "metadata": {
        "id": "DLdCchMdCaWQ"
      },
      "source": [
        "Мы будет использовать следующий датасет -  [Fashion MNIST](https://github.com/zalandoresearch/fashion-mnist) Этот датасет содержит 70.000 черно-белых изображений в 10 категориях. Изображения имеют разрешение 28x28 пикселей.\n",
        "\n",
        "<table>\n",
        "  <tr><td>\n",
        "    <img src=\"https://tensorflow.org/images/fashion-mnist-sprite.png\"\n",
        "         alt=\"Fashion MNIST sprite\"  width=\"600\">\n",
        "  </td></tr>\n",
        "  <tr><td align=\"center\">\n",
        "    <b>Figure 1.</b> <a href=\"https://github.com/zalandoresearch/fashion-mnist\">Fashion-MNIST samples</a> (by Zalando, MIT License).<br/>&nbsp;\n",
        "  </td></tr>\n",
        "</table>\n",
        "\n",
        "Долгое время в машинном обучение для программ Hello world использовался датасет MNIST с рукописными цифрами. Данный датасет призван несколько усложнить задачу распознования но также подходит в качестве программы Hello world.\n",
        "\n",
        "В этом датасете 60 000 тренировочных изображений и 10 000 тестовых."
      ]
    },
    {
      "cell_type": "code",
      "metadata": {
        "id": "7MqDQO0KCaWS",
        "colab": {
          "base_uri": "https://localhost:8080/"
        },
        "outputId": "e9f21c4b-940e-49e7-f726-774c18efbc19"
      },
      "source": [
        "from keras.datasets import fashion_mnist\n",
        "\n",
        "(X_train, y_train_labels), (X_test, y_test_labels) = fashion_mnist.load_data()"
      ],
      "execution_count": null,
      "outputs": [
        {
          "output_type": "stream",
          "name": "stdout",
          "text": [
            "Downloading data from https://storage.googleapis.com/tensorflow/tf-keras-datasets/train-labels-idx1-ubyte.gz\n",
            "29515/29515 [==============================] - 0s 0us/step\n",
            "Downloading data from https://storage.googleapis.com/tensorflow/tf-keras-datasets/train-images-idx3-ubyte.gz\n",
            "26421880/26421880 [==============================] - 0s 0us/step\n",
            "Downloading data from https://storage.googleapis.com/tensorflow/tf-keras-datasets/t10k-labels-idx1-ubyte.gz\n",
            "5148/5148 [==============================] - 0s 0us/step\n",
            "Downloading data from https://storage.googleapis.com/tensorflow/tf-keras-datasets/t10k-images-idx3-ubyte.gz\n",
            "4422102/4422102 [==============================] - 0s 0us/step\n"
          ]
        }
      ]
    },
    {
      "cell_type": "markdown",
      "metadata": {
        "id": "t9FDsUlxCaWW"
      },
      "source": [
        "Датасет содержит следующие классы:\n",
        "\n",
        "<table>\n",
        "  <tr>\n",
        "    <th>Label</th>\n",
        "    <th>Class</th>\n",
        "  </tr>\n",
        "  <tr>\n",
        "    <td>0</td>\n",
        "    <td>T-shirt/top</td>\n",
        "  </tr>\n",
        "  <tr>\n",
        "    <td>1</td>\n",
        "    <td>Trouser</td>\n",
        "  </tr>\n",
        "    <tr>\n",
        "    <td>2</td>\n",
        "    <td>Pullover</td>\n",
        "  </tr>\n",
        "    <tr>\n",
        "    <td>3</td>\n",
        "    <td>Dress</td>\n",
        "  </tr>\n",
        "    <tr>\n",
        "    <td>4</td>\n",
        "    <td>Coat</td>\n",
        "  </tr>\n",
        "    <tr>\n",
        "    <td>5</td>\n",
        "    <td>Sandal</td>\n",
        "  </tr>\n",
        "    <tr>\n",
        "    <td>6</td>\n",
        "    <td>Shirt</td>\n",
        "  </tr>\n",
        "    <tr>\n",
        "    <td>7</td>\n",
        "    <td>Sneaker</td>\n",
        "  </tr>\n",
        "    <tr>\n",
        "    <td>8</td>\n",
        "    <td>Bag</td>\n",
        "  </tr>\n",
        "    <tr>\n",
        "    <td>9</td>\n",
        "    <td>Ankle boot</td>\n",
        "  </tr>\n",
        "</table>\n",
        "\n",
        "Каждому классу обозначенному цифрой мы можем присвоить текстовое значение -"
      ]
    },
    {
      "cell_type": "code",
      "metadata": {
        "id": "IjnLH5S2CaWx"
      },
      "source": [
        "class_names = ['T-shirt/top',\n",
        "               'Trouser',\n",
        "               'Pullover',\n",
        "               'Dress',\n",
        "               'Coat',\n",
        "               'Sandal',\n",
        "               'Shirt',\n",
        "               'Sneaker',\n",
        "               'Bag',\n",
        "               'Ankle boot']"
      ],
      "execution_count": null,
      "outputs": []
    },
    {
      "cell_type": "markdown",
      "metadata": {
        "id": "Brm0b_KACaWX"
      },
      "source": [
        "Давайте посмотрим структуры полученного массива данных:"
      ]
    },
    {
      "cell_type": "code",
      "metadata": {
        "id": "zW5k_xz1CaWX",
        "colab": {
          "base_uri": "https://localhost:8080/"
        },
        "outputId": "c76eb21c-56e6-46a6-c2ad-f40cb47948b2"
      },
      "source": [
        "X_train.shape"
      ],
      "execution_count": null,
      "outputs": [
        {
          "output_type": "execute_result",
          "data": {
            "text/plain": [
              "(60000, 28, 28)"
            ]
          },
          "metadata": {},
          "execution_count": 15
        }
      ]
    },
    {
      "cell_type": "code",
      "metadata": {
        "id": "TRFYHB2mCaWb",
        "colab": {
          "base_uri": "https://localhost:8080/"
        },
        "outputId": "f035d09a-9007-4774-a2d3-b3c06fb04f38"
      },
      "source": [
        "len(y_train_labels)"
      ],
      "execution_count": null,
      "outputs": [
        {
          "output_type": "execute_result",
          "data": {
            "text/plain": [
              "60000"
            ]
          },
          "metadata": {},
          "execution_count": 16
        }
      ]
    },
    {
      "cell_type": "code",
      "metadata": {
        "id": "XKnCTHz4CaWg",
        "colab": {
          "base_uri": "https://localhost:8080/"
        },
        "outputId": "21dc3580-f3c7-4bec-865c-b260b350a67a"
      },
      "source": [
        "y_train_labels"
      ],
      "execution_count": null,
      "outputs": [
        {
          "output_type": "execute_result",
          "data": {
            "text/plain": [
              "array([9, 0, 0, ..., 3, 0, 5], dtype=uint8)"
            ]
          },
          "metadata": {},
          "execution_count": 22
        }
      ]
    },
    {
      "cell_type": "markdown",
      "metadata": {
        "id": "TMPI88iZpO2T"
      },
      "source": [
        "Проанализируем тестовую выборку:"
      ]
    },
    {
      "cell_type": "code",
      "metadata": {
        "id": "2KFnYlcwCaWl",
        "colab": {
          "base_uri": "https://localhost:8080/"
        },
        "outputId": "de326411-401a-405b-c802-2b02424d02e2"
      },
      "source": [
        "X_test.shape"
      ],
      "execution_count": null,
      "outputs": [
        {
          "output_type": "execute_result",
          "data": {
            "text/plain": [
              "(10000, 28, 28)"
            ]
          },
          "metadata": {},
          "execution_count": 23
        }
      ]
    },
    {
      "cell_type": "code",
      "metadata": {
        "id": "iJmPr5-ACaWn",
        "colab": {
          "base_uri": "https://localhost:8080/"
        },
        "outputId": "726c9bd2-3413-4d29-b67a-93dbcbaa2fa4"
      },
      "source": [
        "len(y_test_labels)"
      ],
      "execution_count": null,
      "outputs": [
        {
          "output_type": "execute_result",
          "data": {
            "text/plain": [
              "10000"
            ]
          },
          "metadata": {},
          "execution_count": 24
        }
      ]
    },
    {
      "cell_type": "code",
      "metadata": {
        "id": "1PHqiEKY8Ktu"
      },
      "source": [
        "y_train = to_categorical(y_train_labels)\n",
        "y_test = to_categorical(y_test_labels)"
      ],
      "execution_count": null,
      "outputs": []
    },
    {
      "cell_type": "code",
      "source": [
        "y_train"
      ],
      "metadata": {
        "colab": {
          "base_uri": "https://localhost:8080/"
        },
        "id": "da4RVwzxFdAM",
        "outputId": "ca615699-f17b-4738-c258-c15fa3ff6b33"
      },
      "execution_count": null,
      "outputs": [
        {
          "output_type": "execute_result",
          "data": {
            "text/plain": [
              "array([[0., 0., 0., ..., 0., 0., 1.],\n",
              "       [1., 0., 0., ..., 0., 0., 0.],\n",
              "       [1., 0., 0., ..., 0., 0., 0.],\n",
              "       ...,\n",
              "       [0., 0., 0., ..., 0., 0., 0.],\n",
              "       [1., 0., 0., ..., 0., 0., 0.],\n",
              "       [0., 0., 0., ..., 0., 0., 0.]], dtype=float32)"
            ]
          },
          "metadata": {},
          "execution_count": 18
        }
      ]
    },
    {
      "cell_type": "markdown",
      "metadata": {
        "id": "ES6uQoLKCaWr"
      },
      "source": [
        "## Подготовка данных\n",
        "\n",
        "Давайте взглянем на конкретный пример изображений с помощью matplotlib:"
      ]
    },
    {
      "cell_type": "code",
      "metadata": {
        "id": "m4VEw8Ud9Quh",
        "colab": {
          "base_uri": "https://localhost:8080/",
          "height": 265
        },
        "outputId": "e3564b15-56ec-40d0-aaf2-2a275e9293f7"
      },
      "source": [
        "plt.figure()\n",
        "plt.imshow(X_train[0])\n",
        "plt.colorbar()\n",
        "plt.show()"
      ],
      "execution_count": null,
      "outputs": [
        {
          "output_type": "display_data",
          "data": {
            "text/plain": [
              "<Figure size 432x288 with 2 Axes>"
            ],
            "image/png": "[encoded data removed]"
          },
          "metadata": {
            "needs_background": "light"
          }
        }
      ]
    },
    {
      "cell_type": "markdown",
      "metadata": {
        "id": "Wz7l27Lz9S1P"
      },
      "source": [
        "Для процесса обучения нейронной сети нам важно перевести данные из диапазона от 0 до 255 в диапазон от 0 до 1:"
      ]
    },
    {
      "cell_type": "code",
      "metadata": {
        "id": "bW5WzIPlCaWv"
      },
      "source": [
        "X_train = X_train / 255.0\n",
        "X_test = X_test / 255.0"
      ],
      "execution_count": null,
      "outputs": []
    },
    {
      "cell_type": "markdown",
      "metadata": {
        "id": "Ee638AlnCaWz"
      },
      "source": [
        "Посмотрим первые 25 изображений:"
      ]
    },
    {
      "cell_type": "code",
      "metadata": {
        "id": "oZTImqg_CaW1",
        "colab": {
          "base_uri": "https://localhost:8080/",
          "height": 589
        },
        "outputId": "8f6d2109-1281-481d-c1df-a90e34ae5d6a"
      },
      "source": [
        "plt.figure(figsize=(10, 10))\n",
        "\n",
        "for i in range(25):\n",
        "    plt.subplot(5, 5, i+1)\n",
        "    plt.xticks([])\n",
        "    plt.yticks([])\n",
        "    plt.imshow(X_train[i], cmap=plt.cm.binary)\n",
        "    plt.xlabel(class_names[y_train_labels[i]])\n",
        "plt.show()"
      ],
      "execution_count": null,
      "outputs": [
        {
          "output_type": "display_data",
          "data": {
            "text/plain": [
              "<Figure size 720x720 with 25 Axes>"
            ],
            "image/png": "[encoded data removed]"
          },
          "metadata": {}
        }
      ]
    },
    {
      "cell_type": "markdown",
      "metadata": {
        "id": "59veuiEZCaW4"
      },
      "source": [
        "## Построение модели\n",
        "\n",
        "Построение нейронной сети подразумевает конфигурацию ее слоев и последующую компиляцию."
      ]
    },
    {
      "cell_type": "markdown",
      "metadata": {
        "id": "Gxg1XGm0eOBy"
      },
      "source": [
        "### Определение слоев\n",
        "\n",
        "Давайте создадим 3 слоя нейронной сети с помощью функционала Keras.layers"
      ]
    },
    {
      "cell_type": "code",
      "metadata": {
        "id": "UqVUwO9Px9iQ"
      },
      "source": [
        "from tensorflow.keras.layers import Input, Flatten, Dense\n",
        "from tensorflow.keras.models import Model"
      ],
      "execution_count": null,
      "outputs": []
    },
    {
      "cell_type": "markdown",
      "metadata": {
        "id": "SPGsEc5l4_8J"
      },
      "source": [
        "Соберем модель в функциональной форме (функциональное API Keras) \n",
        "\n",
        "Сеть собираем как последовательности соединей узлов:\n",
        " \n",
        " вход -> слой 1 -> слой 2 -> выход\n",
        "\n",
        " связь идет через тензоры"
      ]
    },
    {
      "cell_type": "code",
      "metadata": {
        "id": "9ODch-OFCaW4",
        "colab": {
          "base_uri": "https://localhost:8080/"
        },
        "outputId": "2559c9eb-df27-4d1c-b54f-775bc4ac5f0a"
      },
      "source": [
        "model = Sequential([\n",
        "    Flatten(input_shape=(28, 28)),\n",
        "    Dense(128, activation='relu'),\n",
        "    Dense(10)\n",
        "])\n",
        "\n",
        "model.summary()"
      ],
      "execution_count": null,
      "outputs": [
        {
          "output_type": "stream",
          "name": "stdout",
          "text": [
            "Model: \"sequential\"\n",
            "_________________________________________________________________\n",
            " Layer (type)                Output Shape              Param #   \n",
            "=================================================================\n",
            " flatten (Flatten)           (None, 784)               0         \n",
            "                                                                 \n",
            " dense (Dense)               (None, 128)               100480    \n",
            "                                                                 \n",
            " dense_1 (Dense)             (None, 10)                1290      \n",
            "                                                                 \n",
            "=================================================================\n",
            "Total params: 101,770\n",
            "Trainable params: 101,770\n",
            "Non-trainable params: 0\n",
            "_________________________________________________________________\n"
          ]
        }
      ]
    },
    {
      "cell_type": "markdown",
      "metadata": {
        "id": "gut8A_7rCaW6"
      },
      "source": [
        "Первый слой, `tf.keras.layers.Flatten`, трасформирует двумерный массив на входе в одномерный массив.\n",
        "\n",
        "Получившиеся 784 (28 x 28) входных нейрона присоединяем к полносвязному слою из 128 нейронов , которые будут использовать функцию активации relu. В выходном слое будет 10 нейронов, по числу классов, которые он должен предсказывать."
      ]
    },
    {
      "cell_type": "code",
      "metadata": {
        "id": "P9V7ENde4t1S",
        "colab": {
          "base_uri": "https://localhost:8080/"
        },
        "outputId": "b0eee2b1-7544-4ec2-a9a6-d08e60258706"
      },
      "source": [
        "inputs = Input(shape=(28, 28))\n",
        "x_1 = Flatten()(inputs)\n",
        "x_2 = Dense(128, activation='relu')(x_1)\n",
        "outputs = Dense(10)(x_2)\n",
        "\n",
        "x_1, x_2, outputs"
      ],
      "execution_count": null,
      "outputs": [
        {
          "output_type": "execute_result",
          "data": {
            "text/plain": [
              "(<KerasTensor: shape=(None, 784) dtype=float32 (created by layer 'flatten_1')>,\n",
              " <KerasTensor: shape=(None, 128) dtype=float32 (created by layer 'dense_2')>,\n",
              " <KerasTensor: shape=(None, 10) dtype=float32 (created by layer 'dense_3')>)"
            ]
          },
          "metadata": {},
          "execution_count": 23
        }
      ]
    },
    {
      "cell_type": "code",
      "metadata": {
        "id": "prhavY9JioU-"
      },
      "source": [
        "model = Model(inputs, outputs)"
      ],
      "execution_count": null,
      "outputs": []
    },
    {
      "cell_type": "code",
      "metadata": {
        "colab": {
          "base_uri": "https://localhost:8080/"
        },
        "id": "Cu7Rm7zw6Una",
        "outputId": "2df29f46-be78-46e5-8069-570a17817365"
      },
      "source": [
        "model.summary()"
      ],
      "execution_count": null,
      "outputs": [
        {
          "output_type": "stream",
          "name": "stdout",
          "text": [
            "Model: \"model_1\"\n",
            "_________________________________________________________________\n",
            " Layer (type)                Output Shape              Param #   \n",
            "=================================================================\n",
            " input_1 (InputLayer)        [(None, 28, 28)]          0         \n",
            "                                                                 \n",
            " flatten_1 (Flatten)         (None, 784)               0         \n",
            "                                                                 \n",
            " dense_2 (Dense)             (None, 128)               100480    \n",
            "                                                                 \n",
            " dense_3 (Dense)             (None, 10)                1290      \n",
            "                                                                 \n",
            "=================================================================\n",
            "Total params: 101,770\n",
            "Trainable params: 101,770\n",
            "Non-trainable params: 0\n",
            "_________________________________________________________________\n"
          ]
        }
      ]
    },
    {
      "cell_type": "markdown",
      "metadata": {
        "id": "n3SWLueHyQDU"
      },
      "source": [
        "\n",
        "### Компиляция модели\n",
        "\n",
        "Давайте вспомним ключевые понятия, которые нам понадобяться при компиляции:\n",
        "\n",
        "* *Loss function* — меряет как точно работает нейросеть.\n",
        "* *Optimizer* — определяет способ корректировки весов.\n",
        "* *Metrics* — определяет за какие характеристики будут отражаться в процессе обучения."
      ]
    },
    {
      "cell_type": "code",
      "metadata": {
        "id": "Lhan11blCaW7"
      },
      "source": [
        "from tensorflow.keras.losses import CategoricalCrossentropy, SparseCategoricalCrossentropy\n",
        "\n",
        "model.compile(optimizer=Adam(),\n",
        "              loss=CategoricalCrossentropy(from_logits=True),\n",
        "              metrics=['accuracy'])"
      ],
      "execution_count": null,
      "outputs": []
    },
    {
      "cell_type": "markdown",
      "metadata": {
        "id": "qKF6uW-BCaW-"
      },
      "source": [
        "## Тренировка модели\n",
        "\n",
        "Здесь все стандартно - данные передаются в нейросеть и сопоставляются изображения и лейблы.\n",
        "\n"
      ]
    },
    {
      "cell_type": "markdown",
      "metadata": {
        "id": "Z4P4zIV7E28Z"
      },
      "source": [
        "### Передача данных в модель\n",
        "\n",
        "Команда непосредственно запускающая процесс обучения называется - `model.fit`:"
      ]
    },
    {
      "cell_type": "code",
      "metadata": {
        "id": "xvwvpA64CaW_",
        "colab": {
          "base_uri": "https://localhost:8080/"
        },
        "outputId": "dd76bede-014c-4b1a-c584-f1a561c820ed"
      },
      "source": [
        "model.fit(X_train, y_train,\n",
        "          epochs=5,\n",
        "          batch_size=256,\n",
        "          validation_data=(X_test, y_test))"
      ],
      "execution_count": null,
      "outputs": [
        {
          "output_type": "stream",
          "name": "stdout",
          "text": [
            "Epoch 1/5\n",
            "235/235 [==============================] - 1s 4ms/step - loss: 0.6123 - accuracy: 0.7900 - val_loss: 0.4980 - val_accuracy: 0.8249\n",
            "Epoch 2/5\n",
            "235/235 [==============================] - 1s 4ms/step - loss: 0.4235 - accuracy: 0.8522 - val_loss: 0.4393 - val_accuracy: 0.8448\n",
            "Epoch 3/5\n",
            "235/235 [==============================] - 1s 3ms/step - loss: 0.3798 - accuracy: 0.8661 - val_loss: 0.4187 - val_accuracy: 0.8512\n",
            "Epoch 4/5\n",
            "235/235 [==============================] - 1s 4ms/step - loss: 0.3559 - accuracy: 0.8745 - val_loss: 0.3804 - val_accuracy: 0.8650\n",
            "Epoch 5/5\n",
            "235/235 [==============================] - 1s 3ms/step - loss: 0.3385 - accuracy: 0.8805 - val_loss: 0.3836 - val_accuracy: 0.8634\n"
          ]
        },
        {
          "output_type": "execute_result",
          "data": {
            "text/plain": [
              "<keras.callbacks.History at 0x7f61eb32d650>"
            ]
          },
          "metadata": {},
          "execution_count": 28
        }
      ]
    },
    {
      "cell_type": "code",
      "metadata": {
        "id": "VflXLEeECaXC",
        "colab": {
          "base_uri": "https://localhost:8080/"
        },
        "outputId": "21382bd3-1490-4752-e27c-e056dc0e06fb"
      },
      "source": [
        "test_loss, test_acc = model.evaluate(X_test, y_test, verbose=2)\n",
        "\n",
        "print('\\nTest accuracy:', test_acc)"
      ],
      "execution_count": null,
      "outputs": [
        {
          "output_type": "stream",
          "name": "stdout",
          "text": [
            "313/313 - 1s - loss: 0.3836 - accuracy: 0.8634 - 592ms/epoch - 2ms/step\n",
            "\n",
            "Test accuracy: 0.8633999824523926\n"
          ]
        }
      ]
    },
    {
      "cell_type": "markdown",
      "metadata": {
        "id": "ThiOOMngFzRw"
      },
      "source": [
        "В выводе выше мы следим за точностью в процессе обучения, проверяем точность на тестовых данных и меняем параметры нейросети если точность на тестовых данных нас не устраивает."
      ]
    },
    {
      "cell_type": "markdown",
      "metadata": {
        "id": "iZQu7LGtjVqk"
      },
      "source": [
        "На данный момент наша модель отвечает линейно:"
      ]
    },
    {
      "cell_type": "code",
      "metadata": {
        "colab": {
          "base_uri": "https://localhost:8080/"
        },
        "id": "nt_ZrOAwjOw4",
        "outputId": "ff755a1b-1014-4602-9e92-8035f4d72bd8"
      },
      "source": [
        "model.predict(X_test[:1])"
      ],
      "execution_count": null,
      "outputs": [
        {
          "output_type": "stream",
          "name": "stdout",
          "text": [
            "1/1 [==============================] - 0s 67ms/step\n"
          ]
        },
        {
          "output_type": "execute_result",
          "data": {
            "text/plain": [
              "array([[-4.622346  , -9.189793  , -5.618663  , -6.1334243 , -5.381773  ,\n",
              "         2.035427  , -4.646897  ,  2.0140874 , -0.51285577,  5.052985  ]],\n",
              "      dtype=float32)"
            ]
          },
          "metadata": {},
          "execution_count": 30
        }
      ]
    },
    {
      "cell_type": "code",
      "metadata": {
        "colab": {
          "base_uri": "https://localhost:8080/"
        },
        "id": "DGoZ49vKmf7v",
        "outputId": "77ba83a9-9913-4d79-c19b-056bdf09b09a"
      },
      "source": [
        "y_test[:1]"
      ],
      "execution_count": null,
      "outputs": [
        {
          "output_type": "execute_result",
          "data": {
            "text/plain": [
              "array([[0., 0., 0., 0., 0., 0., 0., 0., 0., 1.]], dtype=float32)"
            ]
          },
          "metadata": {},
          "execution_count": 31
        }
      ]
    },
    {
      "cell_type": "code",
      "source": [
        "# мультилейбл - sigmoid\n",
        "# мультикласс - softmax"
      ],
      "metadata": {
        "id": "x2LZN4k7ISZ2"
      },
      "execution_count": null,
      "outputs": []
    },
    {
      "cell_type": "markdown",
      "metadata": {
        "id": "v-PyD1SYE28q"
      },
      "source": [
        "### Предсказания нейросети\n",
        "\n",
        "Команды ниже позволяют проверить работу натренированной ранее нейросети. "
      ]
    },
    {
      "cell_type": "markdown",
      "metadata": {
        "id": "4prKqteTMZcd"
      },
      "source": [
        "**Softmax**\n",
        "\n",
        "<img src='https://drive.google.com/uc?export=view&id=1dW-Hk-qogTWG-x3bkzlM5aHsWhxe3juX'>"
      ]
    },
    {
      "cell_type": "code",
      "metadata": {
        "id": "DnfNA0CrQLSD"
      },
      "source": [
        "probability_model = Sequential([\n",
        "    model, \n",
        "    tf.keras.layers.Softmax()\n",
        "])"
      ],
      "execution_count": null,
      "outputs": []
    },
    {
      "cell_type": "code",
      "metadata": {
        "id": "Gl91RPhdCaXI",
        "colab": {
          "base_uri": "https://localhost:8080/"
        },
        "outputId": "54d354e0-9624-4a5f-d301-6e200ebcbc9c"
      },
      "source": [
        "predictions = probability_model.predict(X_test)"
      ],
      "execution_count": null,
      "outputs": [
        {
          "output_type": "stream",
          "name": "stdout",
          "text": [
            "313/313 [==============================] - 0s 1ms/step\n"
          ]
        }
      ]
    },
    {
      "cell_type": "code",
      "metadata": {
        "id": "3DmJEUinCaXK",
        "colab": {
          "base_uri": "https://localhost:8080/"
        },
        "outputId": "b6f9a107-a3b3-4592-8f4a-f37003653418"
      },
      "source": [
        "predictions[0]"
      ],
      "execution_count": null,
      "outputs": [
        {
          "output_type": "execute_result",
          "data": {
            "text/plain": [
              "array([1.0356035e-05, 4.7538506e-07, 2.5988458e-05, 9.4815022e-07,\n",
              "       1.0541875e-05, 5.5122990e-02, 1.2525517e-04, 7.7757768e-02,\n",
              "       1.5619590e-03, 8.6538368e-01], dtype=float32)"
            ]
          },
          "metadata": {},
          "execution_count": 41
        }
      ]
    },
    {
      "cell_type": "code",
      "metadata": {
        "id": "qsqenuPnCaXO",
        "colab": {
          "base_uri": "https://localhost:8080/"
        },
        "outputId": "7891c16d-c2e4-43c6-9368-9bf7fbe80c9f"
      },
      "source": [
        "np.argmax(predictions[0])"
      ],
      "execution_count": null,
      "outputs": [
        {
          "output_type": "execute_result",
          "data": {
            "text/plain": [
              "9"
            ]
          },
          "metadata": {},
          "execution_count": 42
        }
      ]
    },
    {
      "cell_type": "code",
      "metadata": {
        "id": "Sd7Pgsu6CaXP",
        "colab": {
          "base_uri": "https://localhost:8080/"
        },
        "outputId": "1f58c11b-079e-4bbb-abf7-912747351fc8"
      },
      "source": [
        "y_test_labels[0]"
      ],
      "execution_count": null,
      "outputs": [
        {
          "output_type": "execute_result",
          "data": {
            "text/plain": [
              "9"
            ]
          },
          "metadata": {},
          "execution_count": 43
        }
      ]
    },
    {
      "cell_type": "code",
      "metadata": {
        "id": "DvYmmrpIy6Y1"
      },
      "source": [
        "def plot_image(i, predictions_array, true_label, img):\n",
        "    predictions_array, true_label, img = predictions_array[i], true_label[i], img[i]\n",
        "    plt.grid(False)\n",
        "    plt.xticks([])\n",
        "    plt.yticks([])\n",
        "\n",
        "    plt.imshow(img, cmap=plt.cm.binary)\n",
        "\n",
        "    predicted_label = np.argmax(predictions_array)\n",
        "    if predicted_label == true_label:\n",
        "        color = 'blue'\n",
        "    else:\n",
        "        color = 'red'\n",
        "\n",
        "    plt.xlabel(\"{} {:2.0f}% ({})\".format(class_names[predicted_label],\n",
        "                                         100*np.max(predictions_array),\n",
        "                                         class_names[true_label]),\n",
        "                                         color=color)\n",
        "\n",
        "def plot_value_array(i, predictions_array, true_label):\n",
        "    predictions_array, true_label = predictions_array[i], true_label[i]\n",
        "    plt.grid(False)\n",
        "    plt.xticks(range(10))\n",
        "    plt.yticks([])\n",
        "    thisplot = plt.bar(range(10), predictions_array, color=\"#777777\")\n",
        "    plt.ylim([0, 1])\n",
        "    predicted_label = np.argmax(predictions_array)\n",
        "\n",
        "    thisplot[predicted_label].set_color('red')\n",
        "    thisplot[true_label].set_color('blue')"
      ],
      "execution_count": null,
      "outputs": []
    },
    {
      "cell_type": "markdown",
      "metadata": {
        "id": "Zh9yABaME29S"
      },
      "source": [
        "### Проверка предсказаний\n",
        "\n",
        "Matplotlib нам дает возможность посмотреть наше предсказание графически:"
      ]
    },
    {
      "cell_type": "code",
      "metadata": {
        "id": "HV5jw-5HwSmO",
        "colab": {
          "base_uri": "https://localhost:8080/",
          "height": 211
        },
        "outputId": "206e1f97-19f7-4606-e915-008fa100398e"
      },
      "source": [
        "i = 7\n",
        "plt.figure(figsize=(6,3))\n",
        "plt.subplot(1,2,1)\n",
        "plot_image(i, predictions, y_test_labels, X_test)\n",
        "plt.subplot(1,2,2)\n",
        "plot_value_array(i, predictions, y_test_labels)\n",
        "plt.show()"
      ],
      "execution_count": null,
      "outputs": [
        {
          "output_type": "display_data",
          "data": {
            "text/plain": [
              "<Figure size 432x216 with 2 Axes>"
            ],
            "image/png": "[encoded data removed]"
          },
          "metadata": {
            "needs_background": "light"
          }
        }
      ]
    },
    {
      "cell_type": "code",
      "metadata": {
        "id": "Ko-uzOufSCSe",
        "colab": {
          "base_uri": "https://localhost:8080/",
          "height": 211
        },
        "outputId": "7556a31c-ef06-43b2-92de-037cf33313dd"
      },
      "source": [
        "i = 12\n",
        "plt.figure(figsize=(6,3))\n",
        "plt.subplot(1,2,1)\n",
        "plot_image(i, predictions, y_test_labels, X_test)\n",
        "plt.subplot(1,2,2)\n",
        "plot_value_array(i, predictions, y_test_labels)\n",
        "plt.show()"
      ],
      "execution_count": null,
      "outputs": [
        {
          "output_type": "display_data",
          "data": {
            "text/plain": [
              "<Figure size 432x216 with 2 Axes>"
            ],
            "image/png": "[encoded data removed]"
          },
          "metadata": {
            "needs_background": "light"
          }
        }
      ]
    },
    {
      "cell_type": "markdown",
      "metadata": {
        "id": "kgdvGD52CaXR"
      },
      "source": [
        "Давайте сделаем еще несколько предсказаний - "
      ]
    },
    {
      "cell_type": "code",
      "metadata": {
        "id": "hQlnbqaw2Qu_",
        "colab": {
          "base_uri": "https://localhost:8080/",
          "height": 729
        },
        "outputId": "4e96831d-fa9b-456e-b41e-41e1f086e51a"
      },
      "source": [
        "num_rows = 5\n",
        "num_cols = 3\n",
        "num_images = num_rows * num_cols\n",
        "plt.figure(figsize=(2 * 2 * num_cols, 2 * num_rows))\n",
        "\n",
        "for i in range(num_images):\n",
        "    plt.subplot(num_rows, 2 * num_cols, 2 * i + 1)\n",
        "    plot_image(i, predictions, y_test_labels, X_test)\n",
        "    plt.subplot(num_rows, 2 * num_cols, 2 * i + 2)\n",
        "    plot_value_array(i, predictions, y_test_labels)\n",
        "\n",
        "plt.tight_layout()\n",
        "plt.show()"
      ],
      "execution_count": null,
      "outputs": [
        {
          "output_type": "display_data",
          "data": {
            "text/plain": [
              "<Figure size 864x720 with 30 Axes>"
            ],
            "image/png": "[encoded data removed]"
          },
          "metadata": {
            "needs_background": "light"
          }
        }
      ]
    },
    {
      "cell_type": "markdown",
      "metadata": {
        "id": "R32zteKHCaXT"
      },
      "source": [
        "## Использование полученной модели\n",
        "\n",
        "Давайте возьмем одно изображение из тестовой выборки и посмотрим предсказание нейронной сети."
      ]
    },
    {
      "cell_type": "code",
      "metadata": {
        "id": "yRJ7JU7JCaXT",
        "colab": {
          "base_uri": "https://localhost:8080/"
        },
        "outputId": "62d9c1b0-bbe1-4f04-f455-cb9c5d9e2b67"
      },
      "source": [
        "i = 0\n",
        "img = X_test[i]\n",
        "\n",
        "print(img.shape)"
      ],
      "execution_count": null,
      "outputs": [
        {
          "output_type": "stream",
          "name": "stdout",
          "text": [
            "(28, 28)\n"
          ]
        }
      ]
    },
    {
      "cell_type": "code",
      "metadata": {
        "id": "lDFh5yF_CaXW",
        "colab": {
          "base_uri": "https://localhost:8080/"
        },
        "outputId": "ac11e8f3-805d-4b25-9222-93ca785a0455"
      },
      "source": [
        "# Add the image to a batch where it's the only member\n",
        "imgs = np.expand_dims(img, 0)\n",
        "\n",
        "print(imgs.shape)\n",
        "\n",
        "print(img.reshape((1, img.shape[0], img.shape[0])).shape)\n",
        "print(img[None].shape)"
      ],
      "execution_count": null,
      "outputs": [
        {
          "output_type": "stream",
          "name": "stdout",
          "text": [
            "(1, 28, 28)\n",
            "(1, 28, 28)\n",
            "(1, 28, 28)\n"
          ]
        }
      ]
    },
    {
      "cell_type": "code",
      "metadata": {
        "id": "o_rzNSdrCaXY",
        "colab": {
          "base_uri": "https://localhost:8080/"
        },
        "outputId": "0a877c47-091c-4af1-eff4-07d3dfffd98e"
      },
      "source": [
        "predictions_single = probability_model.predict(imgs)\n",
        "\n",
        "predictions_single"
      ],
      "execution_count": null,
      "outputs": [
        {
          "output_type": "stream",
          "name": "stdout",
          "text": [
            "1/1 [==============================] - 0s 15ms/step\n"
          ]
        },
        {
          "output_type": "execute_result",
          "data": {
            "text/plain": [
              "array([[1.0356035e-05, 4.7538506e-07, 2.5988458e-05, 9.4815022e-07,\n",
              "        1.0541875e-05, 5.5123005e-02, 1.2525517e-04, 7.7757753e-02,\n",
              "        1.5619599e-03, 8.6538368e-01]], dtype=float32)"
            ]
          },
          "metadata": {},
          "execution_count": 50
        }
      ]
    },
    {
      "cell_type": "code",
      "metadata": {
        "id": "6Ai-cpLjO-3A",
        "colab": {
          "base_uri": "https://localhost:8080/",
          "height": 545
        },
        "outputId": "37788b72-765b-4c0a-f960-cc5dcb6349d7"
      },
      "source": [
        "plot_image(i, predictions, y_test_labels, X_test)\n",
        "plt.show()\n",
        "plot_value_array(i, predictions_single, y_test_labels)\n",
        "plt.xticks(range(10), class_names, rotation=45);"
      ],
      "execution_count": null,
      "outputs": [
        {
          "output_type": "display_data",
          "data": {
            "text/plain": [
              "<Figure size 432x288 with 1 Axes>"
            ],
            "image/png": "[encoded data removed]"
          },
          "metadata": {}
        },
        {
          "output_type": "display_data",
          "data": {
            "text/plain": [
              "<Figure size 432x288 with 1 Axes>"
            ],
            "image/png": "[encoded data removed]"
          },
          "metadata": {
            "needs_background": "light"
          }
        }
      ]
    },
    {
      "cell_type": "markdown",
      "metadata": {
        "id": "cU1Y2OAMCaXb"
      },
      "source": [
        "`keras.Model.predict` возвращает список списков — по одному списку для каждого предсказания в батче. Нам нужны предсказания только для одного изображения:"
      ]
    },
    {
      "cell_type": "code",
      "metadata": {
        "id": "2tRmdq_8CaXb",
        "colab": {
          "base_uri": "https://localhost:8080/"
        },
        "outputId": "525e95e1-9d19-48ff-b216-d6dc8ec59da4"
      },
      "source": [
        "np.argmax(predictions_single[0])"
      ],
      "execution_count": null,
      "outputs": [
        {
          "output_type": "execute_result",
          "data": {
            "text/plain": [
              "9"
            ]
          },
          "metadata": {},
          "execution_count": 52
        }
      ]
    },
    {
      "cell_type": "markdown",
      "metadata": {
        "id": "oiAdZfhLtMJ5"
      },
      "source": [
        "## **Проведем анализ работы модели по слоям**\n",
        "\n",
        "Состояние узлов в сети по эпохам (пакетам) и слоям можно оценить используя средства tensorflow через объект GradientTape() - исполняет шаг вычисления градиента для модели по ее loss для всех тренируемых весов модели (<имя модели>.trainable_weights) (см. https://www.tensorflow.org/guide/basic_training_loops, https://www.tensorflow.org/api_docs/python/tf/GradientTape)\n",
        "\n",
        "\n",
        "данные для обучения получим из tensorflow.data.Dataset (https://www.tensorflow.org/guide/data), куда передаем выборку , а на выходе получаем генератор пакетов заданного размера"
      ]
    },
    {
      "cell_type": "markdown",
      "metadata": {
        "id": "adqoo8fomCjR"
      },
      "source": [
        "Начнем с простого примера, который рассматривали на первом вебинаре, когда изучали граф вычислений.\n",
        "\n",
        "[Ссылка](https://docs.google.com/presentation/d/1Sfj8l91QFkFA6kMCe4CStCRDH5-pmfnZc8AEe8ujudg/edit) на презентацию."
      ]
    },
    {
      "cell_type": "code",
      "metadata": {
        "colab": {
          "base_uri": "https://localhost:8080/"
        },
        "id": "YHeKOSYSwj-m",
        "outputId": "6135d035-7757-4db2-be8f-d5d1634eb743"
      },
      "source": [
        "inputs = Input(shape=(1)) \n",
        "outputs = Dense(1, activation='sigmoid')(inputs)\n",
        "model_toy = Model(inputs=inputs, outputs=outputs)\n",
        "\n",
        "# Создадим экземпляр оптимизатора\n",
        "optimizer = Adam(learning_rate=0.01)\n",
        "\n",
        "# Создадим экспемпляр функции потерь\n",
        "loss_fn = tf.keras.losses.MeanSquaredError()\n",
        "\n",
        "model_toy.summary()"
      ],
      "execution_count": null,
      "outputs": [
        {
          "output_type": "stream",
          "name": "stdout",
          "text": [
            "Model: \"model_2\"\n",
            "_________________________________________________________________\n",
            " Layer (type)                Output Shape              Param #   \n",
            "=================================================================\n",
            " input_2 (InputLayer)        [(None, 1)]               0         \n",
            "                                                                 \n",
            " dense_4 (Dense)             (None, 1)                 2         \n",
            "                                                                 \n",
            "=================================================================\n",
            "Total params: 2\n",
            "Trainable params: 2\n",
            "Non-trainable params: 0\n",
            "_________________________________________________________________\n"
          ]
        }
      ]
    },
    {
      "cell_type": "code",
      "source": [
        "model_toy.get_weights()"
      ],
      "metadata": {
        "colab": {
          "base_uri": "https://localhost:8080/"
        },
        "id": "ao3JhVYEL5lp",
        "outputId": "eae1bdb3-f6e1-429e-fcae-9b8c9c2b8fce"
      },
      "execution_count": null,
      "outputs": [
        {
          "output_type": "execute_result",
          "data": {
            "text/plain": [
              "[array([[-0.42299855]], dtype=float32), array([0.], dtype=float32)]"
            ]
          },
          "metadata": {},
          "execution_count": 35
        }
      ]
    },
    {
      "cell_type": "code",
      "metadata": {
        "id": "HlcF27r-eoAC",
        "colab": {
          "base_uri": "https://localhost:8080/"
        },
        "outputId": "449ae6fe-680f-47b3-d91a-3020e0954d46"
      },
      "source": [
        "# зададим начальные значения весов\n",
        "params = [np.empty(shape = (1,1), dtype = np.float32), np.empty(shape = (1,), dtype = np.float32)]\n",
        "params[0][0] = 0.417\n",
        "params[1][0] = 0.72\n",
        "\n",
        "model_toy.set_weights(params)\n",
        "model_toy.get_weights()"
      ],
      "execution_count": null,
      "outputs": [
        {
          "output_type": "execute_result",
          "data": {
            "text/plain": [
              "[array([[0.417]], dtype=float32), array([0.72], dtype=float32)]"
            ]
          },
          "metadata": {},
          "execution_count": 39
        }
      ]
    },
    {
      "cell_type": "code",
      "metadata": {
        "id": "4z69kC7OuVYz"
      },
      "source": [
        "# вычисление сигмоид функции\n",
        "def sigmoid(x):\n",
        "    return 1 / (1 + np.exp(-x))\n",
        "\n",
        "X_toy = tf.constant([1.0])\n",
        "y_toy = tf.constant([1.0])\n",
        "\n",
        "X_toy = tf.constant([0.0, 1.0])\n",
        "y_toy = tf.constant([0.0, 1.0])\n",
        "\n",
        "\n",
        "for epoch in range(1000):     \n",
        "    # Откроем GradientTape чтобы записать операции\n",
        "    # выполняемые во время прямого прохода, включающего автодифференцирование\n",
        "    with tf.GradientTape() as tape: \n",
        "        # Запустим прямой проход слоя\n",
        "        pred = model_toy(X_toy)\n",
        "        # print('Prediction is', pred.numpy())\n",
        "\n",
        "        # Вычислим значение потерь\n",
        "        loss_value = loss_fn(y_toy, pred)\n",
        "        # print('Loss is', loss_value.numpy())\n",
        "\n",
        "        # Используем gradient tape для автоматического извлечения градиентов \n",
        "        # обучаемых переменных относительно потерь\n",
        "        grads = tape.gradient(loss_value, model_toy.trainable_weights) \n",
        "        # print('Grad are', grads)\n",
        "        \n",
        "\n",
        "    # Выполним один шаг градиентного спуска,\n",
        "    # обновив значение переменных минимизирующих потери\n",
        "    optimizer.apply_gradients(zip(grads, model_toy.trainable_weights)) "
      ],
      "execution_count": null,
      "outputs": []
    },
    {
      "cell_type": "code",
      "metadata": {
        "id": "mhdCwrGLldAb",
        "colab": {
          "base_uri": "https://localhost:8080/"
        },
        "outputId": "98a06bd2-3aee-4d76-c4e3-1ad39f62e9fd"
      },
      "source": [
        "model_toy.trainable_weights"
      ],
      "execution_count": null,
      "outputs": [
        {
          "output_type": "execute_result",
          "data": {
            "text/plain": [
              "[<tf.Variable 'dense_4/kernel:0' shape=(1, 1) dtype=float32, numpy=array([[5.360791]], dtype=float32)>,\n",
              " <tf.Variable 'dense_4/bias:0' shape=(1,) dtype=float32, numpy=array([-2.5071557], dtype=float32)>]"
            ]
          },
          "metadata": {},
          "execution_count": 55
        }
      ]
    },
    {
      "cell_type": "code",
      "metadata": {
        "id": "8pvPjKb9-mxY",
        "colab": {
          "base_uri": "https://localhost:8080/"
        },
        "outputId": "e15160d9-9c48-44fc-c3a4-2a1eea0d9f3a"
      },
      "source": [
        "model_toy.predict([0.0, 1.0])"
      ],
      "execution_count": null,
      "outputs": [
        {
          "output_type": "stream",
          "name": "stdout",
          "text": [
            "1/1 [==============================] - 0s 24ms/step\n"
          ]
        },
        {
          "output_type": "execute_result",
          "data": {
            "text/plain": [
              "array([[0.07535806],\n",
              "       [0.94550633]], dtype=float32)"
            ]
          },
          "metadata": {},
          "execution_count": 56
        }
      ]
    },
    {
      "cell_type": "markdown",
      "metadata": {
        "id": "H94Am0OOmdk9"
      },
      "source": [
        "Теперь возвращаемся к примеру с картинками."
      ]
    },
    {
      "cell_type": "code",
      "metadata": {
        "id": "OCMo1w13mswi",
        "colab": {
          "base_uri": "https://localhost:8080/"
        },
        "outputId": "4d99e1b2-9009-45f5-ff7b-803d0ad47778"
      },
      "source": [
        "# собираем сеть\n",
        "level = 6\n",
        "\n",
        "inputs = Input(shape=(28, 28, 1), name='fashion') \n",
        "x = Flatten()(inputs)\n",
        "\n",
        "for i in range(level):\n",
        "    # x = Dense(64, activation='sigmoid', name=f'dense_{i}')(x)\n",
        "    x = Dense(64, activation='relu', name=f'dense_{i}')(x)\n",
        "\n",
        "\n",
        "outputs = Dense(10, activation='sigmoid', name='predictions')(x) \n",
        "modelg = Model(inputs=inputs, outputs=outputs) \n",
        "modelg.summary()"
      ],
      "execution_count": null,
      "outputs": [
        {
          "output_type": "stream",
          "name": "stdout",
          "text": [
            "Model: \"model_5\"\n",
            "_________________________________________________________________\n",
            " Layer (type)                Output Shape              Param #   \n",
            "=================================================================\n",
            " fashion (InputLayer)        [(None, 28, 28, 1)]       0         \n",
            "                                                                 \n",
            " flatten_4 (Flatten)         (None, 784)               0         \n",
            "                                                                 \n",
            " dense_0 (Dense)             (None, 64)                50240     \n",
            "                                                                 \n",
            " dense_1 (Dense)             (None, 64)                4160      \n",
            "                                                                 \n",
            " dense_2 (Dense)             (None, 64)                4160      \n",
            "                                                                 \n",
            " dense_3 (Dense)             (None, 64)                4160      \n",
            "                                                                 \n",
            " dense_4 (Dense)             (None, 64)                4160      \n",
            "                                                                 \n",
            " dense_5 (Dense)             (None, 64)                4160      \n",
            "                                                                 \n",
            " predictions (Dense)         (None, 10)                650       \n",
            "                                                                 \n",
            "=================================================================\n",
            "Total params: 71,690\n",
            "Trainable params: 71,690\n",
            "Non-trainable params: 0\n",
            "_________________________________________________________________\n"
          ]
        }
      ]
    },
    {
      "cell_type": "code",
      "metadata": {
        "id": "N_SOf1L5pLNw"
      },
      "source": [
        "# Создадим экземпляр оптимизатора\n",
        "optimizer = Adam(learning_rate=1e-3) \n",
        "\n",
        "# Создадим экспемпляр функции потерь\n",
        "loss_fn = tf.keras.losses.CategoricalCrossentropy()\n",
        "\n",
        "# Подготовим тренировочный датасет\n",
        "batch_size = 64\n",
        "train_dataset = tf.data.Dataset.from_tensor_slices((X_train, y_train)) \n",
        "train_dataset = train_dataset.shuffle(buffer_size=X_train.shape[0]).batch(batch_size) "
      ],
      "execution_count": null,
      "outputs": []
    },
    {
      "cell_type": "code",
      "metadata": {
        "id": "iVBfZM_0M6Ds",
        "colab": {
          "base_uri": "https://localhost:8080/"
        },
        "outputId": "e2512c7a-98f3-47e9-b313-56c47f18185c"
      },
      "source": [
        "for batch in train_dataset:\n",
        "    print('Shape of images', batch[0].shape)\n",
        "    print('Shape of labels', batch[1].shape)\n",
        "    break"
      ],
      "execution_count": null,
      "outputs": [
        {
          "output_type": "stream",
          "name": "stdout",
          "text": [
            "Shape of images (64, 28, 28)\n",
            "Shape of labels (64, 10)\n"
          ]
        }
      ]
    },
    {
      "cell_type": "code",
      "metadata": {
        "colab": {
          "base_uri": "https://localhost:8080/"
        },
        "id": "MCylIliIpcSK",
        "outputId": "70044815-d80c-471e-a29a-e10d3f5e64d2"
      },
      "source": [
        "# Итерируем по эпохам\n",
        "grad_log = []\n",
        "\n",
        "epochs = 2  # учим немного, т.к. задача посмотреть , что происходит с градиентом\n",
        "\n",
        "for epoch in range(epochs): \n",
        "    print(f'\\nНачинаем эпоху {epoch}') \n",
        "\n",
        "    # Итерируем по батчам в датасете\n",
        "    for step, (x_batch_train, y_batch_train) in enumerate(train_dataset): \n",
        "        \n",
        "        # Откроем GradientTape чтобы записать операции\n",
        "        # выполняемые во время прямого прохода, включающего автодифференцирование\n",
        "        with tf.GradientTape() as tape: \n",
        "            # Запустим прямой проход слоя\n",
        "            preds = modelg(x_batch_train) \n",
        "\n",
        "            # Вычислим значение потерь для этого батча\n",
        "            loss_value = loss_fn(y_batch_train, preds)\n",
        "\n",
        "            # Используем gradient tape для автоматического извлечения градиентов \n",
        "            # обучаемых переменных относительно потерь\n",
        "            grads = tape.gradient(loss_value, modelg.trainable_weights) \n",
        "            g_g = []\n",
        "\n",
        "            # пишем логи для сохранения значений градиента и веса по одной цепи \n",
        "            for g_s in grads:\n",
        "                # допишем логи значений градиента в зависимости от размера тензора градиента\n",
        "                # if len(g_s.numpy().shape) == 1:\n",
        "                #     g_g.append(g_s.numpy()[0])\n",
        "                if len(g_s.numpy().shape) == 2:\n",
        "                    g_g.append(g_s.numpy()[0, 0]) \n",
        "\n",
        "                \n",
        "        # добавляем текущие логи по слоям к общей записи\n",
        "        grad_log.append(g_g)\n",
        "\n",
        "        # Выполним один шаг градиентного спуска,\n",
        "        # обновив значение переменных минимизирующих потери\n",
        "        optimizer.apply_gradients(zip(grads, modelg.trainable_weights)) \n",
        "\n",
        "        # Пишем лог каждые 200 шагов\n",
        "        if step % 200 == 0:\n",
        "            print(f'Эпоха {epoch + 1}/{epochs}', end='. ')\n",
        "            print(f'Шаг {step}. Лосс на обучении (для одного батча) на шаге: {loss_value}') \n",
        "            print(f'Уже увидели: {(step + 1) * batch_size} примеров')"
      ],
      "execution_count": null,
      "outputs": [
        {
          "output_type": "stream",
          "name": "stdout",
          "text": [
            "\n",
            "Начинаем эпоху 0\n",
            "Эпоха 1/2. Шаг 0. Лосс на обучении (для одного батча) на шаге: 2.302700996398926\n",
            "Уже увидели: 64 примеров\n",
            "Эпоха 1/2. Шаг 200. Лосс на обучении (для одного батча) на шаге: 0.3173890709877014\n",
            "Уже увидели: 12864 примеров\n",
            "Эпоха 1/2. Шаг 400. Лосс на обучении (для одного батча) на шаге: 0.46857988834381104\n",
            "Уже увидели: 25664 примеров\n",
            "Эпоха 1/2. Шаг 600. Лосс на обучении (для одного батча) на шаге: 0.6595134735107422\n",
            "Уже увидели: 38464 примеров\n",
            "Эпоха 1/2. Шаг 800. Лосс на обучении (для одного батча) на шаге: 0.32317376136779785\n",
            "Уже увидели: 51264 примеров\n",
            "\n",
            "Начинаем эпоху 1\n",
            "Эпоха 2/2. Шаг 0. Лосс на обучении (для одного батча) на шаге: 0.32986608147621155\n",
            "Уже увидели: 64 примеров\n",
            "Эпоха 2/2. Шаг 200. Лосс на обучении (для одного батча) на шаге: 0.3694465756416321\n",
            "Уже увидели: 12864 примеров\n",
            "Эпоха 2/2. Шаг 400. Лосс на обучении (для одного батча) на шаге: 0.5656865835189819\n",
            "Уже увидели: 25664 примеров\n",
            "Эпоха 2/2. Шаг 600. Лосс на обучении (для одного батча) на шаге: 0.3743567168712616\n",
            "Уже увидели: 38464 примеров\n",
            "Эпоха 2/2. Шаг 800. Лосс на обучении (для одного батча) на шаге: 0.3108255863189697\n",
            "Уже увидели: 51264 примеров\n"
          ]
        }
      ]
    },
    {
      "cell_type": "code",
      "metadata": {
        "colab": {
          "base_uri": "https://localhost:8080/",
          "height": 350
        },
        "id": "PN7GXEPBri2u",
        "outputId": "b71241e5-abdb-4def-cf49-49179adea461"
      },
      "source": [
        "grad_log = np.array(grad_log)\n",
        "\n",
        "plt.figure(figsize=(16, 5))\n",
        "plt.title('Градиент по слоям')\n",
        "plt.xlabel('№ layer')\n",
        "plt.ylabel('grad')\n",
        "plt.grid()\n",
        "plt.plot(np.abs(grad_log[0, :]), label='step 0')\n",
        "plt.plot(np.abs(grad_log[10, :]), label='step 10')\n",
        "plt.plot(np.abs(grad_log[100, :]), label='step 100')\n",
        "plt.plot(np.abs(grad_log[700, :]), label='step 700')\n",
        "plt.legend()\n",
        "plt.show()"
      ],
      "execution_count": null,
      "outputs": [
        {
          "output_type": "display_data",
          "data": {
            "text/plain": [
              "<Figure size 1152x360 with 1 Axes>"
            ],
            "image/png": "[encoded data removed]"
          },
          "metadata": {
            "needs_background": "light"
          }
        }
      ]
    },
    {
      "cell_type": "markdown",
      "metadata": {
        "id": "t3U0Cng8tDQg"
      },
      "source": [
        "Видим, что чем дальше слой от функции потерь, чем он ближе к началу, тем градиент становится меньше.\n",
        "\n",
        "Итого, если хочется более детально и низкоуровнево следить за обучением модели, нужно сделать следующие шаги:\n",
        "1. Взять батч объектов\n",
        "2. Получить предсказания модель на объктах\n",
        "3. Посчитать ошибку предсказания\n",
        "4. Посчитать градиенты\n",
        "5. Сделать шаг оптимизации"
      ]
    },
    {
      "cell_type": "markdown",
      "metadata": {
        "id": "Eh-unHPRwe7M"
      },
      "source": [
        "### Сделаем анализ ошибок модели"
      ]
    },
    {
      "cell_type": "code",
      "metadata": {
        "id": "5c6MdztxalDc"
      },
      "source": [
        "from sklearn.metrics import confusion_matrix, ConfusionMatrixDisplay"
      ],
      "execution_count": null,
      "outputs": []
    },
    {
      "cell_type": "code",
      "metadata": {
        "colab": {
          "base_uri": "https://localhost:8080/"
        },
        "id": "ApcYAUE4dr8q",
        "outputId": "a8ee495e-9201-47c2-bd57-19e1ce88348f"
      },
      "source": [
        "y_pred = np.argmax(modelg.predict(X_test), axis=1)\n",
        "y_pred[:10]"
      ],
      "execution_count": null,
      "outputs": [
        {
          "output_type": "stream",
          "name": "stdout",
          "text": [
            "313/313 [==============================] - 1s 2ms/step\n"
          ]
        },
        {
          "output_type": "execute_result",
          "data": {
            "text/plain": [
              "array([9, 2, 1, 1, 6, 1, 4, 6, 5, 7])"
            ]
          },
          "metadata": {},
          "execution_count": 74
        }
      ]
    },
    {
      "cell_type": "code",
      "metadata": {
        "colab": {
          "base_uri": "https://localhost:8080/"
        },
        "id": "DG7c3AV9ekyg",
        "outputId": "3e37cef0-371f-45f1-be20-375ab6292d98"
      },
      "source": [
        "CM = confusion_matrix(y_test_labels, y_pred)\n",
        "print(CM)"
      ],
      "execution_count": null,
      "outputs": [
        {
          "output_type": "stream",
          "name": "stdout",
          "text": [
            "[[784   7  16  29   4   1 143   0  16   0]\n",
            " [  0 966   2  19   4   0   8   0   1   0]\n",
            " [  7   1 601   7 203   0 176   0   5   0]\n",
            " [ 23  45  13 818  53   2  42   0   4   0]\n",
            " [  0   1  50  17 849   0  79   0   4   0]\n",
            " [  1   0   0   0   0 909   0  51   1  38]\n",
            " [114   5  55  23 105   0 675   0  23   0]\n",
            " [  0   0   0   0   0  11   0 933   0  56]\n",
            " [  0   1   3   4   6   6   8   7 965   0]\n",
            " [  0   0   0   0   0   2   0  28   1 969]]\n"
          ]
        }
      ]
    },
    {
      "cell_type": "code",
      "metadata": {
        "colab": {
          "base_uri": "https://localhost:8080/",
          "height": 600
        },
        "id": "V2kt2VW0i82L",
        "outputId": "a35892b7-d219-4e6f-fc47-707830761ff5"
      },
      "source": [
        "disp = ConfusionMatrixDisplay(confusion_matrix=CM, display_labels=class_names)\n",
        "\n",
        "fig, ax = plt.subplots(figsize=(10, 10))\n",
        "disp.plot(values_format='.3g', ax=ax)\n",
        "plt.xticks(rotation=70)\n",
        "plt.show();"
      ],
      "execution_count": null,
      "outputs": [
        {
          "output_type": "display_data",
          "data": {
            "text/plain": [
              "<Figure size 720x720 with 2 Axes>"
            ],
            "image/png": "[encoded data removed]"
          },
          "metadata": {
            "needs_background": "light"
          }
        }
      ]
    },
    {
      "cell_type": "markdown",
      "metadata": {
        "id": "FEq8mmOM3knb"
      },
      "source": [
        "Сеть делает ошибки. Можно их попробовать исправить, если сделать комбинацию сетей (ансамбль) . Проверим вариант усреднения."
      ]
    },
    {
      "cell_type": "markdown",
      "metadata": {
        "id": "f_dWDPIIuE6e"
      },
      "source": [
        "# **Ансамбль сетей**\n",
        "\n",
        "Использование функционального API для построения сложных сетей"
      ]
    },
    {
      "cell_type": "markdown",
      "metadata": {
        "id": "hcSnl7L5FzTA"
      },
      "source": [
        "Нейросеть при хорошо подобранных параметрах должна была выдать корректное предсказание\n",
        "\n",
        "\n",
        "Реализуем одинаковые сети в разном стиле:\n",
        "- model1 - линейная модель через список\n",
        "- model2 - линейная модель через добавление слоев по очереди\n",
        "- model3 - модель через функциональное описание\n"
      ]
    },
    {
      "cell_type": "code",
      "metadata": {
        "id": "mubsCHw0p81r"
      },
      "source": [
        "# заполняем модель списком\n",
        "model1 = Sequential([\n",
        "    Flatten(input_shape=(28, 28)),\n",
        "    Dense(128, activation='relu'),\n",
        "    Dense(10, activation='softmax')\n",
        "])\n",
        "\n",
        "# заполняем модель, добавляя слои последовательно \n",
        "model2 = Sequential()\n",
        "model2.add(Flatten(input_shape=(28, 28)))\n",
        "model2.add(Dense(256, activation='relu'))\n",
        "model2.add(Dense(10, activation='softmax'))\n",
        "\n",
        "\n",
        "# Заполняем модель, формируя граф передачи тензоров\n",
        "input = Input(shape=(28, 28))\n",
        "x = Flatten()(input)\n",
        "x = Dense(256, activation='relu')(x)\n",
        "output = Dense(10, activation='softmax')(x)\n",
        "model3 = Model(input, output)"
      ],
      "execution_count": null,
      "outputs": []
    },
    {
      "cell_type": "markdown",
      "metadata": {
        "id": "c2yLQbLup-vN"
      },
      "source": [
        "### Функции потерь"
      ]
    },
    {
      "cell_type": "markdown",
      "metadata": {
        "id": "nMZjD7ubqLJL"
      },
      "source": [
        "1. Абсолютная\n",
        "$$L(y, \\hat{y}) = |y - \\hat{y}|$$\n",
        "2. Квадратичная\n",
        "$$L(y, \\hat{y}) = (y - \\hat{y})^2$$\n",
        "3. Бинарная кросс-энтропия (BinaryCrossentropy)\n",
        "$$L(y, \\hat{y}) = -\\frac{1}{N}(y\\log(\\hat{y}) + (1 - y)\\log(1-\\hat{y}))$$\n",
        "\n",
        "4. Категориальная кросс-энтропия (CategoricalCrossentropy, Softmax Loss)<br>\n",
        "Функция ожидает метки классов в формате One-hot-encoding.\n",
        "$$CE = - \\log \\frac{e_i}{\\sum_j^C{e_j}}$$\n",
        "\n",
        "5. Спарс категориальная кросс-энтропия (SparseCategoricalCrossentropy)<br>\n",
        "Функция ожидает метки классов в формате Label-encoding."
      ]
    },
    {
      "cell_type": "code",
      "metadata": {
        "id": "pyurjN_EJN9P",
        "colab": {
          "base_uri": "https://localhost:8080/"
        },
        "outputId": "40934abd-02f5-4acb-b030-40051973a168"
      },
      "source": [
        "model1.compile(optimizer='sgd',\n",
        "               loss=SparseCategoricalCrossentropy(),\n",
        "               metrics=['accuracy'])\n",
        "model2.compile(optimizer='rmsprop',\n",
        "               loss=SparseCategoricalCrossentropy(),\n",
        "               metrics=['accuracy'])\n",
        "model3.compile(optimizer='adam',\n",
        "               loss=SparseCategoricalCrossentropy(),\n",
        "               metrics=['accuracy'])\n",
        "\n",
        "\n",
        "hist1 = model1.fit(X_train, y_train_labels,\n",
        "                   epochs=5,\n",
        "                   batch_size=256,\n",
        "                   validation_data=(X_test, y_test_labels))\n",
        "print()\n",
        "hist2 = model2.fit(X_train, y_train_labels,\n",
        "                   epochs=5,\n",
        "                   batch_size=256,\n",
        "                   validation_data=(X_test, y_test_labels))\n",
        "print()\n",
        "hist3 = model3.fit(X_train, y_train_labels,\n",
        "                   epochs=5,\n",
        "                   batch_size=256,\n",
        "                   validation_data=(X_test, y_test_labels))"
      ],
      "execution_count": null,
      "outputs": [
        {
          "output_type": "stream",
          "name": "stdout",
          "text": [
            "Epoch 1/5\n",
            "235/235 [==============================] - 1s 4ms/step - loss: 1.2982 - accuracy: 0.6177 - val_loss: 0.9375 - val_accuracy: 0.6943\n",
            "Epoch 2/5\n",
            "235/235 [==============================] - 1s 3ms/step - loss: 0.8256 - accuracy: 0.7317 - val_loss: 0.7721 - val_accuracy: 0.7401\n",
            "Epoch 3/5\n",
            "235/235 [==============================] - 1s 3ms/step - loss: 0.7146 - accuracy: 0.7663 - val_loss: 0.7007 - val_accuracy: 0.7646\n",
            "Epoch 4/5\n",
            "235/235 [==============================] - 1s 4ms/step - loss: 0.6550 - accuracy: 0.7854 - val_loss: 0.6527 - val_accuracy: 0.7821\n",
            "Epoch 5/5\n",
            "235/235 [==============================] - 1s 3ms/step - loss: 0.6156 - accuracy: 0.7982 - val_loss: 0.6237 - val_accuracy: 0.7891\n",
            "\n",
            "Epoch 1/5\n",
            "235/235 [==============================] - 1s 4ms/step - loss: 0.6317 - accuracy: 0.7795 - val_loss: 0.5169 - val_accuracy: 0.8147\n",
            "Epoch 2/5\n",
            "235/235 [==============================] - 1s 4ms/step - loss: 0.4317 - accuracy: 0.8437 - val_loss: 0.4552 - val_accuracy: 0.8370\n",
            "Epoch 3/5\n",
            "235/235 [==============================] - 1s 4ms/step - loss: 0.3760 - accuracy: 0.8638 - val_loss: 0.4010 - val_accuracy: 0.8571\n",
            "Epoch 4/5\n",
            "235/235 [==============================] - 1s 5ms/step - loss: 0.3429 - accuracy: 0.8741 - val_loss: 0.3653 - val_accuracy: 0.8700\n",
            "Epoch 5/5\n",
            "235/235 [==============================] - 2s 7ms/step - loss: 0.3196 - accuracy: 0.8816 - val_loss: 0.3656 - val_accuracy: 0.8713\n",
            "\n",
            "Epoch 1/5\n",
            "235/235 [==============================] - 1s 4ms/step - loss: 0.5613 - accuracy: 0.8096 - val_loss: 0.4588 - val_accuracy: 0.8376\n",
            "Epoch 2/5\n",
            "235/235 [==============================] - 1s 3ms/step - loss: 0.4054 - accuracy: 0.8588 - val_loss: 0.4184 - val_accuracy: 0.8544\n",
            "Epoch 3/5\n",
            "235/235 [==============================] - 1s 3ms/step - loss: 0.3687 - accuracy: 0.8695 - val_loss: 0.4115 - val_accuracy: 0.8507\n",
            "Epoch 4/5\n",
            "235/235 [==============================] - 1s 3ms/step - loss: 0.3403 - accuracy: 0.8803 - val_loss: 0.3872 - val_accuracy: 0.8653\n",
            "Epoch 5/5\n",
            "235/235 [==============================] - 1s 3ms/step - loss: 0.3208 - accuracy: 0.8855 - val_loss: 0.3699 - val_accuracy: 0.8664\n"
          ]
        }
      ]
    },
    {
      "cell_type": "code",
      "metadata": {
        "id": "N8SMebNEMi37",
        "colab": {
          "base_uri": "https://localhost:8080/",
          "height": 295
        },
        "outputId": "799b45ff-edf4-4f90-b675-8d6f6a08fc08"
      },
      "source": [
        "plt.plot(hist1.history['val_accuracy'], label='model1 acc sgd')\n",
        "plt.plot(hist2.history['val_accuracy'], label='model2 acc rmsprop')\n",
        "plt.plot(hist3.history['val_accuracy'], label='model3 acc adam')\n",
        "plt.title('точность сетей от эпох')\n",
        "plt.xlabel('эпоха')\n",
        "plt.legend()\n",
        "plt.show()"
      ],
      "execution_count": null,
      "outputs": [
        {
          "output_type": "display_data",
          "data": {
            "text/plain": [
              "<Figure size 432x288 with 1 Axes>"
            ],
            "image/png": "[encoded data removed]"
          },
          "metadata": {
            "needs_background": "light"
          }
        }
      ]
    },
    {
      "cell_type": "code",
      "metadata": {
        "id": "iD4oM4JhPHWn",
        "colab": {
          "base_uri": "https://localhost:8080/"
        },
        "outputId": "8c248ee5-31f7-4cf1-e218-fdffe6fbd1d4"
      },
      "source": [
        "y_pred1 = np.argmax(model1.predict(X_test), axis=1)\n",
        "y_pred2 = np.argmax(model2.predict(X_test), axis=1)\n",
        "y_pred3 = np.argmax(model3.predict(X_test), axis=1)\n",
        "\n",
        "CM1 = confusion_matrix(y_test_labels, y_pred1)\n",
        "CM2 = confusion_matrix(y_test_labels, y_pred2)\n",
        "CM3 = confusion_matrix(y_test_labels, y_pred3)"
      ],
      "execution_count": null,
      "outputs": [
        {
          "output_type": "stream",
          "name": "stdout",
          "text": [
            "313/313 [==============================] - 1s 2ms/step\n",
            "313/313 [==============================] - 0s 1ms/step\n",
            "313/313 [==============================] - 1s 2ms/step\n"
          ]
        }
      ]
    },
    {
      "cell_type": "code",
      "metadata": {
        "colab": {
          "base_uri": "https://localhost:8080/",
          "height": 380
        },
        "id": "_3DBsXLN-Q2T",
        "outputId": "c34e7ed7-3f2d-4fb8-d427-facd4d245470"
      },
      "source": [
        "fig, (ax1, ax2, ax3) = plt.subplots(1, 3, figsize=(20, 6))\n",
        "\n",
        "disp1 = ConfusionMatrixDisplay(confusion_matrix=CM1, display_labels=class_names)\n",
        "disp1.plot(ax=ax1, values_format='.3g')\n",
        "plt.setp(ax1.xaxis.get_majorticklabels(), rotation=70)\n",
        "\n",
        "disp2 = ConfusionMatrixDisplay(confusion_matrix=CM2, display_labels=class_names)\n",
        "disp2.plot(ax=ax2, values_format='.3g')\n",
        "plt.setp(ax2.xaxis.get_majorticklabels(), rotation=70)\n",
        "\n",
        "disp3 = ConfusionMatrixDisplay(confusion_matrix=CM3, display_labels=class_names)\n",
        "disp3.plot(ax=ax3, values_format='.3g')\n",
        "plt.xticks(rotation=70)\n",
        "\n",
        "plt.show()"
      ],
      "execution_count": null,
      "outputs": [
        {
          "output_type": "display_data",
          "data": {
            "text/plain": [
              "<Figure size 1440x432 with 6 Axes>"
            ],
            "image/png": "[encoded data removed]"
          },
          "metadata": {
            "needs_background": "light"
          }
        }
      ]
    },
    {
      "cell_type": "code",
      "metadata": {
        "id": "stCJv8cZMQZf"
      },
      "source": [
        "# сохранить модели на диск.\n",
        "model1.save('model1.h5')\n",
        "model2.save('model2.h5')\n",
        "model3.save('model3.h5')\n",
        "\n",
        "# прочитать модели с диска\n",
        "# model = load_model('model.h5')"
      ],
      "execution_count": null,
      "outputs": []
    },
    {
      "cell_type": "markdown",
      "metadata": {
        "id": "RP9nm6V6qS7q"
      },
      "source": [
        "Сделаем предсказание на тестовом изображении"
      ]
    },
    {
      "cell_type": "code",
      "metadata": {
        "id": "QvkvodqxWmVn",
        "colab": {
          "base_uri": "https://localhost:8080/"
        },
        "outputId": "e0793748-c50e-4f19-db28-984e3fd9489c"
      },
      "source": [
        "y_pred_proba = model3.predict(X_test)\n",
        "y_pred = np.argmax(y_pred_proba, axis=1)"
      ],
      "execution_count": null,
      "outputs": [
        {
          "output_type": "stream",
          "name": "stdout",
          "text": [
            "313/313 [==============================] - 0s 1ms/step\n"
          ]
        }
      ]
    },
    {
      "cell_type": "markdown",
      "metadata": {
        "id": "b2WJFW5kqagU"
      },
      "source": [
        "Отобразим значения на выходах сети (10 выходов - 10 точек графика)"
      ]
    },
    {
      "cell_type": "code",
      "metadata": {
        "id": "EF18AOsTbsih",
        "colab": {
          "base_uri": "https://localhost:8080/",
          "height": 295
        },
        "outputId": "dddadcc7-a12c-4ab5-87c6-a0b687ca572c"
      },
      "source": [
        "N = 10 \n",
        "plt.plot(y_pred_proba[N, :])\n",
        "plt.title(f'объект {class_names[y_test_labels[N]]} #{str(y_test_labels[N])}')\n",
        "plt.xlabel('номер выхода сети')\n",
        "plt.ylabel('значение на выходе')\n",
        "plt.show()"
      ],
      "execution_count": null,
      "outputs": [
        {
          "output_type": "display_data",
          "data": {
            "text/plain": [
              "<Figure size 432x288 with 1 Axes>"
            ],
            "image/png": "[encoded data removed]"
          },
          "metadata": {
            "needs_background": "light"
          }
        }
      ]
    },
    {
      "cell_type": "code",
      "metadata": {
        "id": "K0cGPgqBc-sb",
        "colab": {
          "base_uri": "https://localhost:8080/"
        },
        "outputId": "f6c3d790-cca3-4a1a-a000-72dc6eb4587a"
      },
      "source": [
        "test_loss, test_acc = model1.evaluate(X_test, y_test_labels, verbose=2)\n",
        "test_loss, test_acc = model2.evaluate(X_test, y_test_labels, verbose=2)\n",
        "test_loss, test_acc = model3.evaluate(X_test, y_test_labels, verbose=2)"
      ],
      "execution_count": null,
      "outputs": [
        {
          "output_type": "stream",
          "name": "stdout",
          "text": [
            "313/313 - 1s - loss: 0.6178 - accuracy: 0.7901 - 572ms/epoch - 2ms/step\n",
            "313/313 - 1s - loss: 0.3940 - accuracy: 0.8604 - 595ms/epoch - 2ms/step\n",
            "313/313 - 1s - loss: 0.3646 - accuracy: 0.8690 - 584ms/epoch - 2ms/step\n"
          ]
        }
      ]
    },
    {
      "cell_type": "markdown",
      "metadata": {
        "id": "2TQpdoQi26b8"
      },
      "source": [
        "Усреднение моделей"
      ]
    },
    {
      "cell_type": "code",
      "metadata": {
        "id": "3cJ-0N8Es0gB"
      },
      "source": [
        "input = Input(shape=(28, 28))\n",
        "flat = Flatten()(input)\n",
        "\n",
        "x1 = Dense(128, activation='relu')(flat)\n",
        "x1 = Dense(10, activation='softmax')(x1)\n",
        "model1 = Model(inputs=input, outputs=x1)\n",
        "\n",
        "\n",
        "x2 = Dense(256, activation='relu')(flat)\n",
        "x2 = Dense(10, activation='softmax')(x2)\n",
        "model2 = Model(inputs=input, outputs=x2)\n",
        "\n",
        "\n",
        "x3 = Dense(256, activation='relu')(flat)\n",
        "x3 = Dense(10, activation='softmax')(x3)\n",
        "model3 = Model(inputs=input, outputs=x3)\n",
        "\n",
        "\n",
        "# усредняем выходы сетей\n",
        "out_all = tf.keras.layers.Average()([model1.output, model2.output, model3.output])\n",
        "out_all = tf.keras.layers.Softmax()(out_all)\n",
        "\n",
        "model_all = Model(inputs=[input], outputs=out_all)\n",
        "model_all.compile(optimizer='adam',\n",
        "                  loss=SparseCategoricalCrossentropy(from_logits=True),\n",
        "                  metrics=['accuracy'])\n",
        "\n",
        "\n",
        "model1.load_weights('model1.h5')\n",
        "model2.load_weights('model2.h5')\n",
        "model3.load_weights('model3.h5')"
      ],
      "execution_count": null,
      "outputs": []
    },
    {
      "cell_type": "code",
      "metadata": {
        "id": "uyUsa1Afs6cW",
        "colab": {
          "base_uri": "https://localhost:8080/"
        },
        "outputId": "039cc3a9-af1e-45ae-ee2e-c62e586ef141"
      },
      "source": [
        "model_all.summary()"
      ],
      "execution_count": null,
      "outputs": [
        {
          "output_type": "stream",
          "name": "stdout",
          "text": [
            "Model: \"model_7\"\n",
            "__________________________________________________________________________________________________\n",
            " Layer (type)                   Output Shape         Param #     Connected to                     \n",
            "==================================================================================================\n",
            " input_4 (InputLayer)           [(None, 28, 28)]     0           []                               \n",
            "                                                                                                  \n",
            " flatten_6 (Flatten)            (None, 784)          0           ['input_4[0][0]']                \n",
            "                                                                                                  \n",
            " dense_23 (Dense)               (None, 128)          100480      ['flatten_6[0][0]']              \n",
            "                                                                                                  \n",
            " dense_25 (Dense)               (None, 256)          200960      ['flatten_6[0][0]']              \n",
            "                                                                                                  \n",
            " dense_27 (Dense)               (None, 256)          200960      ['flatten_6[0][0]']              \n",
            "                                                                                                  \n",
            " dense_24 (Dense)               (None, 10)           1290        ['dense_23[0][0]']               \n",
            "                                                                                                  \n",
            " dense_26 (Dense)               (None, 10)           2570        ['dense_25[0][0]']               \n",
            "                                                                                                  \n",
            " dense_28 (Dense)               (None, 10)           2570        ['dense_27[0][0]']               \n",
            "                                                                                                  \n",
            " average (Average)              (None, 10)           0           ['dense_24[0][0]',               \n",
            "                                                                  'dense_26[0][0]',               \n",
            "                                                                  'dense_28[0][0]']               \n",
            "                                                                                                  \n",
            " softmax_1 (Softmax)            (None, 10)           0           ['average[0][0]']                \n",
            "                                                                                                  \n",
            "==================================================================================================\n",
            "Total params: 508,830\n",
            "Trainable params: 508,830\n",
            "Non-trainable params: 0\n",
            "__________________________________________________________________________________________________\n"
          ]
        }
      ]
    },
    {
      "cell_type": "code",
      "metadata": {
        "id": "ET_usPF9ejrP",
        "colab": {
          "base_uri": "https://localhost:8080/",
          "height": 564
        },
        "outputId": "91184557-2d74-496f-c30c-ff1e84300747"
      },
      "source": [
        "from tensorflow.keras.utils import plot_model\n",
        "plot_model(model_all)"
      ],
      "execution_count": null,
      "outputs": [
        {
          "output_type": "execute_result",
          "data": {
            "image/png": "[encoded data removed]",
            "text/plain": [
              "<IPython.core.display.Image object>"
            ]
          },
          "metadata": {},
          "execution_count": 84
        }
      ]
    },
    {
      "cell_type": "code",
      "metadata": {
        "id": "9nqTRLVhts6i",
        "colab": {
          "base_uri": "https://localhost:8080/"
        },
        "outputId": "f1c4aba4-8e24-4a4d-8a2e-c3e7e8281934"
      },
      "source": [
        "predictions_single = model_all.predict(imgs)\n",
        "predictions_single"
      ],
      "execution_count": null,
      "outputs": [
        {
          "output_type": "stream",
          "name": "stdout",
          "text": [
            "1/1 [==============================] - 0s 75ms/step\n"
          ]
        },
        {
          "output_type": "execute_result",
          "data": {
            "text/plain": [
              "array([[0.088259  , 0.08825591, 0.08826169, 0.08826587, 0.08827776,\n",
              "        0.09700608, 0.08827157, 0.10826904, 0.08913592, 0.1759972 ]],\n",
              "      dtype=float32)"
            ]
          },
          "metadata": {},
          "execution_count": 85
        }
      ]
    },
    {
      "cell_type": "code",
      "metadata": {
        "id": "ZRejlxRetwpq",
        "colab": {
          "base_uri": "https://localhost:8080/",
          "height": 300
        },
        "outputId": "4bf943d8-44f0-48ce-a912-935e66fbe2b2"
      },
      "source": [
        "plot_value_array(0, predictions_single, y_test_labels)\n",
        "_ = plt.xticks(range(10), class_names, rotation=45)"
      ],
      "execution_count": null,
      "outputs": [
        {
          "output_type": "display_data",
          "data": {
            "text/plain": [
              "<Figure size 432x288 with 1 Axes>"
            ],
            "image/png": "[encoded data removed]"
          },
          "metadata": {
            "needs_background": "light"
          }
        }
      ]
    },
    {
      "cell_type": "code",
      "metadata": {
        "id": "OnUoZIIgt10d",
        "colab": {
          "base_uri": "https://localhost:8080/"
        },
        "outputId": "e8605493-c3a6-4ef4-dc97-959771e4cf88"
      },
      "source": [
        "test_loss, test_acc = model_all.evaluate(X_test, y_test_labels, verbose=2)"
      ],
      "execution_count": null,
      "outputs": [
        {
          "output_type": "stream",
          "name": "stdout",
          "text": [
            "313/313 - 1s - loss: 2.2115 - accuracy: 0.8711 - 853ms/epoch - 3ms/step\n"
          ]
        }
      ]
    },
    {
      "cell_type": "code",
      "metadata": {
        "id": "IkT0L8D-Oi4x",
        "colab": {
          "base_uri": "https://localhost:8080/",
          "height": 296
        },
        "outputId": "22c6de03-e5ba-4bb9-ae03-6a5a2c42395b"
      },
      "source": [
        "y_pred_all = np.argmax(model_all.predict(X_test), axis=1)\n",
        "\n",
        "CM_all = confusion_matrix(y_test_labels, y_pred_all)\n",
        "disp_all = ConfusionMatrixDisplay(confusion_matrix=CM_all, display_labels=np.arange(10))\n",
        "disp_all.plot(values_format ='.3g')\n",
        "plt.show()"
      ],
      "execution_count": null,
      "outputs": [
        {
          "output_type": "stream",
          "name": "stdout",
          "text": [
            "313/313 [==============================] - 1s 2ms/step\n"
          ]
        },
        {
          "output_type": "display_data",
          "data": {
            "text/plain": [
              "<Figure size 432x288 with 2 Axes>"
            ],
            "image/png": "[encoded data removed]"
          },
          "metadata": {
            "needs_background": "light"
          }
        }
      ]
    },
    {
      "cell_type": "code",
      "metadata": {
        "colab": {
          "base_uri": "https://localhost:8080/"
        },
        "id": "ieChLpxhBicr",
        "outputId": "ee885e98-a63c-4833-f7bb-63d5159f3a05"
      },
      "source": [
        "hist1 = model_all.fit(X_train, y_train_labels,\n",
        "                      epochs=5,\n",
        "                      batch_size=256,\n",
        "                      validation_data=(X_test, y_test_labels))"
      ],
      "execution_count": null,
      "outputs": [
        {
          "output_type": "stream",
          "name": "stdout",
          "text": [
            "Epoch 1/5\n",
            "235/235 [==============================] - 2s 5ms/step - loss: 2.1981 - accuracy: 0.8705 - val_loss: 2.1977 - val_accuracy: 0.8569\n",
            "Epoch 2/5\n",
            "235/235 [==============================] - 1s 4ms/step - loss: 2.1939 - accuracy: 0.8789 - val_loss: 2.1955 - val_accuracy: 0.8637\n",
            "Epoch 3/5\n",
            "235/235 [==============================] - 1s 4ms/step - loss: 2.1922 - accuracy: 0.8853 - val_loss: 2.1941 - val_accuracy: 0.8698\n",
            "Epoch 4/5\n",
            "235/235 [==============================] - 1s 4ms/step - loss: 2.1913 - accuracy: 0.8881 - val_loss: 2.1938 - val_accuracy: 0.8722\n",
            "Epoch 5/5\n",
            "235/235 [==============================] - 1s 4ms/step - loss: 2.1906 - accuracy: 0.8917 - val_loss: 2.1931 - val_accuracy: 0.8731\n"
          ]
        }
      ]
    },
    {
      "cell_type": "code",
      "metadata": {
        "colab": {
          "base_uri": "https://localhost:8080/",
          "height": 296
        },
        "id": "Z1O8A5dlBfq0",
        "outputId": "67eb9516-d5ce-499c-b507-8bedd7322b2f"
      },
      "source": [
        "y_pred_all = np.argmax(model_all.predict(X_test), axis=1)\n",
        "\n",
        "CM_all = confusion_matrix(y_test_labels, y_pred_all)\n",
        "disp_all = ConfusionMatrixDisplay(confusion_matrix=CM_all, display_labels=np.arange(10))\n",
        "disp_all.plot(values_format ='.3g')\n",
        "plt.show()"
      ],
      "execution_count": null,
      "outputs": [
        {
          "output_type": "stream",
          "name": "stdout",
          "text": [
            "313/313 [==============================] - 1s 2ms/step\n"
          ]
        },
        {
          "output_type": "display_data",
          "data": {
            "text/plain": [
              "<Figure size 432x288 with 2 Axes>"
            ],
            "image/png": "[encoded data removed]"
          },
          "metadata": {
            "needs_background": "light"
          }
        }
      ]
    },
    {
      "cell_type": "code",
      "metadata": {
        "id": "62dsQKqQ12tn",
        "colab": {
          "base_uri": "https://localhost:8080/"
        },
        "outputId": "760388b4-d316-4eb4-e4ad-5966be0c77da"
      },
      "source": [
        "test_loss, test_acc = model_all.evaluate(X_test, y_test_labels, verbose=2)"
      ],
      "execution_count": null,
      "outputs": [
        {
          "output_type": "stream",
          "name": "stdout",
          "text": [
            "313/313 - 1s - loss: 2.1931 - accuracy: 0.8731 - 627ms/epoch - 2ms/step\n"
          ]
        }
      ]
    },
    {
      "cell_type": "markdown",
      "source": [
        "## Дообучение"
      ],
      "metadata": {
        "id": "DyHBq-pP3Iqn"
      }
    },
    {
      "cell_type": "markdown",
      "metadata": {
        "id": "bNM2ojaL3Ahr"
      },
      "source": [
        "Обучение только новых слоев. Старые слои моделей замораживаем и не обучаем."
      ]
    },
    {
      "cell_type": "code",
      "metadata": {
        "id": "eAJ0gHjr3Ekp",
        "colab": {
          "base_uri": "https://localhost:8080/"
        },
        "outputId": "db24a3e1-4192-463b-fa24-993d8e19694f"
      },
      "source": [
        "input = Input(shape=(28, 28))\n",
        "flat = Flatten()(input)\n",
        "\n",
        "x1 = Dense(128, activation='relu')(flat)\n",
        "x1 = Dense(10, activation='softmax')(x1)\n",
        "model1 = Model(inputs=input, outputs=x1)\n",
        "# не обучаем слои модели\n",
        "for layer in model1.layers:\n",
        "    layer.trainable = False\n",
        "\n",
        "\n",
        "x2 = Dense(256, activation='relu')(flat)\n",
        "x2 = Dense(10, activation='softmax')(x2)\n",
        "model2 = Model(inputs=input, outputs=x2)\n",
        "# не обучаем слои модели\n",
        "for layer in model2.layers:\n",
        "    layer.trainable = False\n",
        "\n",
        "\n",
        "x3 = Dense(256, activation='relu')(flat)\n",
        "x3 = Dense(10, activation='softmax')(x3)\n",
        "model3 = Model(inputs=input, outputs=x3)\n",
        "# не обучаем слои модели\n",
        "for layer in model3.layers:\n",
        "    layer.trainable = False\n",
        "\n",
        "\n",
        "# усредняем выходы сетей\n",
        "out_all = tf.keras.layers.Average()([model1.output, model2.output, model3.output])\n",
        "# добавляем новый обучаемый слой\n",
        "# out_all = Dense(10, activation='relu')(out_all)\n",
        "\n",
        "out_all = tf.keras.layers.Softmax()(out_all)\n",
        "\n",
        "model_all = Model(inputs=[input], outputs=out_all)\n",
        "model_all.compile(optimizer='adam',\n",
        "                  loss=SparseCategoricalCrossentropy(),\n",
        "                  metrics=['accuracy'])\n",
        "\n",
        "\n",
        "model1.load_weights('model1.h5')\n",
        "model2.load_weights('model2.h5')\n",
        "model3.load_weights('model3.h5')\n",
        "\n",
        "model_all.summary()"
      ],
      "execution_count": null,
      "outputs": [
        {
          "output_type": "stream",
          "name": "stdout",
          "text": [
            "Model: \"model_14\"\n",
            "__________________________________________________________________________________________________\n",
            " Layer (type)                   Output Shape         Param #     Connected to                     \n",
            "==================================================================================================\n",
            " input_5 (InputLayer)           [(None, 28, 28)]     0           []                               \n",
            "                                                                                                  \n",
            " flatten_9 (Flatten)            (None, 784)          0           ['input_5[0][0]']                \n",
            "                                                                                                  \n",
            " dense_17 (Dense)               (None, 128)          100480      ['flatten_9[0][0]']              \n",
            "                                                                                                  \n",
            " dense_19 (Dense)               (None, 256)          200960      ['flatten_9[0][0]']              \n",
            "                                                                                                  \n",
            " dense_21 (Dense)               (None, 256)          200960      ['flatten_9[0][0]']              \n",
            "                                                                                                  \n",
            " dense_18 (Dense)               (None, 10)           1290        ['dense_17[0][0]']               \n",
            "                                                                                                  \n",
            " dense_20 (Dense)               (None, 10)           2570        ['dense_19[0][0]']               \n",
            "                                                                                                  \n",
            " dense_22 (Dense)               (None, 10)           2570        ['dense_21[0][0]']               \n",
            "                                                                                                  \n",
            " average_1 (Average)            (None, 10)           0           ['dense_18[0][0]',               \n",
            "                                                                  'dense_20[0][0]',               \n",
            "                                                                  'dense_22[0][0]']               \n",
            "                                                                                                  \n",
            " softmax_2 (Softmax)            (None, 10)           0           ['average_1[0][0]']              \n",
            "                                                                                                  \n",
            "==================================================================================================\n",
            "Total params: 508,830\n",
            "Trainable params: 0\n",
            "Non-trainable params: 508,830\n",
            "__________________________________________________________________________________________________\n"
          ]
        }
      ]
    },
    {
      "cell_type": "code",
      "metadata": {
        "id": "dwwrnJ1oLsiy",
        "colab": {
          "base_uri": "https://localhost:8080/"
        },
        "outputId": "f1ab9b72-793b-49d4-84a2-a3976645297c"
      },
      "source": [
        "test_loss, test_acc = model_all.evaluate(X_test, y_test_labels, verbose=2)"
      ],
      "execution_count": null,
      "outputs": [
        {
          "output_type": "stream",
          "name": "stdout",
          "text": [
            "313/313 - 1s - loss: 2.2115 - accuracy: 0.8711 - 837ms/epoch - 3ms/step\n"
          ]
        }
      ]
    },
    {
      "cell_type": "code",
      "metadata": {
        "id": "J0HcltPZ5St9",
        "colab": {
          "base_uri": "https://localhost:8080/"
        },
        "outputId": "6bcf1c3e-876a-46af-b290-9fe843211f08"
      },
      "source": [
        "for layer in model_all.layers[:]:\n",
        "    layer.trainable = True\n",
        "\n",
        "model_all.summary()"
      ],
      "execution_count": null,
      "outputs": [
        {
          "output_type": "stream",
          "name": "stdout",
          "text": [
            "Model: \"model_14\"\n",
            "__________________________________________________________________________________________________\n",
            " Layer (type)                   Output Shape         Param #     Connected to                     \n",
            "==================================================================================================\n",
            " input_5 (InputLayer)           [(None, 28, 28)]     0           []                               \n",
            "                                                                                                  \n",
            " flatten_9 (Flatten)            (None, 784)          0           ['input_5[0][0]']                \n",
            "                                                                                                  \n",
            " dense_17 (Dense)               (None, 128)          100480      ['flatten_9[0][0]']              \n",
            "                                                                                                  \n",
            " dense_19 (Dense)               (None, 256)          200960      ['flatten_9[0][0]']              \n",
            "                                                                                                  \n",
            " dense_21 (Dense)               (None, 256)          200960      ['flatten_9[0][0]']              \n",
            "                                                                                                  \n",
            " dense_18 (Dense)               (None, 10)           1290        ['dense_17[0][0]']               \n",
            "                                                                                                  \n",
            " dense_20 (Dense)               (None, 10)           2570        ['dense_19[0][0]']               \n",
            "                                                                                                  \n",
            " dense_22 (Dense)               (None, 10)           2570        ['dense_21[0][0]']               \n",
            "                                                                                                  \n",
            " average_1 (Average)            (None, 10)           0           ['dense_18[0][0]',               \n",
            "                                                                  'dense_20[0][0]',               \n",
            "                                                                  'dense_22[0][0]']               \n",
            "                                                                                                  \n",
            " softmax_2 (Softmax)            (None, 10)           0           ['average_1[0][0]']              \n",
            "                                                                                                  \n",
            "==================================================================================================\n",
            "Total params: 508,830\n",
            "Trainable params: 508,830\n",
            "Non-trainable params: 0\n",
            "__________________________________________________________________________________________________\n"
          ]
        }
      ]
    },
    {
      "cell_type": "code",
      "source": [
        "model_all.compile(optimizer='adam',\n",
        "                  loss=SparseCategoricalCrossentropy(),\n",
        "                  metrics=['accuracy'])"
      ],
      "metadata": {
        "id": "N70FViQIWFVh"
      },
      "execution_count": null,
      "outputs": []
    },
    {
      "cell_type": "code",
      "metadata": {
        "id": "qeWqYkYU45wG",
        "colab": {
          "base_uri": "https://localhost:8080/"
        },
        "outputId": "d2d5b7cd-1b6e-4147-916d-27eca553d2f1"
      },
      "source": [
        "hist1 = model_all.fit(X_train, y_train_labels,\n",
        "                      epochs=10,\n",
        "                      batch_size=256,\n",
        "                      validation_data=(X_test, y_test_labels))"
      ],
      "execution_count": null,
      "outputs": [
        {
          "output_type": "stream",
          "name": "stdout",
          "text": [
            "Epoch 1/10\n",
            "235/235 [==============================] - 2s 5ms/step - loss: 1.6159 - accuracy: 0.8766 - val_loss: 1.6150 - val_accuracy: 0.8663\n",
            "Epoch 2/10\n",
            "235/235 [==============================] - 1s 4ms/step - loss: 1.5947 - accuracy: 0.8854 - val_loss: 1.6103 - val_accuracy: 0.8665\n",
            "Epoch 3/10\n",
            "235/235 [==============================] - 1s 4ms/step - loss: 1.5872 - accuracy: 0.8891 - val_loss: 1.6030 - val_accuracy: 0.8739\n",
            "Epoch 4/10\n",
            "235/235 [==============================] - 1s 4ms/step - loss: 1.5809 - accuracy: 0.8952 - val_loss: 1.5988 - val_accuracy: 0.8752\n",
            "Epoch 5/10\n",
            "235/235 [==============================] - 1s 4ms/step - loss: 1.5762 - accuracy: 0.8984 - val_loss: 1.5974 - val_accuracy: 0.8732\n",
            "Epoch 6/10\n",
            "235/235 [==============================] - 1s 4ms/step - loss: 1.5735 - accuracy: 0.9005 - val_loss: 1.5935 - val_accuracy: 0.8763\n",
            "Epoch 7/10\n",
            "235/235 [==============================] - 1s 4ms/step - loss: 1.5700 - accuracy: 0.9030 - val_loss: 1.5896 - val_accuracy: 0.8807\n",
            "Epoch 8/10\n",
            "235/235 [==============================] - 1s 4ms/step - loss: 1.5672 - accuracy: 0.9056 - val_loss: 1.5873 - val_accuracy: 0.8820\n",
            "Epoch 9/10\n",
            "235/235 [==============================] - 1s 4ms/step - loss: 1.5645 - accuracy: 0.9072 - val_loss: 1.5882 - val_accuracy: 0.8788\n",
            "Epoch 10/10\n",
            "235/235 [==============================] - 1s 4ms/step - loss: 1.5622 - accuracy: 0.9097 - val_loss: 1.5859 - val_accuracy: 0.8833\n"
          ]
        }
      ]
    },
    {
      "cell_type": "code",
      "metadata": {
        "id": "s35vELls45nW",
        "colab": {
          "base_uri": "https://localhost:8080/"
        },
        "outputId": "f38fc7ad-51e4-4511-b19a-48dac0fece5b"
      },
      "source": [
        "test_loss, test_acc = model_all.evaluate(X_test, y_test_labels, verbose=2)"
      ],
      "execution_count": null,
      "outputs": [
        {
          "output_type": "stream",
          "name": "stdout",
          "text": [
            "313/313 - 1s - loss: 2.2115 - accuracy: 0.8711 - 610ms/epoch - 2ms/step\n"
          ]
        }
      ]
    },
    {
      "cell_type": "code",
      "metadata": {
        "id": "84IeaSup6PqQ"
      },
      "source": [
        "model_all.save('model_all.h5')"
      ],
      "execution_count": null,
      "outputs": []
    },
    {
      "cell_type": "code",
      "metadata": {
        "id": "4qYsA2yj6TRM",
        "colab": {
          "base_uri": "https://localhost:8080/"
        },
        "outputId": "1d6e4e70-7bee-4ba2-913f-af84d78ab35a"
      },
      "source": [
        "model_loaded = tf.keras.models.load_model('model_all.h5')\n",
        "test_loss, test_acc = model_loaded.evaluate(X_test, y_test_labels, verbose=2)"
      ],
      "execution_count": null,
      "outputs": [
        {
          "output_type": "stream",
          "name": "stderr",
          "text": [
            "WARNING:tensorflow:Error in loading the saved optimizer state. As a result, your model is starting with a freshly initialized optimizer.\n"
          ]
        },
        {
          "output_type": "stream",
          "name": "stdout",
          "text": [
            "313/313 - 1s - loss: 2.2115 - accuracy: 0.8711 - 730ms/epoch - 2ms/step\n"
          ]
        }
      ]
    },
    {
      "cell_type": "markdown",
      "metadata": {
        "id": "RY-X4hsB6zyc"
      },
      "source": [
        "Tensorflow - это про обработку нейросетей более сложным способом, с большей степенью интерактивности и воздействия на модель.\n",
        "\n",
        "Tensorflow позволяет обучать модели высокоуровнево, благодаря Keras, либо низкоуровнево через циклы, в которых нужно прописывать:\n",
        "1. Проход по батчу\n",
        "2. Предсказание модели на батче\n",
        "3. Подсчет ошибки\n",
        "4. Подсчет градиентов\n",
        "5. Обратный проход\n",
        "6. Логирование информации"
      ]
    },
    {
      "cell_type": "markdown",
      "metadata": {
        "id": "pZyy2UhoFzTB"
      },
      "source": [
        "# Домашнее задание\n",
        "\n",
        "  1. Постройте нейронную сеть (берем несложную полносвязную сеть, меняем число слоев, число нейронов, типы активации, тип оптимизатора) на датасете from sklearn.datasets import load_boston. \n",
        "  2. Постройте 10-15 вариантов разных нейронных сетей и сведите результаты их работы в таблицу.  Опишите, какого результата вы добились от нейросети? Что помогло вам улучшить ее точность?\n",
        "\n",
        "    "
      ]
    },
    {
      "cell_type": "markdown",
      "metadata": {
        "id": "oNZ6hZcMFzTE"
      },
      "source": [
        "# Дополнительные материалы\n",
        "\n",
        "1. https://www.tensorflow.org/api_docs - Документация\n",
        "2. https://www.tensorflow.org/tutorials/ - Туториалы"
      ]
    },
    {
      "cell_type": "markdown",
      "metadata": {
        "id": "Q64Z2Kr_FzTF"
      },
      "source": [
        "## Используемая литература \n",
        "\n",
        "Для подготовки данного методического пособия были использованы следующие ресурсы:\n",
        "<ol>\n",
        "    <li>https://www.tensorflow.org/</li>\n",
        "    <li>https://www.tensorflow.org/tutorials/keras/classification</li>\n",
        "    <li>Singh P., Manure A. - Learn TensorFlow 2.0 - 2020</li>\n",
        "    <li>Шакла Н. — Машинное обучение и TensorFlow 2019</li>\n",
        "    <li>Википедия</li>\n",
        "    \n",
        "</ol>"
      ]
    }
  ]
}