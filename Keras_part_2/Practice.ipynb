{
  "cells": [
    {
      "cell_type": "code",
      "execution_count": null,
      "id": "equivalent-arkansas",
      "metadata": {
        "id": "equivalent-arkansas"
      },
      "outputs": [],
      "source": [
        "from keras.datasets import fashion_mnist\n",
        "from keras.utils.vis_utils import plot_model\n",
        "from keras.layers import Dense\n",
        "from keras.models import Sequential\n",
        "from keras.utils.np_utils import to_categorical\n",
        "from keras.optimizer_v2.gradient_descent import SGD\n",
        "from keras.optimizer_v2.rmsprop import RMSprop\n",
        "from keras.optimizer_v2.adam import Adam\n",
        "from sklearn.metrics import confusion_matrix\n",
        "import numpy as np\n",
        "import pandas as pd\n",
        "import matplotlib.pyplot as plt\n",
        "import seaborn as sn\n",
        "import tensorflow as tf\n",
        "import itertools\n",
        "\n",
        "%matplotlib inline"
      ]
    },
    {
      "cell_type": "code",
      "execution_count": null,
      "id": "lesbian-emerald",
      "metadata": {
        "id": "lesbian-emerald"
      },
      "outputs": [],
      "source": [
        "tf.random.set_seed(1)"
      ]
    },
    {
      "cell_type": "markdown",
      "id": "competent-occasion",
      "metadata": {
        "id": "competent-occasion"
      },
      "source": [
        "## Решение домашнего задания к уроку 2. Keras"
      ]
    },
    {
      "cell_type": "markdown",
      "id": "marked-blind",
      "metadata": {
        "id": "marked-blind"
      },
      "source": [
        "### Задание:\n",
        "#### Используя файл Web2.ipynb (он в полезных ссылках):\n",
        "\n",
        "Возьмите набор примеров fashion-MNIST\n",
        "\n",
        "1. Опишите - какой результат нейросети получен в зависимости от:<br>\n",
        "    a. числа нейронов в слое (для 2-х слойной сети),<br>\n",
        "    b. числа слоев (2, 3, 5, 10) при близких размерах сети (близкое число тренируемых параметров).<br>\n",
        "    c. фиксируйте для тренировочного и тестового набора метрики accuracy.<br>\n",
        "\n",
        "2. Проверьте работу разных оптимизаторов (SGD, Adam, RMSProp) для одной из моделей п.1. Фиксируйте для тренировочного и тестового набора метрики accuracy.\n",
        "\n",
        "3. Сделайте вывод - что помогло вам улучшить качество классификации в нейросети на тестовом наборе?\n",
        "\n",
        "4. Для одного варианта сети сформируйте матрицу ошибок по классам. Оцените качество модели по каждому классу отдельно (полнота, точность)."
      ]
    },
    {
      "cell_type": "code",
      "execution_count": null,
      "id": "black-light",
      "metadata": {
        "colab": {
          "base_uri": "https://localhost:8080/"
        },
        "id": "black-light",
        "outputId": "c710ecbb-c2a5-478e-8574-2318e0dd4007"
      },
      "outputs": [
        {
          "output_type": "stream",
          "name": "stdout",
          "text": [
            "Downloading data from https://storage.googleapis.com/tensorflow/tf-keras-datasets/train-labels-idx1-ubyte.gz\n",
            "32768/29515 [=================================] - 0s 0us/step\n",
            "40960/29515 [=========================================] - 0s 0us/step\n",
            "Downloading data from https://storage.googleapis.com/tensorflow/tf-keras-datasets/train-images-idx3-ubyte.gz\n",
            "26427392/26421880 [==============================] - 0s 0us/step\n",
            "26435584/26421880 [==============================] - 0s 0us/step\n",
            "Downloading data from https://storage.googleapis.com/tensorflow/tf-keras-datasets/t10k-labels-idx1-ubyte.gz\n",
            "16384/5148 [===============================================================================================] - 0s 0us/step\n",
            "Downloading data from https://storage.googleapis.com/tensorflow/tf-keras-datasets/t10k-images-idx3-ubyte.gz\n",
            "4423680/4422102 [==============================] - 0s 0us/step\n",
            "4431872/4422102 [==============================] - 0s 0us/step\n",
            "(60000, 28, 28) (10000, 28, 28)\n",
            "(60000,)\n"
          ]
        }
      ],
      "source": [
        "(X_train, y_train_labels), (X_test, y_test_labels) = fashion_mnist.load_data()\n",
        "print(X_train.shape, X_test.shape)\n",
        "print(y_train_labels.shape)"
      ]
    },
    {
      "cell_type": "code",
      "execution_count": null,
      "id": "judicial-lawsuit",
      "metadata": {
        "colab": {
          "base_uri": "https://localhost:8080/",
          "height": 282
        },
        "id": "judicial-lawsuit",
        "outputId": "c463dd7f-8032-4983-83a8-f8510317e392"
      },
      "outputs": [
        {
          "output_type": "stream",
          "name": "stdout",
          "text": [
            "Label is 4\n"
          ]
        },
        {
          "output_type": "display_data",
          "data": {
            "image/png": "[encoded data removed]",
            "text/plain": [
              "<Figure size 432x288 with 1 Axes>"
            ]
          },
          "metadata": {
            "needs_background": "light"
          }
        }
      ],
      "source": [
        "ind = np.random.randint(0, X_train.shape[0])\n",
        "plt.imshow(X_train[ind], cmap='gray')\n",
        "print(f'Label is {y_train_labels[ind]}')"
      ]
    },
    {
      "cell_type": "markdown",
      "id": "humanitarian-fitness",
      "metadata": {
        "id": "humanitarian-fitness"
      },
      "source": [
        "Набор из 60 000 полутоновых изображений 28х28 серого цвета 10 категорий моды, а также тестовый набор из 10 000 изображений.<br>\n",
        "Классовые метки:<br>\n",
        "   * 0 - футболка/клубка<br>\n",
        "   * 1 - Брюки<br>\n",
        "   * 2 - Пуловер<br>\n",
        "   * 3 - Платье<br>\n",
        "   * 4 - Пальто<br>\n",
        "   * 5 - Сандал<br>\n",
        "   * 6 - Рубашка<br>\n",
        "   * 7 - Кроссовок<br>\n",
        "   * 8 - Сумка<br>\n",
        "   * 9 - Ботинок"
      ]
    },
    {
      "cell_type": "markdown",
      "id": "dependent-omega",
      "metadata": {
        "id": "dependent-omega"
      },
      "source": [
        "Конвертируем значения пикселей из вида от 0 до 255 в набор значений от 0 до 1."
      ]
    },
    {
      "cell_type": "code",
      "execution_count": null,
      "id": "animated-crack",
      "metadata": {
        "colab": {
          "base_uri": "https://localhost:8080/"
        },
        "id": "animated-crack",
        "outputId": "ebf5fc3b-c060-45cc-faa4-783cc8db1555"
      },
      "outputs": [
        {
          "output_type": "execute_result",
          "data": {
            "text/plain": [
              "(0, 255)"
            ]
          },
          "metadata": {},
          "execution_count": 9
        }
      ],
      "source": [
        "X_train.min(), X_train.max()"
      ]
    },
    {
      "cell_type": "code",
      "execution_count": null,
      "id": "likely-crisis",
      "metadata": {
        "colab": {
          "base_uri": "https://localhost:8080/"
        },
        "id": "likely-crisis",
        "outputId": "0ca4fb4d-651d-4998-bb09-c27f0abedb9f"
      },
      "outputs": [
        {
          "output_type": "execute_result",
          "data": {
            "text/plain": [
              "(0.0, 1.0)"
            ]
          },
          "metadata": {},
          "execution_count": 10
        }
      ],
      "source": [
        "# Нормировка\n",
        "X_train = X_train / 255.0\n",
        "X_test = X_test / 255.0\n",
        "X_train.min(), X_train.max()"
      ]
    },
    {
      "cell_type": "code",
      "execution_count": null,
      "id": "artistic-oklahoma",
      "metadata": {
        "colab": {
          "base_uri": "https://localhost:8080/"
        },
        "id": "artistic-oklahoma",
        "outputId": "510152f3-7ba1-401d-b530-99005ffbc7c4"
      },
      "outputs": [
        {
          "output_type": "execute_result",
          "data": {
            "text/plain": [
              "((60000, 784), (10000, 784))"
            ]
          },
          "metadata": {},
          "execution_count": 11
        }
      ],
      "source": [
        "# Вытягивание признаков\n",
        "X_train = X_train.reshape((-1, 28 * 28))\n",
        "X_test = X_test.reshape((-1, 28 * 28))\n",
        "\n",
        "X_train.shape, X_test.shape"
      ]
    },
    {
      "cell_type": "markdown",
      "id": "amended-peoples",
      "metadata": {
        "id": "amended-peoples"
      },
      "source": [
        "Передача данных для обучения нейросети"
      ]
    },
    {
      "cell_type": "code",
      "execution_count": null,
      "id": "particular-durham",
      "metadata": {
        "colab": {
          "base_uri": "https://localhost:8080/"
        },
        "id": "particular-durham",
        "outputId": "63c2a23e-ed3b-4088-c741-a844dd664d24"
      },
      "outputs": [
        {
          "output_type": "execute_result",
          "data": {
            "text/plain": [
              "array([9, 0, 0, 3, 0], dtype=uint8)"
            ]
          },
          "metadata": {},
          "execution_count": 12
        }
      ],
      "source": [
        "y_train_labels[:5]"
      ]
    },
    {
      "cell_type": "code",
      "execution_count": null,
      "id": "illegal-nurse",
      "metadata": {
        "colab": {
          "base_uri": "https://localhost:8080/"
        },
        "id": "illegal-nurse",
        "outputId": "a35de9b1-e1ba-47c8-ce7c-98178078ce55"
      },
      "outputs": [
        {
          "output_type": "execute_result",
          "data": {
            "text/plain": [
              "array([[0., 0., 0., 0., 0., 0., 0., 0., 0., 1.],\n",
              "       [1., 0., 0., 0., 0., 0., 0., 0., 0., 0.],\n",
              "       [1., 0., 0., 0., 0., 0., 0., 0., 0., 0.],\n",
              "       [0., 0., 0., 1., 0., 0., 0., 0., 0., 0.],\n",
              "       [1., 0., 0., 0., 0., 0., 0., 0., 0., 0.]], dtype=float32)"
            ]
          },
          "metadata": {},
          "execution_count": 13
        }
      ],
      "source": [
        "y_train = to_categorical(y_train_labels)\n",
        "y_test = to_categorical(y_test_labels)\n",
        "\n",
        "y_train[:5]"
      ]
    },
    {
      "cell_type": "markdown",
      "id": "handmade-nowhere",
      "metadata": {
        "id": "handmade-nowhere"
      },
      "source": [
        "### Задание 1. Опишите - какой результат нейросети получен в зависимости от:\n",
        "    a. числа нейронов в слое (для 2-х слойной сети),\n",
        "    b. числа слоев (2, 3, 5, 10) при близких размерах сети (близкое число тренируемых параметров).\n",
        "    c. фиксируйте для тренировочного и тестового набора метрики accuracy."
      ]
    },
    {
      "cell_type": "markdown",
      "id": "empty-endorsement",
      "metadata": {
        "id": "empty-endorsement"
      },
      "source": [
        "Проверим качество в зависимости от числа нейронов в слое (для 2-х слойной сети)."
      ]
    },
    {
      "cell_type": "code",
      "execution_count": null,
      "id": "formed-colon",
      "metadata": {
        "colab": {
          "base_uri": "https://localhost:8080/"
        },
        "id": "formed-colon",
        "outputId": "24681981-c23a-4eba-9b17-aa0c96472cb4"
      },
      "outputs": [
        {
          "output_type": "stream",
          "name": "stdout",
          "text": [
            "Model: \"sequential\"\n",
            "_________________________________________________________________\n",
            " Layer (type)                Output Shape              Param #   \n",
            "=================================================================\n",
            " dense (Dense)               (None, 64)                50240     \n",
            "                                                                 \n",
            " dense_1 (Dense)             (None, 1)                 65        \n",
            "                                                                 \n",
            " dense_2 (Dense)             (None, 10)                20        \n",
            "                                                                 \n",
            "=================================================================\n",
            "Total params: 50,325\n",
            "Trainable params: 50,325\n",
            "Non-trainable params: 0\n",
            "_________________________________________________________________\n",
            "Epoch 1/5\n",
            "938/938 [==============================] - 3s 3ms/step - loss: 2.0994 - accuracy: 0.1847 - val_loss: 1.9631 - val_accuracy: 0.2122\n",
            "Epoch 2/5\n",
            "938/938 [==============================] - 3s 3ms/step - loss: 1.8980 - accuracy: 0.2217 - val_loss: 1.8610 - val_accuracy: 0.2288\n",
            "Epoch 3/5\n",
            "938/938 [==============================] - 2s 3ms/step - loss: 1.8204 - accuracy: 0.2434 - val_loss: 1.7997 - val_accuracy: 0.2612\n",
            "Epoch 4/5\n",
            "938/938 [==============================] - 3s 3ms/step - loss: 1.7314 - accuracy: 0.2872 - val_loss: 1.6797 - val_accuracy: 0.3030\n",
            "Epoch 5/5\n",
            "938/938 [==============================] - 2s 3ms/step - loss: 1.6329 - accuracy: 0.3120 - val_loss: 1.6072 - val_accuracy: 0.3050\n",
            "938/938 [==============================] - 2s 2ms/step - loss: 1.5997 - accuracy: 0.3059\n",
            "157/157 [==============================] - 0s 2ms/step - loss: 1.6072 - accuracy: 0.3050\n",
            "Model: \"sequential_1\"\n",
            "_________________________________________________________________\n",
            " Layer (type)                Output Shape              Param #   \n",
            "=================================================================\n",
            " dense_3 (Dense)             (None, 64)                50240     \n",
            "                                                                 \n",
            " dense_4 (Dense)             (None, 2)                 130       \n",
            "                                                                 \n",
            " dense_5 (Dense)             (None, 10)                30        \n",
            "                                                                 \n",
            "=================================================================\n",
            "Total params: 50,400\n",
            "Trainable params: 50,400\n",
            "Non-trainable params: 0\n",
            "_________________________________________________________________\n",
            "Epoch 1/5\n",
            "938/938 [==============================] - 3s 3ms/step - loss: 1.8897 - accuracy: 0.2685 - val_loss: 1.7082 - val_accuracy: 0.2987\n",
            "Epoch 2/5\n",
            "938/938 [==============================] - 3s 3ms/step - loss: 1.6062 - accuracy: 0.3300 - val_loss: 1.5030 - val_accuracy: 0.3858\n",
            "Epoch 3/5\n",
            "938/938 [==============================] - 3s 3ms/step - loss: 1.4164 - accuracy: 0.4092 - val_loss: 1.3690 - val_accuracy: 0.4203\n",
            "Epoch 4/5\n",
            "938/938 [==============================] - 3s 3ms/step - loss: 1.3158 - accuracy: 0.4434 - val_loss: 1.2847 - val_accuracy: 0.4585\n",
            "Epoch 5/5\n",
            "938/938 [==============================] - 3s 4ms/step - loss: 1.2322 - accuracy: 0.4772 - val_loss: 1.2082 - val_accuracy: 0.4942\n",
            "938/938 [==============================] - 2s 2ms/step - loss: 1.1975 - accuracy: 0.4936\n",
            "157/157 [==============================] - 0s 2ms/step - loss: 1.2082 - accuracy: 0.4942\n",
            "Model: \"sequential_2\"\n",
            "_________________________________________________________________\n",
            " Layer (type)                Output Shape              Param #   \n",
            "=================================================================\n",
            " dense_6 (Dense)             (None, 64)                50240     \n",
            "                                                                 \n",
            " dense_7 (Dense)             (None, 4)                 260       \n",
            "                                                                 \n",
            " dense_8 (Dense)             (None, 10)                50        \n",
            "                                                                 \n",
            "=================================================================\n",
            "Total params: 50,550\n",
            "Trainable params: 50,550\n",
            "Non-trainable params: 0\n",
            "_________________________________________________________________\n",
            "Epoch 1/5\n",
            "938/938 [==============================] - 4s 4ms/step - loss: 1.7123 - accuracy: 0.3537 - val_loss: 1.1871 - val_accuracy: 0.5271\n",
            "Epoch 2/5\n",
            "938/938 [==============================] - 3s 3ms/step - loss: 0.9469 - accuracy: 0.6637 - val_loss: 0.8186 - val_accuracy: 0.7189\n",
            "Epoch 3/5\n",
            "938/938 [==============================] - 3s 3ms/step - loss: 0.7588 - accuracy: 0.7476 - val_loss: 0.7587 - val_accuracy: 0.7346\n",
            "Epoch 4/5\n",
            "938/938 [==============================] - 3s 3ms/step - loss: 0.6865 - accuracy: 0.7710 - val_loss: 0.6791 - val_accuracy: 0.7705\n",
            "Epoch 5/5\n",
            "938/938 [==============================] - 3s 3ms/step - loss: 0.6427 - accuracy: 0.7834 - val_loss: 0.6556 - val_accuracy: 0.7703\n",
            "938/938 [==============================] - 2s 2ms/step - loss: 0.6287 - accuracy: 0.7843\n",
            "157/157 [==============================] - 0s 2ms/step - loss: 0.6556 - accuracy: 0.7703\n",
            "Model: \"sequential_3\"\n",
            "_________________________________________________________________\n",
            " Layer (type)                Output Shape              Param #   \n",
            "=================================================================\n",
            " dense_9 (Dense)             (None, 64)                50240     \n",
            "                                                                 \n",
            " dense_10 (Dense)            (None, 8)                 520       \n",
            "                                                                 \n",
            " dense_11 (Dense)            (None, 10)                90        \n",
            "                                                                 \n",
            "=================================================================\n",
            "Total params: 50,850\n",
            "Trainable params: 50,850\n",
            "Non-trainable params: 0\n",
            "_________________________________________________________________\n",
            "Epoch 1/5\n",
            "938/938 [==============================] - 4s 3ms/step - loss: 1.5830 - accuracy: 0.4278 - val_loss: 0.9435 - val_accuracy: 0.7011\n",
            "Epoch 2/5\n",
            "938/938 [==============================] - 3s 3ms/step - loss: 0.7370 - accuracy: 0.7561 - val_loss: 0.6417 - val_accuracy: 0.7776\n",
            "Epoch 3/5\n",
            "938/938 [==============================] - 3s 3ms/step - loss: 0.5857 - accuracy: 0.7991 - val_loss: 0.6116 - val_accuracy: 0.7816\n",
            "Epoch 4/5\n",
            "938/938 [==============================] - 3s 3ms/step - loss: 0.5340 - accuracy: 0.8151 - val_loss: 0.5452 - val_accuracy: 0.8077\n",
            "Epoch 5/5\n",
            "938/938 [==============================] - 5s 5ms/step - loss: 0.5026 - accuracy: 0.8244 - val_loss: 0.5049 - val_accuracy: 0.8224\n",
            "938/938 [==============================] - 5s 6ms/step - loss: 0.4782 - accuracy: 0.8326\n",
            "157/157 [==============================] - 1s 4ms/step - loss: 0.5049 - accuracy: 0.8224\n",
            "Model: \"sequential_4\"\n",
            "_________________________________________________________________\n",
            " Layer (type)                Output Shape              Param #   \n",
            "=================================================================\n",
            " dense_12 (Dense)            (None, 64)                50240     \n",
            "                                                                 \n",
            " dense_13 (Dense)            (None, 16)                1040      \n",
            "                                                                 \n",
            " dense_14 (Dense)            (None, 10)                170       \n",
            "                                                                 \n",
            "=================================================================\n",
            "Total params: 51,450\n",
            "Trainable params: 51,450\n",
            "Non-trainable params: 0\n",
            "_________________________________________________________________\n",
            "Epoch 1/5\n",
            "938/938 [==============================] - 7s 7ms/step - loss: 0.9999 - accuracy: 0.6574 - val_loss: 0.6896 - val_accuracy: 0.7653\n",
            "Epoch 2/5\n",
            "938/938 [==============================] - 6s 6ms/step - loss: 0.6002 - accuracy: 0.7978 - val_loss: 0.5747 - val_accuracy: 0.8010\n",
            "Epoch 3/5\n",
            "938/938 [==============================] - 5s 6ms/step - loss: 0.5272 - accuracy: 0.8189 - val_loss: 0.5808 - val_accuracy: 0.7919\n",
            "Epoch 4/5\n",
            "938/938 [==============================] - 4s 4ms/step - loss: 0.4916 - accuracy: 0.8297 - val_loss: 0.5117 - val_accuracy: 0.8198\n",
            "Epoch 5/5\n",
            "938/938 [==============================] - 3s 3ms/step - loss: 0.4677 - accuracy: 0.8378 - val_loss: 0.4860 - val_accuracy: 0.8289\n",
            "938/938 [==============================] - 2s 2ms/step - loss: 0.4530 - accuracy: 0.8415\n",
            "157/157 [==============================] - 0s 2ms/step - loss: 0.4860 - accuracy: 0.8289\n",
            "Model: \"sequential_5\"\n",
            "_________________________________________________________________\n",
            " Layer (type)                Output Shape              Param #   \n",
            "=================================================================\n",
            " dense_15 (Dense)            (None, 64)                50240     \n",
            "                                                                 \n",
            " dense_16 (Dense)            (None, 32)                2080      \n",
            "                                                                 \n",
            " dense_17 (Dense)            (None, 10)                330       \n",
            "                                                                 \n",
            "=================================================================\n",
            "Total params: 52,650\n",
            "Trainable params: 52,650\n",
            "Non-trainable params: 0\n",
            "_________________________________________________________________\n",
            "Epoch 1/5\n",
            "938/938 [==============================] - 3s 3ms/step - loss: 1.0153 - accuracy: 0.6805 - val_loss: 0.6830 - val_accuracy: 0.7600\n",
            "Epoch 2/5\n",
            "938/938 [==============================] - 3s 3ms/step - loss: 0.5911 - accuracy: 0.7992 - val_loss: 0.5690 - val_accuracy: 0.8044\n",
            "Epoch 3/5\n",
            "938/938 [==============================] - 3s 3ms/step - loss: 0.5202 - accuracy: 0.8223 - val_loss: 0.5722 - val_accuracy: 0.7939\n",
            "Epoch 4/5\n",
            "938/938 [==============================] - 3s 3ms/step - loss: 0.4861 - accuracy: 0.8324 - val_loss: 0.5053 - val_accuracy: 0.8225\n",
            "Epoch 5/5\n",
            "938/938 [==============================] - 3s 3ms/step - loss: 0.4637 - accuracy: 0.8391 - val_loss: 0.4876 - val_accuracy: 0.8280\n",
            "938/938 [==============================] - 2s 2ms/step - loss: 0.4507 - accuracy: 0.8419\n",
            "157/157 [==============================] - 0s 2ms/step - loss: 0.4876 - accuracy: 0.8280\n",
            "Model: \"sequential_6\"\n",
            "_________________________________________________________________\n",
            " Layer (type)                Output Shape              Param #   \n",
            "=================================================================\n",
            " dense_18 (Dense)            (None, 64)                50240     \n",
            "                                                                 \n",
            " dense_19 (Dense)            (None, 64)                4160      \n",
            "                                                                 \n",
            " dense_20 (Dense)            (None, 10)                650       \n",
            "                                                                 \n",
            "=================================================================\n",
            "Total params: 55,050\n",
            "Trainable params: 55,050\n",
            "Non-trainable params: 0\n",
            "_________________________________________________________________\n",
            "Epoch 1/5\n",
            "938/938 [==============================] - 3s 3ms/step - loss: 0.9287 - accuracy: 0.6923 - val_loss: 0.6601 - val_accuracy: 0.7704\n",
            "Epoch 2/5\n",
            "938/938 [==============================] - 3s 3ms/step - loss: 0.5754 - accuracy: 0.8048 - val_loss: 0.5599 - val_accuracy: 0.8042\n",
            "Epoch 3/5\n",
            "938/938 [==============================] - 3s 3ms/step - loss: 0.5124 - accuracy: 0.8235 - val_loss: 0.5597 - val_accuracy: 0.7978\n",
            "Epoch 4/5\n",
            "938/938 [==============================] - 3s 3ms/step - loss: 0.4805 - accuracy: 0.8333 - val_loss: 0.5071 - val_accuracy: 0.8208\n",
            "Epoch 5/5\n",
            "938/938 [==============================] - 3s 3ms/step - loss: 0.4587 - accuracy: 0.8399 - val_loss: 0.4780 - val_accuracy: 0.8317\n",
            "938/938 [==============================] - 2s 2ms/step - loss: 0.4425 - accuracy: 0.8455\n",
            "157/157 [==============================] - 0s 2ms/step - loss: 0.4780 - accuracy: 0.8317\n",
            "Model: \"sequential_7\"\n",
            "_________________________________________________________________\n",
            " Layer (type)                Output Shape              Param #   \n",
            "=================================================================\n",
            " dense_21 (Dense)            (None, 64)                50240     \n",
            "                                                                 \n",
            " dense_22 (Dense)            (None, 128)               8320      \n",
            "                                                                 \n",
            " dense_23 (Dense)            (None, 10)                1290      \n",
            "                                                                 \n",
            "=================================================================\n",
            "Total params: 59,850\n",
            "Trainable params: 59,850\n",
            "Non-trainable params: 0\n",
            "_________________________________________________________________\n",
            "Epoch 1/5\n",
            "938/938 [==============================] - 4s 4ms/step - loss: 0.9430 - accuracy: 0.7018 - val_loss: 0.6682 - val_accuracy: 0.7680\n",
            "Epoch 2/5\n",
            "938/938 [==============================] - 3s 3ms/step - loss: 0.5811 - accuracy: 0.8036 - val_loss: 0.5558 - val_accuracy: 0.8061\n",
            "Epoch 3/5\n",
            "938/938 [==============================] - 3s 3ms/step - loss: 0.5106 - accuracy: 0.8244 - val_loss: 0.5544 - val_accuracy: 0.8032\n",
            "Epoch 4/5\n",
            "938/938 [==============================] - 3s 3ms/step - loss: 0.4762 - accuracy: 0.8353 - val_loss: 0.4932 - val_accuracy: 0.8275\n",
            "Epoch 5/5\n",
            "938/938 [==============================] - 3s 3ms/step - loss: 0.4540 - accuracy: 0.8418 - val_loss: 0.4739 - val_accuracy: 0.8312\n",
            "938/938 [==============================] - 2s 2ms/step - loss: 0.4413 - accuracy: 0.8450\n",
            "157/157 [==============================] - 0s 2ms/step - loss: 0.4739 - accuracy: 0.8312\n",
            "Model: \"sequential_8\"\n",
            "_________________________________________________________________\n",
            " Layer (type)                Output Shape              Param #   \n",
            "=================================================================\n",
            " dense_24 (Dense)            (None, 64)                50240     \n",
            "                                                                 \n",
            " dense_25 (Dense)            (None, 256)               16640     \n",
            "                                                                 \n",
            " dense_26 (Dense)            (None, 10)                2570      \n",
            "                                                                 \n",
            "=================================================================\n",
            "Total params: 69,450\n",
            "Trainable params: 69,450\n",
            "Non-trainable params: 0\n",
            "_________________________________________________________________\n",
            "Epoch 1/5\n",
            "938/938 [==============================] - 4s 3ms/step - loss: 0.9860 - accuracy: 0.6850 - val_loss: 0.6737 - val_accuracy: 0.7646\n",
            "Epoch 2/5\n",
            "938/938 [==============================] - 3s 3ms/step - loss: 0.5842 - accuracy: 0.7998 - val_loss: 0.5582 - val_accuracy: 0.8076\n",
            "Epoch 3/5\n",
            "938/938 [==============================] - 3s 3ms/step - loss: 0.5138 - accuracy: 0.8225 - val_loss: 0.5605 - val_accuracy: 0.7999\n",
            "Epoch 4/5\n",
            "938/938 [==============================] - 4s 5ms/step - loss: 0.4799 - accuracy: 0.8348 - val_loss: 0.4987 - val_accuracy: 0.8256\n",
            "Epoch 5/5\n",
            "938/938 [==============================] - 3s 3ms/step - loss: 0.4577 - accuracy: 0.8405 - val_loss: 0.4748 - val_accuracy: 0.8350\n",
            "938/938 [==============================] - 2s 2ms/step - loss: 0.4417 - accuracy: 0.8460\n",
            "157/157 [==============================] - 0s 2ms/step - loss: 0.4748 - accuracy: 0.8350\n",
            "Model: \"sequential_9\"\n",
            "_________________________________________________________________\n",
            " Layer (type)                Output Shape              Param #   \n",
            "=================================================================\n",
            " dense_27 (Dense)            (None, 64)                50240     \n",
            "                                                                 \n",
            " dense_28 (Dense)            (None, 512)               33280     \n",
            "                                                                 \n",
            " dense_29 (Dense)            (None, 10)                5130      \n",
            "                                                                 \n",
            "=================================================================\n",
            "Total params: 88,650\n",
            "Trainable params: 88,650\n",
            "Non-trainable params: 0\n",
            "_________________________________________________________________\n",
            "Epoch 1/5\n",
            "938/938 [==============================] - 4s 4ms/step - loss: 1.0590 - accuracy: 0.6553 - val_loss: 0.7030 - val_accuracy: 0.7479\n",
            "Epoch 2/5\n",
            "938/938 [==============================] - 3s 4ms/step - loss: 0.5979 - accuracy: 0.7948 - val_loss: 0.5744 - val_accuracy: 0.8014\n",
            "Epoch 3/5\n",
            "938/938 [==============================] - 4s 4ms/step - loss: 0.5240 - accuracy: 0.8195 - val_loss: 0.5700 - val_accuracy: 0.7942\n",
            "Epoch 4/5\n",
            "938/938 [==============================] - 4s 4ms/step - loss: 0.4893 - accuracy: 0.8302 - val_loss: 0.5146 - val_accuracy: 0.8189\n",
            "Epoch 5/5\n",
            "938/938 [==============================] - 4s 4ms/step - loss: 0.4667 - accuracy: 0.8370 - val_loss: 0.4839 - val_accuracy: 0.8293\n",
            "938/938 [==============================] - 2s 2ms/step - loss: 0.4487 - accuracy: 0.8440\n",
            "157/157 [==============================] - 0s 2ms/step - loss: 0.4839 - accuracy: 0.8293\n",
            "CPU times: user 3min 23s, sys: 15 s, total: 3min 38s\n",
            "Wall time: 3min 47s\n"
          ]
        }
      ],
      "source": [
        "%%time\n",
        "results_num = pd.DataFrame()\n",
        "n_nums = []\n",
        "train_losses = []\n",
        "test_losses = []\n",
        "train_metrics = []\n",
        "test_metrics = []\n",
        "\n",
        "\n",
        "for n_num in list(map(lambda x: 2**x, range(0,10))):\n",
        "    \n",
        "    n_nums.append(n_num)\n",
        "    \n",
        "    model = Sequential([\n",
        "        Dense(64, input_shape=(28 * 28,), activation='relu'),\n",
        "        Dense(n_num, activation='relu'),\n",
        "        Dense(10, activation='sigmoid')\n",
        "    ])\n",
        "\n",
        "    model.summary()\n",
        "    \n",
        "    # Компиляция модели\n",
        "    model.compile(loss='categorical_crossentropy', optimizer='SGD', metrics=['accuracy'])\n",
        "    \n",
        "    history = model.fit(X_train, y_train,\n",
        "                    epochs=5,\n",
        "                    batch_size=64,\n",
        "                    verbose=1,\n",
        "                    validation_data=(X_test, y_test)\n",
        "                    )\n",
        "    train_acc = history.history['accuracy']\n",
        "    val_acc = history.history['val_accuracy']\n",
        "    \n",
        "    train_loss, train_metric = model.evaluate(X_train, y_train, batch_size=64)\n",
        "    train_losses.append(train_loss)\n",
        "    train_metrics.append(train_metric)\n",
        "    test_loss, test_metric = model.evaluate(X_test, y_test, batch_size=64)\n",
        "    test_losses.append(test_loss)\n",
        "    test_metrics.append(test_metric)\n",
        "    \n",
        "    \n",
        "results_num['n_num'] = n_nums\n",
        "results_num['train_loss'] = train_losses\n",
        "results_num['test_loss'] = test_losses\n",
        "results_num['train_metric'] = train_metrics\n",
        "results_num['test_metric'] = test_metrics\n",
        "results_num.sort_values(by='test_metric', ascending=False)"
      ]
    },
    {
      "cell_type": "code",
      "execution_count": null,
      "id": "killing-consciousness",
      "metadata": {
        "colab": {
          "base_uri": "https://localhost:8080/",
          "height": 651
        },
        "id": "killing-consciousness",
        "outputId": "84b6f676-43bb-4808-961d-fe72bcf6dc22"
      },
      "outputs": [
        {
          "output_type": "display_data",
          "data": {
            "image/png": "[encoded data removed]",
            "text/plain": [
              "<Figure size 1152x360 with 1 Axes>"
            ]
          },
          "metadata": {
            "needs_background": "light"
          }
        },
        {
          "output_type": "display_data",
          "data": {
            "image/png": "[encoded data removed]",
            "text/plain": [
              "<Figure size 1152x360 with 1 Axes>"
            ]
          },
          "metadata": {
            "needs_background": "light"
          }
        }
      ],
      "source": [
        "# Демонстрация полученных результатов\n",
        "# Диаграмма точности в зависимости от обучения\n",
        "plt.figure(figsize=(16, 5))\n",
        "plt.plot(results_num['n_num'],results_num['train_loss'], label='train')\n",
        "plt.plot(results_num['n_num'],results_num['test_loss'], label='test')\n",
        "plt.xlabel('Обучение')\n",
        "plt.ylabel('Ошибка')\n",
        "plt.show()\n",
        "\n",
        "plt.figure(figsize=(16, 5))\n",
        "plt.plot(results_num['n_num'],results_num['train_metric'], label='train')\n",
        "plt.plot(results_num['n_num'],results_num['test_metric'], label='test')\n",
        "plt.xlabel('Число нейронов скрытого слоя')\n",
        "plt.ylabel('Accuracy')\n",
        "plt.show()"
      ]
    },
    {
      "cell_type": "markdown",
      "id": "virgin-mills",
      "metadata": {
        "id": "virgin-mills"
      },
      "source": [
        "Лучшее качество на тесте получилось при 128 нейронах.<br>\n",
        "В общем тенденция такая: сначала, при увеличении числа нейронов скрытого слоя, качество росло, затем, начиная с некоторого количества (примерно 16), скорость роста сильно снизилась и качество почти вышло на констатное значение."
      ]
    },
    {
      "cell_type": "markdown",
      "id": "destroyed-incidence",
      "metadata": {
        "id": "destroyed-incidence"
      },
      "source": [
        "Проверим качество в зависимости от числа слоев (2, 3, 5, 10) при близких размерах сети (близкое число тренируемых параметров)"
      ]
    },
    {
      "cell_type": "code",
      "execution_count": null,
      "id": "colored-treasurer",
      "metadata": {
        "colab": {
          "base_uri": "https://localhost:8080/"
        },
        "id": "colored-treasurer",
        "outputId": "432409b3-dbc3-48d7-8a39-44a61f9f9c0a"
      },
      "outputs": [
        {
          "output_type": "stream",
          "name": "stdout",
          "text": [
            "Model: \"sequential_10\"\n",
            "_________________________________________________________________\n",
            " Layer (type)                Output Shape              Param #   \n",
            "=================================================================\n",
            " dense_30 (Dense)            (None, 64)                50240     \n",
            "                                                                 \n",
            " dense_31 (Dense)            (None, 128)               8320      \n",
            "                                                                 \n",
            " dense_32 (Dense)            (None, 10)                1290      \n",
            "                                                                 \n",
            "=================================================================\n",
            "Total params: 59,850\n",
            "Trainable params: 59,850\n",
            "Non-trainable params: 0\n",
            "_________________________________________________________________\n",
            "Epoch 1/5\n",
            "938/938 [==============================] - 4s 3ms/step - loss: 0.9748 - accuracy: 0.6783 - val_loss: 0.6832 - val_accuracy: 0.7569\n",
            "Epoch 2/5\n",
            "938/938 [==============================] - 3s 3ms/step - loss: 0.5886 - accuracy: 0.7993 - val_loss: 0.5675 - val_accuracy: 0.8016\n",
            "Epoch 3/5\n",
            "938/938 [==============================] - 3s 3ms/step - loss: 0.5176 - accuracy: 0.8217 - val_loss: 0.5576 - val_accuracy: 0.7999\n",
            "Epoch 4/5\n",
            "938/938 [==============================] - 3s 3ms/step - loss: 0.4840 - accuracy: 0.8327 - val_loss: 0.5135 - val_accuracy: 0.8174\n",
            "Epoch 5/5\n",
            "938/938 [==============================] - 3s 3ms/step - loss: 0.4611 - accuracy: 0.8401 - val_loss: 0.4830 - val_accuracy: 0.8293\n",
            "938/938 [==============================] - 2s 2ms/step - loss: 0.4460 - accuracy: 0.8445\n",
            "157/157 [==============================] - 0s 2ms/step - loss: 0.4830 - accuracy: 0.8293\n",
            "Model: \"sequential_11\"\n",
            "_________________________________________________________________\n",
            " Layer (type)                Output Shape              Param #   \n",
            "=================================================================\n",
            " dense_33 (Dense)            (None, 64)                50240     \n",
            "                                                                 \n",
            " dense_34 (Dense)            (None, 67)                4355      \n",
            "                                                                 \n",
            " dense_35 (Dense)            (None, 67)                4556      \n",
            "                                                                 \n",
            " dense_36 (Dense)            (None, 10)                680       \n",
            "                                                                 \n",
            "=================================================================\n",
            "Total params: 59,831\n",
            "Trainable params: 59,831\n",
            "Non-trainable params: 0\n",
            "_________________________________________________________________\n",
            "Epoch 1/5\n",
            "938/938 [==============================] - 4s 3ms/step - loss: 1.0106 - accuracy: 0.6575 - val_loss: 0.6899 - val_accuracy: 0.7628\n",
            "Epoch 2/5\n",
            "938/938 [==============================] - 3s 3ms/step - loss: 0.5851 - accuracy: 0.7985 - val_loss: 0.5590 - val_accuracy: 0.8094\n",
            "Epoch 3/5\n",
            "938/938 [==============================] - 3s 3ms/step - loss: 0.5079 - accuracy: 0.8222 - val_loss: 0.5936 - val_accuracy: 0.7840\n",
            "Epoch 4/5\n",
            "938/938 [==============================] - 3s 3ms/step - loss: 0.4706 - accuracy: 0.8343 - val_loss: 0.5060 - val_accuracy: 0.8196\n",
            "Epoch 5/5\n",
            "938/938 [==============================] - 3s 3ms/step - loss: 0.4454 - accuracy: 0.8428 - val_loss: 0.4732 - val_accuracy: 0.8298\n",
            "938/938 [==============================] - 2s 2ms/step - loss: 0.4344 - accuracy: 0.8465\n",
            "157/157 [==============================] - 0s 2ms/step - loss: 0.4732 - accuracy: 0.8298\n",
            "Model: \"sequential_12\"\n",
            "_________________________________________________________________\n",
            " Layer (type)                Output Shape              Param #   \n",
            "=================================================================\n",
            " dense_37 (Dense)            (None, 64)                50240     \n",
            "                                                                 \n",
            " dense_38 (Dense)            (None, 45)                2925      \n",
            "                                                                 \n",
            " dense_39 (Dense)            (None, 45)                2070      \n",
            "                                                                 \n",
            " dense_40 (Dense)            (None, 45)                2070      \n",
            "                                                                 \n",
            " dense_41 (Dense)            (None, 45)                2070      \n",
            "                                                                 \n",
            " dense_42 (Dense)            (None, 10)                460       \n",
            "                                                                 \n",
            "=================================================================\n",
            "Total params: 59,835\n",
            "Trainable params: 59,835\n",
            "Non-trainable params: 0\n",
            "_________________________________________________________________\n",
            "Epoch 1/5\n",
            "938/938 [==============================] - 3s 3ms/step - loss: 1.1537 - accuracy: 0.5782 - val_loss: 0.7604 - val_accuracy: 0.7289\n",
            "Epoch 2/5\n",
            "938/938 [==============================] - 3s 3ms/step - loss: 0.6262 - accuracy: 0.7764 - val_loss: 0.5691 - val_accuracy: 0.8016\n",
            "Epoch 3/5\n",
            "938/938 [==============================] - 3s 3ms/step - loss: 0.5335 - accuracy: 0.8109 - val_loss: 0.5853 - val_accuracy: 0.7925\n",
            "Epoch 4/5\n",
            "938/938 [==============================] - 3s 3ms/step - loss: 0.4885 - accuracy: 0.8288 - val_loss: 0.5150 - val_accuracy: 0.8206\n",
            "Epoch 5/5\n",
            "938/938 [==============================] - 3s 3ms/step - loss: 0.4564 - accuracy: 0.8387 - val_loss: 0.4768 - val_accuracy: 0.8332\n",
            "938/938 [==============================] - 2s 2ms/step - loss: 0.4385 - accuracy: 0.8438\n",
            "157/157 [==============================] - 0s 2ms/step - loss: 0.4768 - accuracy: 0.8332\n",
            "Model: \"sequential_13\"\n",
            "_________________________________________________________________\n",
            " Layer (type)                Output Shape              Param #   \n",
            "=================================================================\n",
            " dense_43 (Dense)            (None, 64)                50240     \n",
            "                                                                 \n",
            " dense_44 (Dense)            (None, 30)                1950      \n",
            "                                                                 \n",
            " dense_45 (Dense)            (None, 30)                930       \n",
            "                                                                 \n",
            " dense_46 (Dense)            (None, 30)                930       \n",
            "                                                                 \n",
            " dense_47 (Dense)            (None, 30)                930       \n",
            "                                                                 \n",
            " dense_48 (Dense)            (None, 30)                930       \n",
            "                                                                 \n",
            " dense_49 (Dense)            (None, 30)                930       \n",
            "                                                                 \n",
            " dense_50 (Dense)            (None, 30)                930       \n",
            "                                                                 \n",
            " dense_51 (Dense)            (None, 30)                930       \n",
            "                                                                 \n",
            " dense_52 (Dense)            (None, 30)                930       \n",
            "                                                                 \n",
            " dense_53 (Dense)            (None, 10)                310       \n",
            "                                                                 \n",
            "=================================================================\n",
            "Total params: 59,940\n",
            "Trainable params: 59,940\n",
            "Non-trainable params: 0\n",
            "_________________________________________________________________\n",
            "Epoch 1/5\n",
            "938/938 [==============================] - 4s 4ms/step - loss: 1.7461 - accuracy: 0.3510 - val_loss: 1.0227 - val_accuracy: 0.5705\n",
            "Epoch 2/5\n",
            "938/938 [==============================] - 4s 4ms/step - loss: 0.9041 - accuracy: 0.6488 - val_loss: 0.8302 - val_accuracy: 0.6869\n",
            "Epoch 3/5\n",
            "938/938 [==============================] - 3s 4ms/step - loss: 0.7354 - accuracy: 0.7266 - val_loss: 0.7155 - val_accuracy: 0.7246\n",
            "Epoch 4/5\n",
            "938/938 [==============================] - 3s 4ms/step - loss: 0.6299 - accuracy: 0.7667 - val_loss: 0.6879 - val_accuracy: 0.7365\n",
            "Epoch 5/5\n",
            "938/938 [==============================] - 3s 4ms/step - loss: 0.5556 - accuracy: 0.7931 - val_loss: 0.5650 - val_accuracy: 0.7842\n",
            "938/938 [==============================] - 2s 2ms/step - loss: 0.5345 - accuracy: 0.7961\n",
            "157/157 [==============================] - 0s 3ms/step - loss: 0.5650 - accuracy: 0.7842\n",
            "CPU times: user 1min 25s, sys: 5.79 s, total: 1min 31s\n",
            "Wall time: 1min 35s\n"
          ]
        }
      ],
      "source": [
        "%%time\n",
        "results_layers = pd.DataFrame()\n",
        "n_nums = [] # число нейронов скрытых слоев\n",
        "n_layers = [] # число скрытых слоев\n",
        "n_pars = [] # число тренируемых параметров\n",
        "train_losses = [] # ошибка на тренировочной выборке\n",
        "test_losses = [] # ошибка на тестовой выборке\n",
        "train_metrics = [] # accuracy на тренировочной выборке\n",
        "test_metrics = [] # accuracy на тестовой выборке\n",
        "\n",
        "# Базовый размер возьмем для двухслойной сети с 128 нейронами, и будем равняться на него\n",
        "k_dict = {2:128, 3:67, 5:45, 10:30}\n",
        "for n in [2, 3, 5, 10]:\n",
        "    \n",
        "    k = k_dict[n]\n",
        "    net_size = 64 * 785 + 65 * k + (n - 2) * (k + 1) * k + (k + 1) * 10\n",
        "    n_nums.append(k) \n",
        "    n_pars.append(net_size)\n",
        "    n_layers.append(n)\n",
        "    \n",
        "    model = Sequential()\n",
        "    model.add(Dense(64, input_shape=(28 * 28,), activation='relu'))\n",
        "    for i in range(n-1):\n",
        "        model.add(Dense(k, activation='relu'))\n",
        "    model.add(Dense(10, activation='sigmoid'))\n",
        "\n",
        "    model.summary()\n",
        "    \n",
        "    # Компиляция модели\n",
        "    model.compile(loss='categorical_crossentropy', optimizer='SGD', metrics=['accuracy'])\n",
        "    \n",
        "    history = model.fit(X_train, y_train,\n",
        "                    epochs=5,\n",
        "                    batch_size=64,\n",
        "                    verbose=1,\n",
        "                    validation_data=(X_test, y_test)\n",
        "                    )\n",
        "    train_acc = history.history['accuracy']\n",
        "    val_acc = history.history['val_accuracy']\n",
        "    \n",
        "    train_loss, train_metric = model.evaluate(X_train, y_train, batch_size=64)\n",
        "    train_losses.append(train_loss)\n",
        "    train_metrics.append(train_metric)\n",
        "    test_loss, test_metric = model.evaluate(X_test, y_test, batch_size=64)\n",
        "    test_losses.append(test_loss)\n",
        "    test_metrics.append(test_metric)\n",
        "    \n",
        "    \n",
        "results_layers['n_layer'] = n_layers\n",
        "results_layers['n_num'] = n_nums\n",
        "results_layers['n_par'] = n_pars\n",
        "results_layers['train_loss'] = train_losses\n",
        "results_layers['test_loss'] = test_losses\n",
        "results_layers['train_metric'] = train_metrics\n",
        "results_layers['test_metric'] = test_metrics\n",
        "results_layers.sort_values(by='test_metric', ascending=False)"
      ]
    },
    {
      "cell_type": "code",
      "execution_count": null,
      "id": "appointed-syntax",
      "metadata": {
        "colab": {
          "base_uri": "https://localhost:8080/",
          "height": 651
        },
        "id": "appointed-syntax",
        "outputId": "6b5f0766-e413-40b0-9761-bfdc2aec6d00"
      },
      "outputs": [
        {
          "output_type": "display_data",
          "data": {
            "image/png": "[encoded data removed]",
            "text/plain": [
              "<Figure size 1152x360 with 1 Axes>"
            ]
          },
          "metadata": {
            "needs_background": "light"
          }
        },
        {
          "output_type": "display_data",
          "data": {
            "image/png": "[encoded data removed]",
            "text/plain": [
              "<Figure size 1152x360 with 1 Axes>"
            ]
          },
          "metadata": {
            "needs_background": "light"
          }
        }
      ],
      "source": [
        "# Демонстрация полученных результатов\n",
        "# Диаграмма точности в зависимости от обучения\n",
        "plt.figure(figsize=(16, 5))\n",
        "plt.plot(results_layers['n_layer'],results_layers['train_loss'], label='train')\n",
        "plt.plot(results_layers['n_layer'],results_layers['test_loss'], label='test')\n",
        "plt.xlabel('Обучение')\n",
        "plt.ylabel('Ошибка')\n",
        "plt.show()\n",
        "\n",
        "plt.figure(figsize=(16, 5))\n",
        "plt.plot(results_layers['n_layer'],results_layers['train_metric'], label='train')\n",
        "plt.plot(results_layers['n_layer'],results_layers['test_metric'], label='test')\n",
        "plt.xlabel('Число слоев')\n",
        "plt.ylabel('Accuracy')\n",
        "plt.show()"
      ]
    },
    {
      "cell_type": "markdown",
      "id": "thick-inside",
      "metadata": {
        "id": "thick-inside"
      },
      "source": [
        "Лучшее качество получилось на 5 слоях с 45 нейронами.<br>\n",
        "На 2, 3 и 5 слоях качество и ошибка примерно соразмерны, на 10 слоях качество прилично просело. Может быть это связано с тем, что количество нейронов скрытых слоев ниже, чтобы сохранить общее количество тренируемых параметров."
      ]
    },
    {
      "cell_type": "markdown",
      "id": "utility-story",
      "metadata": {
        "id": "utility-story"
      },
      "source": [
        "### Задание 2. Проверьте работу разных оптимизаторов (SGD, Adam, RMSProp) для одной из моделей п.1. Фиксируйте для тренировочного и тестового набора метрики accuracy."
      ]
    },
    {
      "cell_type": "markdown",
      "id": "adopted-press",
      "metadata": {
        "id": "adopted-press"
      },
      "source": [
        "Лучшей оказалась модель с 5 слоями и 45 нейронами.\n",
        "Посмотрим работу разных оптимизаторов (SGD, Adam, RMSProp) для этой модели."
      ]
    },
    {
      "cell_type": "code",
      "execution_count": null,
      "id": "rational-rebound",
      "metadata": {
        "colab": {
          "base_uri": "https://localhost:8080/",
          "height": 1000
        },
        "id": "rational-rebound",
        "outputId": "43fa4e43-6393-4d15-8010-4620ced6a83b"
      },
      "outputs": [
        {
          "output_type": "stream",
          "name": "stdout",
          "text": [
            "Оптимизатор: SGD\n",
            "Epoch 1/5\n",
            "938/938 [==============================] - 4s 3ms/step - loss: 1.0901 - accuracy: 0.6052 - val_loss: 0.7811 - val_accuracy: 0.7133\n",
            "Epoch 2/5\n",
            "938/938 [==============================] - 4s 4ms/step - loss: 0.6355 - accuracy: 0.7739 - val_loss: 0.5928 - val_accuracy: 0.7954\n",
            "Epoch 3/5\n",
            "938/938 [==============================] - 5s 5ms/step - loss: 0.5479 - accuracy: 0.8087 - val_loss: 0.5765 - val_accuracy: 0.7964\n",
            "Epoch 4/5\n",
            "938/938 [==============================] - 3s 3ms/step - loss: 0.4970 - accuracy: 0.8261 - val_loss: 0.5113 - val_accuracy: 0.8176\n",
            "Epoch 5/5\n",
            "938/938 [==============================] - 3s 3ms/step - loss: 0.4612 - accuracy: 0.8364 - val_loss: 0.4739 - val_accuracy: 0.8321\n",
            "157/157 [==============================] - 0s 3ms/step - loss: 0.4739 - accuracy: 0.8321\n",
            "Качество на тесте: 0.4738953709602356, 0.832099974155426\n",
            "Оптимизатор: RMSprop\n",
            "Epoch 1/5\n",
            "938/938 [==============================] - 5s 5ms/step - loss: 0.6130 - accuracy: 0.7762 - val_loss: 0.5293 - val_accuracy: 0.8065\n",
            "Epoch 2/5\n",
            "938/938 [==============================] - 4s 4ms/step - loss: 0.4149 - accuracy: 0.8475 - val_loss: 0.4270 - val_accuracy: 0.8470\n",
            "Epoch 3/5\n",
            "938/938 [==============================] - 4s 5ms/step - loss: 0.3731 - accuracy: 0.8634 - val_loss: 0.4262 - val_accuracy: 0.8469\n",
            "Epoch 4/5\n",
            "938/938 [==============================] - 4s 4ms/step - loss: 0.3506 - accuracy: 0.8724 - val_loss: 0.4229 - val_accuracy: 0.8401\n",
            "Epoch 5/5\n",
            "938/938 [==============================] - 4s 4ms/step - loss: 0.3328 - accuracy: 0.8775 - val_loss: 0.3872 - val_accuracy: 0.8644\n",
            "157/157 [==============================] - 1s 3ms/step - loss: 0.3872 - accuracy: 0.8644\n",
            "Качество на тесте: 0.38721129298210144, 0.8644000291824341\n",
            "Оптимизатор: Adam\n",
            "Epoch 1/5\n",
            "938/938 [==============================] - 5s 4ms/step - loss: 0.5840 - accuracy: 0.7909 - val_loss: 0.4688 - val_accuracy: 0.8312\n",
            "Epoch 2/5\n",
            "938/938 [==============================] - 4s 4ms/step - loss: 0.4006 - accuracy: 0.8547 - val_loss: 0.4108 - val_accuracy: 0.8525\n",
            "Epoch 3/5\n",
            "938/938 [==============================] - 4s 4ms/step - loss: 0.3625 - accuracy: 0.8669 - val_loss: 0.3960 - val_accuracy: 0.8546\n",
            "Epoch 4/5\n",
            "938/938 [==============================] - 5s 5ms/step - loss: 0.3416 - accuracy: 0.8748 - val_loss: 0.3721 - val_accuracy: 0.8671\n",
            "Epoch 5/5\n",
            "938/938 [==============================] - 4s 4ms/step - loss: 0.3218 - accuracy: 0.8811 - val_loss: 0.3506 - val_accuracy: 0.8766\n",
            "157/157 [==============================] - 0s 3ms/step - loss: 0.3506 - accuracy: 0.8766\n",
            "Качество на тесте: 0.35060274600982666, 0.8766000270843506\n"
          ]
        },
        {
          "output_type": "display_data",
          "data": {
            "image/png": "[encoded data removed]",
            "text/plain": [
              "<Figure size 1152x504 with 1 Axes>"
            ]
          },
          "metadata": {
            "needs_background": "light"
          }
        },
        {
          "output_type": "stream",
          "name": "stdout",
          "text": [
            "CPU times: user 1min 25s, sys: 6.03 s, total: 1min 31s\n",
            "Wall time: 1min 17s\n"
          ]
        }
      ],
      "source": [
        "%%time\n",
        "\n",
        "# создаем модель model\n",
        "model = Sequential([\n",
        "    Dense(64, activation='relu', input_shape=(28 * 28,)),\n",
        "    Dense(45, activation='relu'),\n",
        "    Dense(45, activation='relu'),\n",
        "    Dense(45, activation='relu'),\n",
        "    Dense(45, activation='relu'),\n",
        "    Dense(10, activation='sigmoid'),\n",
        "])\n",
        "\n",
        "# сохраняем ее веса (это начальная точка) model.save_weights('model.h5')\n",
        "model.save_weights('model_weights.h5')\n",
        "\n",
        "# будем сохранять модели в словарь\n",
        "models = {}\n",
        "\n",
        "plt.figure(figsize=(16, 7))\n",
        "colors = ['g', 'b', 'r']\n",
        "\n",
        "num_epochs = 5\n",
        "batch_size = 64\n",
        "\n",
        "# вектор для вывода результатов\n",
        "epoch = np.arange(num_epochs+1)\n",
        "\n",
        "# будем изменять оптимизаторы\n",
        "for i, i_optim in enumerate([SGD(),\n",
        "                             RMSprop(),\n",
        "                             Adam()]):\n",
        "    print(f'Оптимизатор: {i_optim.get_config()[\"name\"]}')\n",
        "    \n",
        "    # создаем рабочую модель  model_i, куда будем загружать эти веса (она должна быть идентичной структуры)\n",
        "    model_i = Sequential([\n",
        "        Dense(64, activation='relu', input_shape=(28 * 28,)),\n",
        "        Dense(45, activation='relu'),\n",
        "        Dense(45, activation='relu'),\n",
        "        Dense(45, activation='relu'),\n",
        "        Dense(45, activation='relu'),\n",
        "        Dense(10, activation='sigmoid'),\n",
        "    ])\n",
        "    \n",
        "    # загружаем веса model_i.load_weights('model.h5')\n",
        "    model_i.load_weights('model_weights.h5')\n",
        "    \n",
        "    # компилируем model_i с одним из оптимизаторов\n",
        "    model_i.compile(\n",
        "        optimizer=i_optim,\n",
        "        loss='categorical_crossentropy',\n",
        "        metrics=['accuracy'],\n",
        "        )\n",
        "    \n",
        "    # вычисляем ошибку для modeli без обучения\n",
        "    h0_train = model_i.evaluate(X_train, y_train, verbose=0)\n",
        "    h0_val = model_i.evaluate(X_test, y_test, verbose=0)\n",
        "\n",
        "    # проводим обучение модели \n",
        "    h = model_i.fit(X_train, y_train,\n",
        "                    epochs=num_epochs,\n",
        "                    batch_size=batch_size,\n",
        "                    validation_data=(X_test, y_test),\n",
        "                    verbose=1)\n",
        "    \n",
        "    # вычисляем ошибку для modeli после обучения\n",
        "    loss, metric = model_i.evaluate(X_test, y_test, batch_size=64)\n",
        "    print(f'Качество на тесте: {loss}, {metric}')\n",
        "    \n",
        "    # записываем обученную модель в словарь\n",
        "    models[i_optim.get_config()['name']] = model_i\n",
        "\n",
        "    \n",
        "    # картинки\n",
        "    '''\n",
        "    plt.figure(figsize=(16, 7))\n",
        "    plt.plot(epoch, np.log([h0_train[0]] + h.history['loss']),\n",
        "             '-', c=colors[i],\n",
        "             label=model_i.optimizer.get_config()['name'] + ' train')\n",
        "    plt.plot(epoch, np.log([h0_val[0]] + h.history['val_loss']),\n",
        "             '--', c=colors[i],\n",
        "             label=model_i.optimizer.get_config()['name'] + ' val')\n",
        "    '''\n",
        "    \n",
        "    plt.plot(epoch, ([h0_train[0]] + h.history['accuracy']),\n",
        "             '-', c=colors[i],\n",
        "             label=model_i.optimizer.get_config()['name'] + ' train')\n",
        "    plt.plot(epoch, ([h0_val[0]] + h.history['val_accuracy']),\n",
        "             '--', c=colors[i],\n",
        "             label=f'{model_i.optimizer.get_config()[\"name\"]} val {metric:.2f}')\n",
        "\n",
        "plt.legend()\n",
        "plt.title('нейросети от оптимизатора accuracy')\n",
        "plt.xlabel('epoch')\n",
        "plt.ylabel('accuracy')\n",
        "plt.show()"
      ]
    },
    {
      "cell_type": "markdown",
      "id": "proprietary-subscription",
      "metadata": {
        "id": "proprietary-subscription"
      },
      "source": [
        "### Задание 3. Сделайте вывод - что помогло вам улучшить качество классификации в нейросети на тестовом наборе?"
      ]
    },
    {
      "cell_type": "markdown",
      "id": "secure-letter",
      "metadata": {
        "id": "secure-letter"
      },
      "source": [
        "Итоговое качество на тестовой выборке получилось 0.87 благодаря подбору оптимального количества скрытых слоев (5) и количества нейронов на них (45), а также выбору оптимизатора (Adam). "
      ]
    },
    {
      "cell_type": "code",
      "execution_count": null,
      "id": "internal-architect",
      "metadata": {
        "id": "internal-architect"
      },
      "outputs": [],
      "source": [
        "model_i = models['Adam']"
      ]
    },
    {
      "cell_type": "code",
      "execution_count": null,
      "id": "fallen-method",
      "metadata": {
        "colab": {
          "base_uri": "https://localhost:8080/"
        },
        "id": "fallen-method",
        "outputId": "c5cf31cb-caca-4227-e8c2-2088750fe82a"
      },
      "outputs": [
        {
          "output_type": "execute_result",
          "data": {
            "text/plain": [
              "{'amsgrad': False,\n",
              " 'beta_1': 0.9,\n",
              " 'beta_2': 0.999,\n",
              " 'decay': 0.0,\n",
              " 'epsilon': 1e-07,\n",
              " 'learning_rate': 0.001,\n",
              " 'name': 'Adam'}"
            ]
          },
          "metadata": {},
          "execution_count": 20
        }
      ],
      "source": [
        "model_i.optimizer.get_config()"
      ]
    },
    {
      "cell_type": "code",
      "execution_count": null,
      "id": "gross-johns",
      "metadata": {
        "colab": {
          "base_uri": "https://localhost:8080/",
          "height": 208
        },
        "id": "gross-johns",
        "outputId": "04206c90-f56c-43a3-e22f-82521508c282"
      },
      "outputs": [
        {
          "output_type": "display_data",
          "data": {
            "image/png": "[encoded data removed]",
            "text/plain": [
              "<Figure size 1080x360 with 5 Axes>"
            ]
          },
          "metadata": {
            "needs_background": "light"
          }
        }
      ],
      "source": [
        "N = 5\n",
        "y_pred = model_i.predict(X_test[:N, :])\n",
        "y_pred_class = np.argmax(y_pred, axis=1)\n",
        "plt.figure(figsize=(3 * N, 5))\n",
        "\n",
        "for i in range(N):\n",
        "  plt.subplot(1, N, i+1)\n",
        "  plt.imshow(X_test[i,:].reshape(28, 28))\n",
        "  #plt.xlabel(str(y_pred_class[i]))\n",
        "  plt.xlabel(str(y_test_labels[i]))\n",
        "plt.show() "
      ]
    },
    {
      "cell_type": "code",
      "execution_count": null,
      "id": "flexible-canvas",
      "metadata": {
        "colab": {
          "base_uri": "https://localhost:8080/"
        },
        "id": "flexible-canvas",
        "outputId": "b2115931-bef0-40c0-8b36-b7db331eb330"
      },
      "outputs": [
        {
          "output_type": "execute_result",
          "data": {
            "text/plain": [
              "array([9, 2, 1, 1, 6])"
            ]
          },
          "metadata": {},
          "execution_count": 22
        }
      ],
      "source": [
        "y_pred_class"
      ]
    },
    {
      "cell_type": "markdown",
      "id": "given-longer",
      "metadata": {
        "id": "given-longer"
      },
      "source": [
        "### Задание 4. Для одного варианта сети сформируйте матрицу ошибок по классам. Оцените качество модели по каждому классу отдельно (полнота, точность)."
      ]
    },
    {
      "cell_type": "code",
      "execution_count": null,
      "id": "hazardous-logging",
      "metadata": {
        "id": "hazardous-logging"
      },
      "outputs": [],
      "source": [
        "y_pred = model_i.predict(X_test)\n",
        "y_pred_class = np.argmax(y_pred, axis=1)"
      ]
    },
    {
      "cell_type": "code",
      "execution_count": null,
      "id": "static-sperm",
      "metadata": {
        "id": "static-sperm"
      },
      "outputs": [],
      "source": [
        "def plot_confusion_matrix(cm, classes,\n",
        "                          normalize=False,\n",
        "                          title='Confusion matrix',\n",
        "                          cmap=plt.cm.Blues):\n",
        "    \"\"\"\n",
        "    This function prints and plots the confusion matrix.\n",
        "    Normalization can be applied by setting `normalize=True`.\n",
        "    \"\"\"\n",
        "    plt.imshow(cm, interpolation='nearest', cmap=cmap)\n",
        "    plt.title(title)\n",
        "    plt.colorbar()\n",
        "    tick_marks = np.arange(len(classes))\n",
        "    plt.xticks(tick_marks, classes, rotation=45)\n",
        "    plt.yticks(tick_marks, classes)\n",
        "\n",
        "    if normalize:\n",
        "        cm = cm.astype('float') / cm.sum(axis=1)[:, np.newaxis]\n",
        "        print(\"Normalized confusion matrix\")\n",
        "    else:\n",
        "        print('Confusion matrix, without normalization')\n",
        "\n",
        "    #print(cm)\n",
        "\n",
        "    thresh = cm.max() / 2.\n",
        "    for i, j in itertools.product(range(cm.shape[0]), range(cm.shape[1])):\n",
        "        plt.text(j, i, cm[i, j],\n",
        "                 horizontalalignment=\"center\",\n",
        "                 color=\"white\" if cm[i, j] > thresh else \"black\")\n",
        "\n",
        "    plt.tight_layout()\n",
        "    plt.ylabel('True label')\n",
        "    plt.xlabel('Predicted label')"
      ]
    },
    {
      "cell_type": "code",
      "execution_count": null,
      "id": "insured-context",
      "metadata": {
        "colab": {
          "base_uri": "https://localhost:8080/",
          "height": 610
        },
        "id": "insured-context",
        "outputId": "38e7d02f-f1b1-4fed-b59c-da71a1f3303c"
      },
      "outputs": [
        {
          "output_type": "stream",
          "name": "stdout",
          "text": [
            "Confusion matrix, without normalization\n"
          ]
        },
        {
          "output_type": "display_data",
          "data": {
            "image/png": "[encoded data removed]",
            "text/plain": [
              "<Figure size 720x576 with 2 Axes>"
            ]
          },
          "metadata": {
            "needs_background": "light"
          }
        }
      ],
      "source": [
        "font = {'size' : 15}\n",
        "\n",
        "plt.rc('font', **font)\n",
        "\n",
        "cnf_matrix = confusion_matrix(y_test_labels, y_pred_class)\n",
        "plt.figure(figsize=(10, 8))\n",
        "plot_confusion_matrix(cnf_matrix, classes=['0', '1', '2', '3', '4', '5', '6', '7', '8', '9'],\n",
        "                      title='Confusion matrix', normalize=False)\n",
        "plt.show()"
      ]
    },
    {
      "cell_type": "code",
      "execution_count": null,
      "id": "minor-reach",
      "metadata": {
        "id": "minor-reach"
      },
      "outputs": [],
      "source": [
        "def get_precision_and_recall_from_confusion_matrix(label, cnf_matrix):\n",
        "    str_sum = 0\n",
        "    col_sum = 0\n",
        "    for i in range(len(cnf_matrix)):\n",
        "        str_sum += cnf_matrix[label][i]\n",
        "        col_sum += cnf_matrix[i][label]\n",
        "        \n",
        "    return cnf_matrix[label][label] / str_sum, cnf_matrix[label][label] / col_sum"
      ]
    },
    {
      "cell_type": "code",
      "execution_count": null,
      "id": "falling-prague",
      "metadata": {
        "id": "falling-prague"
      },
      "outputs": [],
      "source": [
        "pr_rc_result = pd.DataFrame()\n",
        "precisions = []\n",
        "recalls = []\n",
        "labels = [0, 1, 2, 3, 4, 5, 6, 7, 8, 9]\n",
        "for l in labels:\n",
        "    p_r = get_precision_and_recall_from_confusion_matrix(l, cnf_matrix)\n",
        "    precisions.append(p_r[0])\n",
        "    recalls.append(p_r[1])\n",
        "pr_rc_result['label'] = labels\n",
        "pr_rc_result['precision'] = precisions\n",
        "pr_rc_result['recall'] = recalls"
      ]
    },
    {
      "cell_type": "code",
      "execution_count": null,
      "id": "operating-lunch",
      "metadata": {
        "colab": {
          "base_uri": "https://localhost:8080/",
          "height": 363
        },
        "id": "operating-lunch",
        "outputId": "c6029205-a5be-40a0-9a7e-99a371a764c8"
      },
      "outputs": [
        {
          "output_type": "execute_result",
          "data": {
            "text/html": [
              "\n",
              "  <div id=\"df-9f4c230a-7b0a-40e0-becd-ab2353b84a2e\">\n",
              "    <div class=\"colab-df-container\">\n",
              "      <div>\n",
              "<style scoped>\n",
              "    .dataframe tbody tr th:only-of-type {\n",
              "        vertical-align: middle;\n",
              "    }\n",
              "\n",
              "    .dataframe tbody tr th {\n",
              "        vertical-align: top;\n",
              "    }\n",
              "\n",
              "    .dataframe thead th {\n",
              "        text-align: right;\n",
              "    }\n",
              "</style>\n",
              "<table border=\"1\" class=\"dataframe\">\n",
              "  <thead>\n",
              "    <tr style=\"text-align: right;\">\n",
              "      <th></th>\n",
              "      <th>label</th>\n",
              "      <th>precision</th>\n",
              "      <th>recall</th>\n",
              "    </tr>\n",
              "  </thead>\n",
              "  <tbody>\n",
              "    <tr>\n",
              "      <th>5</th>\n",
              "      <td>5</td>\n",
              "      <td>0.970</td>\n",
              "      <td>0.961348</td>\n",
              "    </tr>\n",
              "    <tr>\n",
              "      <th>8</th>\n",
              "      <td>8</td>\n",
              "      <td>0.964</td>\n",
              "      <td>0.972755</td>\n",
              "    </tr>\n",
              "    <tr>\n",
              "      <th>1</th>\n",
              "      <td>1</td>\n",
              "      <td>0.954</td>\n",
              "      <td>0.995825</td>\n",
              "    </tr>\n",
              "    <tr>\n",
              "      <th>7</th>\n",
              "      <td>7</td>\n",
              "      <td>0.954</td>\n",
              "      <td>0.940828</td>\n",
              "    </tr>\n",
              "    <tr>\n",
              "      <th>9</th>\n",
              "      <td>9</td>\n",
              "      <td>0.950</td>\n",
              "      <td>0.966429</td>\n",
              "    </tr>\n",
              "    <tr>\n",
              "      <th>3</th>\n",
              "      <td>3</td>\n",
              "      <td>0.876</td>\n",
              "      <td>0.890244</td>\n",
              "    </tr>\n",
              "    <tr>\n",
              "      <th>0</th>\n",
              "      <td>0</td>\n",
              "      <td>0.841</td>\n",
              "      <td>0.814134</td>\n",
              "    </tr>\n",
              "    <tr>\n",
              "      <th>2</th>\n",
              "      <td>2</td>\n",
              "      <td>0.793</td>\n",
              "      <td>0.773659</td>\n",
              "    </tr>\n",
              "    <tr>\n",
              "      <th>4</th>\n",
              "      <td>4</td>\n",
              "      <td>0.792</td>\n",
              "      <td>0.782609</td>\n",
              "    </tr>\n",
              "    <tr>\n",
              "      <th>6</th>\n",
              "      <td>6</td>\n",
              "      <td>0.672</td>\n",
              "      <td>0.678103</td>\n",
              "    </tr>\n",
              "  </tbody>\n",
              "</table>\n",
              "</div>\n",
              "      <button class=\"colab-df-convert\" onclick=\"convertToInteractive('df-9f4c230a-7b0a-40e0-becd-ab2353b84a2e')\"\n",
              "              title=\"Convert this dataframe to an interactive table.\"\n",
              "              style=\"display:none;\">\n",
              "        \n",
              "  <svg xmlns=\"http://www.w3.org/2000/svg\" height=\"24px\"viewBox=\"0 0 24 24\"\n",
              "       width=\"24px\">\n",
              "    <path d=\"M0 0h24v24H0V0z\" fill=\"none\"/>\n",
              "    <path d=\"M18.56 5.44l.94 2.06.94-2.06 2.06-.94-2.06-.94-.94-2.06-.94 2.06-2.06.94zm-11 1L8.5 8.5l.94-2.06 2.06-.94-2.06-.94L8.5 2.5l-.94 2.06-2.06.94zm10 10l.94 2.06.94-2.06 2.06-.94-2.06-.94-.94-2.06-.94 2.06-2.06.94z\"/><path d=\"M17.41 7.96l-1.37-1.37c-.4-.4-.92-.59-1.43-.59-.52 0-1.04.2-1.43.59L10.3 9.45l-7.72 7.72c-.78.78-.78 2.05 0 2.83L4 21.41c.39.39.9.59 1.41.59.51 0 1.02-.2 1.41-.59l7.78-7.78 2.81-2.81c.8-.78.8-2.07 0-2.86zM5.41 20L4 18.59l7.72-7.72 1.47 1.35L5.41 20z\"/>\n",
              "  </svg>\n",
              "      </button>\n",
              "      \n",
              "  <style>\n",
              "    .colab-df-container {\n",
              "      display:flex;\n",
              "      flex-wrap:wrap;\n",
              "      gap: 12px;\n",
              "    }\n",
              "\n",
              "    .colab-df-convert {\n",
              "      background-color: #E8F0FE;\n",
              "      border: none;\n",
              "      border-radius: 50%;\n",
              "      cursor: pointer;\n",
              "      display: none;\n",
              "      fill: #1967D2;\n",
              "      height: 32px;\n",
              "      padding: 0 0 0 0;\n",
              "      width: 32px;\n",
              "    }\n",
              "\n",
              "    .colab-df-convert:hover {\n",
              "      background-color: #E2EBFA;\n",
              "      box-shadow: 0px 1px 2px rgba(60, 64, 67, 0.3), 0px 1px 3px 1px rgba(60, 64, 67, 0.15);\n",
              "      fill: #174EA6;\n",
              "    }\n",
              "\n",
              "    [theme=dark] .colab-df-convert {\n",
              "      background-color: #3B4455;\n",
              "      fill: #D2E3FC;\n",
              "    }\n",
              "\n",
              "    [theme=dark] .colab-df-convert:hover {\n",
              "      background-color: #434B5C;\n",
              "      box-shadow: 0px 1px 3px 1px rgba(0, 0, 0, 0.15);\n",
              "      filter: drop-shadow(0px 1px 2px rgba(0, 0, 0, 0.3));\n",
              "      fill: #FFFFFF;\n",
              "    }\n",
              "  </style>\n",
              "\n",
              "      <script>\n",
              "        const buttonEl =\n",
              "          document.querySelector('#df-9f4c230a-7b0a-40e0-becd-ab2353b84a2e button.colab-df-convert');\n",
              "        buttonEl.style.display =\n",
              "          google.colab.kernel.accessAllowed ? 'block' : 'none';\n",
              "\n",
              "        async function convertToInteractive(key) {\n",
              "          const element = document.querySelector('#df-9f4c230a-7b0a-40e0-becd-ab2353b84a2e');\n",
              "          const dataTable =\n",
              "            await google.colab.kernel.invokeFunction('convertToInteractive',\n",
              "                                                     [key], {});\n",
              "          if (!dataTable) return;\n",
              "\n",
              "          const docLinkHtml = 'Like what you see? Visit the ' +\n",
              "            '<a target=\"_blank\" href=https://colab.research.google.com/notebooks/data_table.ipynb>data table notebook</a>'\n",
              "            + ' to learn more about interactive tables.';\n",
              "          element.innerHTML = '';\n",
              "          dataTable['output_type'] = 'display_data';\n",
              "          await google.colab.output.renderOutput(dataTable, element);\n",
              "          const docLink = document.createElement('div');\n",
              "          docLink.innerHTML = docLinkHtml;\n",
              "          element.appendChild(docLink);\n",
              "        }\n",
              "      </script>\n",
              "    </div>\n",
              "  </div>\n",
              "  "
            ],
            "text/plain": [
              "   label  precision    recall\n",
              "5      5      0.970  0.961348\n",
              "8      8      0.964  0.972755\n",
              "1      1      0.954  0.995825\n",
              "7      7      0.954  0.940828\n",
              "9      9      0.950  0.966429\n",
              "3      3      0.876  0.890244\n",
              "0      0      0.841  0.814134\n",
              "2      2      0.793  0.773659\n",
              "4      4      0.792  0.782609\n",
              "6      6      0.672  0.678103"
            ]
          },
          "metadata": {},
          "execution_count": 28
        }
      ],
      "source": [
        "pr_rc_result.sort_values(by='precision', ascending=False)"
      ]
    },
    {
      "cell_type": "code",
      "execution_count": null,
      "id": "reserved-cooling",
      "metadata": {
        "colab": {
          "base_uri": "https://localhost:8080/",
          "height": 363
        },
        "id": "reserved-cooling",
        "outputId": "a09bcd9e-5b9d-4742-c1b5-87d7fea6d78e"
      },
      "outputs": [
        {
          "output_type": "execute_result",
          "data": {
            "text/html": [
              "\n",
              "  <div id=\"df-9ec6a46f-ed5f-405f-8ab9-d59d8f70eeb6\">\n",
              "    <div class=\"colab-df-container\">\n",
              "      <div>\n",
              "<style scoped>\n",
              "    .dataframe tbody tr th:only-of-type {\n",
              "        vertical-align: middle;\n",
              "    }\n",
              "\n",
              "    .dataframe tbody tr th {\n",
              "        vertical-align: top;\n",
              "    }\n",
              "\n",
              "    .dataframe thead th {\n",
              "        text-align: right;\n",
              "    }\n",
              "</style>\n",
              "<table border=\"1\" class=\"dataframe\">\n",
              "  <thead>\n",
              "    <tr style=\"text-align: right;\">\n",
              "      <th></th>\n",
              "      <th>label</th>\n",
              "      <th>precision</th>\n",
              "      <th>recall</th>\n",
              "    </tr>\n",
              "  </thead>\n",
              "  <tbody>\n",
              "    <tr>\n",
              "      <th>1</th>\n",
              "      <td>1</td>\n",
              "      <td>0.954</td>\n",
              "      <td>0.995825</td>\n",
              "    </tr>\n",
              "    <tr>\n",
              "      <th>8</th>\n",
              "      <td>8</td>\n",
              "      <td>0.964</td>\n",
              "      <td>0.972755</td>\n",
              "    </tr>\n",
              "    <tr>\n",
              "      <th>9</th>\n",
              "      <td>9</td>\n",
              "      <td>0.950</td>\n",
              "      <td>0.966429</td>\n",
              "    </tr>\n",
              "    <tr>\n",
              "      <th>5</th>\n",
              "      <td>5</td>\n",
              "      <td>0.970</td>\n",
              "      <td>0.961348</td>\n",
              "    </tr>\n",
              "    <tr>\n",
              "      <th>7</th>\n",
              "      <td>7</td>\n",
              "      <td>0.954</td>\n",
              "      <td>0.940828</td>\n",
              "    </tr>\n",
              "    <tr>\n",
              "      <th>3</th>\n",
              "      <td>3</td>\n",
              "      <td>0.876</td>\n",
              "      <td>0.890244</td>\n",
              "    </tr>\n",
              "    <tr>\n",
              "      <th>0</th>\n",
              "      <td>0</td>\n",
              "      <td>0.841</td>\n",
              "      <td>0.814134</td>\n",
              "    </tr>\n",
              "    <tr>\n",
              "      <th>4</th>\n",
              "      <td>4</td>\n",
              "      <td>0.792</td>\n",
              "      <td>0.782609</td>\n",
              "    </tr>\n",
              "    <tr>\n",
              "      <th>2</th>\n",
              "      <td>2</td>\n",
              "      <td>0.793</td>\n",
              "      <td>0.773659</td>\n",
              "    </tr>\n",
              "    <tr>\n",
              "      <th>6</th>\n",
              "      <td>6</td>\n",
              "      <td>0.672</td>\n",
              "      <td>0.678103</td>\n",
              "    </tr>\n",
              "  </tbody>\n",
              "</table>\n",
              "</div>\n",
              "      <button class=\"colab-df-convert\" onclick=\"convertToInteractive('df-9ec6a46f-ed5f-405f-8ab9-d59d8f70eeb6')\"\n",
              "              title=\"Convert this dataframe to an interactive table.\"\n",
              "              style=\"display:none;\">\n",
              "        \n",
              "  <svg xmlns=\"http://www.w3.org/2000/svg\" height=\"24px\"viewBox=\"0 0 24 24\"\n",
              "       width=\"24px\">\n",
              "    <path d=\"M0 0h24v24H0V0z\" fill=\"none\"/>\n",
              "    <path d=\"M18.56 5.44l.94 2.06.94-2.06 2.06-.94-2.06-.94-.94-2.06-.94 2.06-2.06.94zm-11 1L8.5 8.5l.94-2.06 2.06-.94-2.06-.94L8.5 2.5l-.94 2.06-2.06.94zm10 10l.94 2.06.94-2.06 2.06-.94-2.06-.94-.94-2.06-.94 2.06-2.06.94z\"/><path d=\"M17.41 7.96l-1.37-1.37c-.4-.4-.92-.59-1.43-.59-.52 0-1.04.2-1.43.59L10.3 9.45l-7.72 7.72c-.78.78-.78 2.05 0 2.83L4 21.41c.39.39.9.59 1.41.59.51 0 1.02-.2 1.41-.59l7.78-7.78 2.81-2.81c.8-.78.8-2.07 0-2.86zM5.41 20L4 18.59l7.72-7.72 1.47 1.35L5.41 20z\"/>\n",
              "  </svg>\n",
              "      </button>\n",
              "      \n",
              "  <style>\n",
              "    .colab-df-container {\n",
              "      display:flex;\n",
              "      flex-wrap:wrap;\n",
              "      gap: 12px;\n",
              "    }\n",
              "\n",
              "    .colab-df-convert {\n",
              "      background-color: #E8F0FE;\n",
              "      border: none;\n",
              "      border-radius: 50%;\n",
              "      cursor: pointer;\n",
              "      display: none;\n",
              "      fill: #1967D2;\n",
              "      height: 32px;\n",
              "      padding: 0 0 0 0;\n",
              "      width: 32px;\n",
              "    }\n",
              "\n",
              "    .colab-df-convert:hover {\n",
              "      background-color: #E2EBFA;\n",
              "      box-shadow: 0px 1px 2px rgba(60, 64, 67, 0.3), 0px 1px 3px 1px rgba(60, 64, 67, 0.15);\n",
              "      fill: #174EA6;\n",
              "    }\n",
              "\n",
              "    [theme=dark] .colab-df-convert {\n",
              "      background-color: #3B4455;\n",
              "      fill: #D2E3FC;\n",
              "    }\n",
              "\n",
              "    [theme=dark] .colab-df-convert:hover {\n",
              "      background-color: #434B5C;\n",
              "      box-shadow: 0px 1px 3px 1px rgba(0, 0, 0, 0.15);\n",
              "      filter: drop-shadow(0px 1px 2px rgba(0, 0, 0, 0.3));\n",
              "      fill: #FFFFFF;\n",
              "    }\n",
              "  </style>\n",
              "\n",
              "      <script>\n",
              "        const buttonEl =\n",
              "          document.querySelector('#df-9ec6a46f-ed5f-405f-8ab9-d59d8f70eeb6 button.colab-df-convert');\n",
              "        buttonEl.style.display =\n",
              "          google.colab.kernel.accessAllowed ? 'block' : 'none';\n",
              "\n",
              "        async function convertToInteractive(key) {\n",
              "          const element = document.querySelector('#df-9ec6a46f-ed5f-405f-8ab9-d59d8f70eeb6');\n",
              "          const dataTable =\n",
              "            await google.colab.kernel.invokeFunction('convertToInteractive',\n",
              "                                                     [key], {});\n",
              "          if (!dataTable) return;\n",
              "\n",
              "          const docLinkHtml = 'Like what you see? Visit the ' +\n",
              "            '<a target=\"_blank\" href=https://colab.research.google.com/notebooks/data_table.ipynb>data table notebook</a>'\n",
              "            + ' to learn more about interactive tables.';\n",
              "          element.innerHTML = '';\n",
              "          dataTable['output_type'] = 'display_data';\n",
              "          await google.colab.output.renderOutput(dataTable, element);\n",
              "          const docLink = document.createElement('div');\n",
              "          docLink.innerHTML = docLinkHtml;\n",
              "          element.appendChild(docLink);\n",
              "        }\n",
              "      </script>\n",
              "    </div>\n",
              "  </div>\n",
              "  "
            ],
            "text/plain": [
              "   label  precision    recall\n",
              "1      1      0.954  0.995825\n",
              "8      8      0.964  0.972755\n",
              "9      9      0.950  0.966429\n",
              "5      5      0.970  0.961348\n",
              "7      7      0.954  0.940828\n",
              "3      3      0.876  0.890244\n",
              "0      0      0.841  0.814134\n",
              "4      4      0.792  0.782609\n",
              "2      2      0.793  0.773659\n",
              "6      6      0.672  0.678103"
            ]
          },
          "metadata": {},
          "execution_count": 29
        }
      ],
      "source": [
        "pr_rc_result.sort_values(by='recall', ascending=False)"
      ]
    },
    {
      "cell_type": "code",
      "execution_count": null,
      "id": "nutritional-prescription",
      "metadata": {
        "id": "nutritional-prescription"
      },
      "outputs": [],
      "source": [
        "d = {0: 'футболка/клубка',\n",
        "     1: 'Брюки',\n",
        "     2: 'Пуловер',\n",
        "     3: 'Платье',\n",
        "     4: 'Пальто',\n",
        "     5: 'Сандал',\n",
        "     6: 'Рубашка',\n",
        "     7: 'Кроссовок',\n",
        "     8: 'Сумка',\n",
        "     9: 'Ботинок'}"
      ]
    },
    {
      "cell_type": "markdown",
      "id": "confident-manufacturer",
      "metadata": {
        "id": "confident-manufacturer"
      },
      "source": [
        "Получилось, что точнее всего наша модель предсказывает брюки, сандалии и сумки. Интересно, что кроссовки и ботинки тоже наверху списков, то есть модель их не путает. <br>\n",
        "Хуже всего модель предсказывает футболки, пуловеры, пальто и рубашки. Их, видимо, проще спутать."
      ]
    },
    {
      "cell_type": "markdown",
      "id": "western-playback",
      "metadata": {
        "id": "western-playback"
      },
      "source": [
        "Посмотрим, ради интереса, на все представленные категории."
      ]
    },
    {
      "cell_type": "code",
      "execution_count": null,
      "id": "exciting-rider",
      "metadata": {
        "id": "exciting-rider"
      },
      "outputs": [],
      "source": [
        "ind = []\n",
        "for i in range(10):\n",
        "    ind.append(np.where(y_test_labels == i)[0][0])"
      ]
    },
    {
      "cell_type": "code",
      "execution_count": null,
      "id": "dense-longer",
      "metadata": {
        "colab": {
          "base_uri": "https://localhost:8080/",
          "height": 237
        },
        "id": "dense-longer",
        "outputId": "6bd18ea3-3e1c-4a71-a5c9-ad839b680f9e"
      },
      "outputs": [
        {
          "output_type": "display_data",
          "data": {
            "image/png": "[encoded data removed]",
            "text/plain": [
              "<Figure size 2160x360 with 10 Axes>"
            ]
          },
          "metadata": {
            "needs_background": "light"
          }
        }
      ],
      "source": [
        "plt.figure(figsize=(3 * 10, 5))\n",
        "k = 0\n",
        "for i in ind:\n",
        "    plt.subplot(1, 10, k+1)\n",
        "    k+=1\n",
        "    plt.imshow(X_test[i,:].reshape(28, 28))\n",
        "    plt.xlabel('true:' + str(d[y_test_labels[i]]) + '\\n pred:' + str(d[y_pred_class[i]]))\n",
        "\n",
        "plt.show() "
      ]
    }
  ],
  "metadata": {
    "kernelspec": {
      "display_name": "Python 3",
      "language": "python",
      "name": "python3"
    },
    "language_info": {
      "codemirror_mode": {
        "name": "ipython",
        "version": 3
      },
      "file_extension": ".py",
      "mimetype": "text/x-python",
      "name": "python",
      "nbconvert_exporter": "python",
      "pygments_lexer": "ipython3",
      "version": "3.7.8"
    },
    "colab": {
      "provenance": [],
      "collapsed_sections": []
    }
  },
  "nbformat": 4,
  "nbformat_minor": 5
}